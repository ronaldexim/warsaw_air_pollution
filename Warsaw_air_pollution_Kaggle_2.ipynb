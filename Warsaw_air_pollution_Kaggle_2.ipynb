{
 "cells": [
  {
   "cell_type": "markdown",
   "metadata": {},
   "source": [
    "### Koncepcje\n",
    "Jak kilka osób na Slacku mnie też dopadł problem przestawienia się ze zwykłej analizy danych na time series.\n",
    "Brakowało mi kolumn w zbiorze testowym na podstawie których mogłem robić predykcję.\n",
    "\n",
    "Po chwili dotarło do mnie, że tak ma być.\n",
    "Model działa na wierszach więc musiałem uzupełnić dane dla test.\n",
    "\n",
    "Proponowana na kursie koncepcja to przesunięcie danych o wymaganą ilość danych do predykcji.\n",
    "W naszym przypadku było to 24.  \n",
    "Obcinało to z naszego train 1200 wierszy (50 kawałków po 24h). Na produkcji dane będą bez tych 3-dniowych luk więc problem będzie mniejszy (tylko 24 stracone wiersze).\n",
    "\n",
    "Zastosowanie tej metody, skali logarytmiczne/zwykłej, średniej z pm25 i odległosci od tej średniej a także .rolling kolumn numerycznych dało mi miejsce ~10 z wynikiem rmse ~17.\n",
    "\n",
    "Zastosowałem więc inną metodę. Wytrenowałem 24 modele, z których każdy dokonywał predykcji o n godzin do przodu. Np. o 6:00 jeden prognozował 6+1, kolejny 6+2 itd. aż do 6+24.  \n",
    "Każdy z modeli wykorzystywał cały train poza ostatnim wierszem z każdego bloku. Ten ostatni wiersz (tylko on) służy nam do predykcji 24 kolejnych punktów.  \n",
    "Tracimy wtedy 50 wierszy. Na produkcji muszę pominąć tylko jeden wiersz.  \n",
    "\n",
    "Zamiast przesuwać train o 24 wiersze do przodu przesuwamy y o jeden wiersz do tyłu. Trenujemy pierwszy model. Dokonujemy predykcji dla ostatniego wiersza. Uzyskaną wartość wpisujemy do y w lukę powstałą po jej przesunięciu do tyłu. Przesuwamy y o kolejny wiersz, trenujemy kolejny model, robimy predykcję z ostatniego wiersza, dopisujemy do y itd aż do 24 przesunięć.  \n",
    "Możemy tak zrobić też dla 6, 48 czy 72 wierszy - tyle modeli uzyskamy.\n",
    "\n",
    "Minusy takiego podejścia:  \n",
    "- jest konieczność trenowania 24 modeli zamiast jednego - w zależności od parametrów modelu i mocy komputera zajmowało to 1-20 minut\n",
    "- musimy opierać się o dane wyliczane z modelu, niedokładność będzie się kumulować \n",
    "> możemy tego uniknąć używając ostatnie 24 (48, 72) wiersze do walidacji i wyłączyć je ze zbioru treningowego.\n",
    "- problem z walidacją i krzywymi uczenia (?trzeba podać przesunięty y?)"
   ]
  },
  {
   "cell_type": "code",
   "execution_count": 1,
   "metadata": {},
   "outputs": [],
   "source": [
    "import pandas as pd\n",
    "import numpy as np\n",
    "import matplotlib.pyplot as plt\n",
    "from tqdm import tqdm_notebook as tqdm\n",
    "from ipywidgets import interact\n",
    "import gc\n",
    "import pickle\n",
    "from os import path\n",
    "\n",
    "np.random.seed(0)\n",
    "\n",
    "from sklearn.model_selection import KFold, TimeSeriesSplit, cross_val_score, train_test_split\n",
    "from sklearn.metrics import mean_squared_error, mean_absolute_error, r2_score, make_scorer, accuracy_score\n",
    "from ml_metrics import rmse\n",
    "\n",
    "from scikitplot.estimators import plot_learning_curve\n",
    "\n",
    "from functools import partial\n",
    "from hyperopt import hp\n",
    "from hyperopt import hp, fmin, tpe, STATUS_OK, Trials\n",
    "\n",
    "import xgboost as xgb\n",
    "\n",
    "import warnings\n",
    "warnings.filterwarnings('ignore')\n",
    "%matplotlib inline"
   ]
  },
  {
   "cell_type": "code",
   "execution_count": 2,
   "metadata": {},
   "outputs": [],
   "source": [
    "def beginFE():\n",
    "    \n",
    "    for one in globals().copy().keys():\n",
    "        if one.endswith('_feats'):\n",
    "            del globals()[one]\n",
    "            \n",
    "    global df, parts, time_feats, black_list_feats, num_feats, omit_feats\n",
    "    \n",
    "    train = pd.read_hdf('train_warsaw.h5')\n",
    "    train = train.rename(columns={'timestamp': 'date'}).reset_index()\n",
    "    train.drop( columns=['timestamp'], inplace = True)\n",
    "    test = pd.read_hdf('test_warsaw.h5')\n",
    "    test = test.rename(columns={'timestamp': 'date'}).reset_index()\n",
    "    test.drop( columns=['timestamp'], inplace = True)\n",
    "    \n",
    "    df = pd.concat([train, test], sort=True)\n",
    "    df.sort_values(['date', 'id'], inplace=True)\n",
    "           \n",
    "    df['hour']    = df.date.dt.hour\n",
    "    df['day_m']   = df.date.dt.day\n",
    "    df['month']   = df.date.dt.month\n",
    "    df['year']    = df.date.dt.year\n",
    "    df['week_y']  = df.date.dt.week\n",
    "    df['day_y']   = df.date.dt.dayofyear\n",
    "    df['day_w']   = df.date.dt.dayofweek\n",
    "    df['quarter'] = df.date.dt.quarter\n",
    "    df['hour_w']  = df.date.dt.hour + df.date.dt.dayofweek * 24\n",
    "    \n",
    "    df['pm25_log']      = np.log(df[ df['pm25']>0 ]['pm25']+1)\n",
    "    \n",
    "    time_feats = ['quarter', 'month', 'week_y', 'day_y', 'day_m', 'day_w', 'hour', 'hour_w', 'year']\n",
    "    black_list_feats = ['id', 'pm25', 'pm25_log', 'is_non_cont', 'id_dif', 'd_time', 'cont_nr']\n",
    "    \n",
    "def endFE():\n",
    "    \n",
    "    global train, test, parts, num_feats, omit_feats\n",
    "    \n",
    "    # listy kawałków\n",
    "    def count_cont_nr(flag):\n",
    "        global value\n",
    "        if flag:\n",
    "            value = 1\n",
    "        else:\n",
    "            value += 1\n",
    "        return int(value)\n",
    "    \n",
    "    df['is_non_cont'] = df.shift(1).id != (df.id - 1)\n",
    "    df['id_dif'] = (df.id - df.shift(1).id).fillna(0).astype(int)\n",
    "    df['d_time'] = df.date - df.shift(1).date\n",
    "    df.reset_index(drop=True, inplace=True)\n",
    "    df['cont_nr'] = df.apply(lambda x: count_cont_nr(x['is_non_cont']), axis=1)\n",
    "    begin_idx = df.loc[df['is_non_cont']].index.values.astype(int)\n",
    "    end_idx = (df.shift(1).loc[df['is_non_cont']]['cont_nr'].shift(-1) + \n",
    "               df.loc[df['is_non_cont']].index.values).values.astype(int)\n",
    "    end_idx[-1] = int(len(df))\n",
    "    \n",
    "    num_feats = df.select_dtypes(include=[np.number, bool]).columns.values\n",
    "    num_feats = [feat for feat in num_feats if feat not in black_list_feats]\n",
    "    omit_feats = [x for x in df.columns if x not in num_feats]\n",
    "            \n",
    "#     df.fillna(-1, inplace=True)\n",
    "\n",
    "    parts = []\n",
    "    for i in range(len(begin_idx)):\n",
    "        parts.append( df.iloc[ begin_idx[i] : (end_idx[i]) ].copy() )\n",
    "    train, test = df[ ~df.pm25.isnull() ], df[ df.pm25.isnull() ]\n",
    "       \n",
    "def print_feat_groups():   \n",
    "    feats_list = ['black_list_feats', 'omit_feats', 'num_feats', 'time_feats']\n",
    "    for one in feats_list:\n",
    "        if one in globals():\n",
    "            arr_feats = globals()[one]\n",
    "            if arr_feats:\n",
    "                print('--------------------------------------------------')\n",
    "                print(one, arr_feats)\n",
    "    print('--------------------------------------------------')"
   ]
  },
  {
   "cell_type": "markdown",
   "metadata": {},
   "source": [
    "Dodanie .shift(1) przy avg_mov pozwoliło liczyć średnią z przeszłości bez aktualnego pomiaru.  \n",
    "Jak się okazało dawało to gorsze wyniki.  \n",
    "Pierwszą koncepcją było liczenie odchylenia od średniej z ostatnich avg_len godzin.  \n",
    "Miała to być kolumna służąca do predykcji i przeliczenia na 'pm25'.  \n",
    "Nie zostało to zrealizowane ale kolumny 'avg_mov' i 'avg_diff' zostały.  \n",
    "Można sprawdzić teorię czy ich wyrzucenie poprawi wynik.  \n",
    "\n",
    "Drugim pomysłem pogarszającym predykcję było przycięcie wartości 'avg_diff' do zakresu +/- 30 ('cap' / 'no cap')."
   ]
  },
  {
   "cell_type": "code",
   "execution_count": 3,
   "metadata": {},
   "outputs": [],
   "source": [
    "def feature_engineering_avg(avg_len=24):\n",
    "    \n",
    "    beginFE()\n",
    "    \n",
    "    df['windSpeed_log'] = (np.log(df[ df['windSpeed']>0 ]['windSpeed']+5))\n",
    "    df['windGust_log']  = (np.log(df[ df['windGust']>0  ]['windGust']+2))\n",
    "    \n",
    "    obj_feats = df.select_dtypes(np.object).columns\n",
    "    for feat in obj_feats:\n",
    "        df[feat + '_cat'] = df[feat].factorize()[0]\n",
    "        \n",
    "    df['avg_mov'] = df['pm25'].shift(1).rolling( window=avg_len, min_periods=1).mean()\n",
    "    df['avg_diff'] = df.apply(lambda x: x['pm25']-x['avg_mov'], axis=1)\n",
    "    \n",
    "#     df['avg_diff'][df['avg_diff'] > 30] = 30                                   # cap value\n",
    "#     df['avg_diff'][df['avg_diff'] < -30] = -30\n",
    "    \n",
    "    endFE()\n",
    "\n",
    "    return num_feats, None, parts, df"
   ]
  },
  {
   "cell_type": "code",
   "execution_count": 4,
   "metadata": {},
   "outputs": [],
   "source": [
    "def feature_engineering_avg_no_shift(avg_len=24):\n",
    "    \n",
    "    beginFE()\n",
    "    \n",
    "    df['windSpeed_log'] = (np.log(df[ df['windSpeed']>0 ]['windSpeed']+5))\n",
    "    df['windGust_log']  = (np.log(df[ df['windGust']>0  ]['windGust']+2))\n",
    "    \n",
    "    obj_feats = df.select_dtypes(np.object).columns\n",
    "    for feat in obj_feats:\n",
    "        df[feat + '_cat'] = df[feat].factorize()[0]\n",
    "        \n",
    "    df['avg_mov'] = df['pm25'].rolling( window=avg_len, min_periods=1).mean()\n",
    "    df['avg_diff'] = df.apply(lambda x: x['pm25']-x['avg_mov'], axis=1)\n",
    "    \n",
    "#     df['avg_diff'][df['avg_diff'] > 30] = 30                                   # cap value\n",
    "#     df['avg_diff'][df['avg_diff'] < -30] = -30\n",
    "    \n",
    "    endFE()\n",
    "\n",
    "    return num_feats, None, parts, df"
   ]
  },
  {
   "cell_type": "code",
   "execution_count": 5,
   "metadata": {},
   "outputs": [],
   "source": [
    "def feature_engineering_clean():\n",
    "    \n",
    "    beginFE()\n",
    "    \n",
    "    df['windSpeed_log'] = (np.log(df[ df['windSpeed']>0 ]['windSpeed']+5))\n",
    "    df['windGust_log']  = (np.log(df[ df['windGust']>0  ]['windGust']+2))\n",
    "    \n",
    "    obj_feats = df.select_dtypes(np.object).columns\n",
    "    for feat in obj_feats:\n",
    "        df[feat + '_cat'] = df[feat].factorize()[0]\n",
    "        \n",
    "#     df['avg_mov'] = df['pm25'].shift(1).rolling( window=avg_len, min_periods=1).mean()\n",
    "#     df['avg_diff'] = df.apply(lambda x: x['pm25']-x['avg_mov'], axis=1)\n",
    "    \n",
    "#     df['avg_diff'][df['avg_diff'] > 30] = 30                                   # cap value\n",
    "#     df['avg_diff'][df['avg_diff'] < -30] = -30\n",
    "    \n",
    "    endFE()\n",
    "\n",
    "    return num_feats, None, parts, df"
   ]
  },
  {
   "cell_type": "code",
   "execution_count": 6,
   "metadata": {},
   "outputs": [],
   "source": [
    "def feature_engineering_time():\n",
    "    \n",
    "    beginFE()\n",
    "    \n",
    "    \n",
    "    endFE()\n",
    "\n",
    "    return time_feats, None, parts, df"
   ]
  },
  {
   "cell_type": "markdown",
   "metadata": {},
   "source": [
    "Kolejna koncepcja - uśrednienie zmiennych numerycznych (poza pochodnymi czasu i kategorialnymi).  \n",
    "Modyfikacja tego pomysłu dała najlepszy wynik jeśli chodzi o feature_engineering.  \n",
    "Tworzono kolumny dla róznych okresów .rolling (np. 6, 12) i funkcji ('min', 'max', 'mean', 'median')."
   ]
  },
  {
   "cell_type": "code",
   "execution_count": 7,
   "metadata": {},
   "outputs": [],
   "source": [
    "def feature_engineering_aggr(avg_len=6):\n",
    "    \n",
    "    beginFE()\n",
    "    \n",
    "    df['windSpeed_log'] = (np.log(df[ df['windSpeed']>0 ]['windSpeed']+5))\n",
    "    df['windGust_log']  = (np.log(df[ df['windGust']>0  ]['windGust']+2))\n",
    "    \n",
    "    obj_feats = df.select_dtypes(np.object).columns\n",
    "    for feat in obj_feats:\n",
    "        df[feat + '_cat'] = df[feat].factorize()[0]\n",
    "        \n",
    "    past_feats = df.select_dtypes(include=[np.number, bool]).columns.values\n",
    "    past_feats = [feat for feat in past_feats if feat not in black_list_feats]\n",
    "    past_feats = [feat for feat in past_feats if feat not in time_feats]\n",
    "    \n",
    "    roll_columns = [feat for feat in past_feats if not feat.endswith('_cat')]   \n",
    "    roll_nr = [6, 12]\n",
    "    agr_fn = ['min', 'max', 'mean', 'median']\n",
    "    for r_feat in roll_columns:\n",
    "        for fn in agr_fn:\n",
    "            for nr in roll_nr:    \n",
    "                suffix = '_roll{}{}'.format(nr, fn)\n",
    "                df[r_feat + suffix] = getattr(df[r_feat].rolling(nr), fn)()\n",
    "    roll_feats = [feat for feat in df.columns if '_roll' in feat]\n",
    "        \n",
    "    df['avg_mov'] = df['pm25'].shift(1).rolling( window=avg_len, min_periods=1).mean()\n",
    "    df['avg_diff'] = df.apply(lambda x: x['pm25']-x['avg_mov'], axis=1)\n",
    "    \n",
    "#     df['avg_diff'][df['avg_diff'] > 30] = 30                                   # cap value\n",
    "#     df['avg_diff'][df['avg_diff'] < -30] = -30\n",
    "    \n",
    "    endFE()\n",
    "\n",
    "    return num_feats, None, parts, df"
   ]
  },
  {
   "cell_type": "code",
   "execution_count": 8,
   "metadata": {},
   "outputs": [],
   "source": [
    "def feature_engineering_aggr_no_shift(avg_len=6):\n",
    "    \n",
    "    beginFE()\n",
    "    \n",
    "    df['windSpeed_log'] = (np.log(df[ df['windSpeed']>0 ]['windSpeed']+5))\n",
    "    df['windGust_log']  = (np.log(df[ df['windGust']>0  ]['windGust']+2))\n",
    "    \n",
    "    obj_feats = df.select_dtypes(np.object).columns\n",
    "    for feat in obj_feats:\n",
    "        df[feat + '_cat'] = df[feat].factorize()[0]\n",
    "        \n",
    "    past_feats = df.select_dtypes(include=[np.number, bool]).columns.values\n",
    "    past_feats = [feat for feat in past_feats if feat not in black_list_feats]\n",
    "    past_feats = [feat for feat in past_feats if feat not in time_feats]\n",
    "    \n",
    "    roll_columns = [feat for feat in past_feats if not feat.endswith('_cat')]   \n",
    "    roll_nr = [6, 12]\n",
    "    agr_fn = ['min', 'max', 'mean', 'median']\n",
    "    for r_feat in roll_columns:\n",
    "        for fn in agr_fn:\n",
    "            for nr in roll_nr:    \n",
    "                suffix = '_roll{}{}'.format(nr, fn)\n",
    "                df[r_feat + suffix] = getattr(df[r_feat].rolling(nr), fn)()\n",
    "    roll_feats = [feat for feat in df.columns if '_roll' in feat]\n",
    "        \n",
    "    df['avg_mov'] = df['pm25'].rolling( window=avg_len, min_periods=1).mean()\n",
    "    df['avg_diff'] = df.apply(lambda x: x['pm25']-x['avg_mov'], axis=1)\n",
    "    \n",
    "#     df['avg_diff'][df['avg_diff'] > 30] = 30                                   # cap value\n",
    "#     df['avg_diff'][df['avg_diff'] < -30] = -30\n",
    "    \n",
    "    endFE()\n",
    "\n",
    "    return num_feats, None, parts, df"
   ]
  },
  {
   "cell_type": "code",
   "execution_count": 9,
   "metadata": {},
   "outputs": [
    {
     "data": {
      "text/plain": [
       "((40152, 36), (38952, 36), (1200, 36), 50, 9)"
      ]
     },
     "execution_count": 9,
     "metadata": {},
     "output_type": "execute_result"
    }
   ],
   "source": [
    "num_feats, _, parts, df = feature_engineering_time()\n",
    "feats = num_feats\n",
    "df.shape, train.shape, test.shape, len(parts), len(feats)"
   ]
  },
  {
   "cell_type": "code",
   "execution_count": 10,
   "metadata": {},
   "outputs": [
    {
     "name": "stdout",
     "output_type": "stream",
     "text": [
      "--------------------------------------------------\n",
      "black_list_feats ['id', 'pm25', 'pm25_log', 'is_non_cont', 'id_dif', 'd_time', 'cont_nr']\n",
      "--------------------------------------------------\n",
      "omit_feats ['date', 'icon', 'id', 'pm25', 'precipType', 'summary', 'pm25_log', 'is_non_cont', 'id_dif', 'd_time', 'cont_nr']\n",
      "--------------------------------------------------\n",
      "num_feats ['quarter', 'month', 'week_y', 'day_y', 'day_m', 'day_w', 'hour', 'hour_w', 'year']\n",
      "--------------------------------------------------\n",
      "time_feats ['quarter', 'month', 'week_y', 'day_y', 'day_m', 'day_w', 'hour', 'hour_w', 'year']\n",
      "--------------------------------------------------\n"
     ]
    }
   ],
   "source": [
    "print_feat_groups()"
   ]
  },
  {
   "cell_type": "code",
   "execution_count": 11,
   "metadata": {},
   "outputs": [],
   "source": [
    "def run_model_parts(model, params, parts=parts, feats=feats, y_log=False, cv=None, folds=4, max_train_size=None):\n",
    "    \n",
    "    y_test_all, y_pred_all, scores, cv_scores, models = np.array([]), np.array([]), [], [], []\n",
    "\n",
    "    for x in np.arange(24): \n",
    "        models.append(model(**params))\n",
    "    \n",
    "    for train in tqdm(parts):                               # kolejne paczki danych train + test(24)\n",
    "  \n",
    "        X = train[feats].values\n",
    "        if y_log:\n",
    "            y = (train['pm25_log'].values).astype(np.float64)\n",
    "        else:\n",
    "            y = (train['pm25'].values).astype(np.float64)      \n",
    "        X_new = X[-25:-24]                                   # ostatni wiersz train używany do predykcji\n",
    "            \n",
    "        for i in np.arange(24):\n",
    "            y = pd.Series(y).shift(-1).values                # przesunięcie y o jeden w przeszłość\n",
    "            X_train = X[0:-25]                               # pomija 24+1 \n",
    "            y_train = y[0:-25]\n",
    "            \n",
    "            if cv:\n",
    "                nr_folds = int((X_train.shape[0] // 24))     # ilość foldów równa ilości dni w paczce\n",
    "                if folds: nr_folds = folds\n",
    "                if max_train_size: \n",
    "                    cv_local = cv(n_splits=nr_folds, max_train_size=max_train_size)\n",
    "                else:\n",
    "                    cv_local = cv(n_splits=nr_folds)\n",
    "                for train_idx, test_idx in cv_local.split(X_train, y_train):\n",
    "                    X_fold_train, X_fold_test = X_train[train_idx], X_train[test_idx]\n",
    "                    y_fold_train, y_fold_test = y_train[train_idx], y_train[test_idx]\n",
    "                    models[i].fit(X_fold_train, y_fold_train)\n",
    "                    y_fold_pred = (models[i].predict(X_fold_test))\n",
    "                    if y_log:\n",
    "                        y_fold_test = np.exp(y_fold_test)-1\n",
    "                        y_fold_pred = np.exp(y_fold_pred)-1 \n",
    "                    cv_scores.append( rmse(y_fold_test, y_fold_pred) )\n",
    "            else:\n",
    "                models[i].fit(X_train, y_train)                        \n",
    "            y_new = (models[i].predict(X_new)).astype(np.float64)   # wyliczanie y dla ostatniego wiersza            \n",
    "            y[-25] = y_new[0]                                       # zapisanie w luce\n",
    "        \n",
    "        y_test = y[-73:-49]     # dane z ostatniego dnia train\n",
    "                                # używane do wątpliwej walidacji - porównuje ostatni dzień train z predykcja\n",
    "        y_pred = y[-49:-25]     # tu błąd powinno być y[-48:-24], pobierał jedną daną real, pomijał ostatnią z predykcji\n",
    "                                # tu mamy naszą prognozę na kolejne 24h\n",
    "        if y_log:\n",
    "            y_test = np.exp(y_test)-1\n",
    "            y_pred = np.exp(y_pred)-1\n",
    "        \n",
    "        scores.append(rmse(y_test, y_pred))\n",
    "        y_test_all = np.concatenate((y_test_all, y_test))\n",
    "        y_pred_all = np.concatenate((y_pred_all, y_pred))    \n",
    "    \n",
    "#     print(\"part scores\", np.mean(scores), np.std(scores))\n",
    "#     if len(cv_scores)>0: \n",
    "#         print(\"\\nCV scores\", np.mean(cv_scores), np.std(cv_scores))\n",
    "#     score = \"global rmse, mae, r2\", rmse(y_test_all, y_pred_all), mean_absolute_error(y_test_all, y_pred_all), \\\n",
    "#                             r2_score(y_test_all, y_pred_all)\n",
    "#     print(score)\n",
    "#     \n",
    "#     print('CV: {}, folds: {}, logaritm: {}, \\nmodel: {}, \\nparams: {}'.format(cv, folds, y_log, model, params))\n",
    "       \n",
    "    return(models, y_test_all, y_pred_all, scores)"
   ]
  },
  {
   "cell_type": "code",
   "execution_count": 12,
   "metadata": {},
   "outputs": [],
   "source": [
    "# walidacja modeli w oparciu o shift i zgodność predykcji z wartościami train\n",
    "# każdy model generuje krzywą przesuniętą o n godzin\n",
    "# sprawdzamy jakie przesunięcie modelu daje najniższy błąd train do pred\n",
    "# sprawdzamy 2-3 przesunięcia względem numeru modelu\n",
    "# problemem tej walidacji były osiągane przy hyperopt bardzo niskie wartości rmse - nawet 0.0001\n",
    "# nie gwarantowała też rankingu zgodnego z Kagglem.\n",
    "# wszystkie wartości 'best_shifts' powinny być równe, złe modele miały jedną wartość przesuniętą (np. z 4 na 5)\n",
    "\n",
    "def validate_model(name, log_y, long = 1200, side=3):\n",
    "    with open(name, 'rb') as f:\n",
    "        result = pickle.load(f)\n",
    "    if len(result) == 4:\n",
    "        models, y_test_all, y_pred_all, scores = result\n",
    "    if len(result) == 9:\n",
    "        global_scores, last_day_scores, models, y_pred_all, train_df, last_days_df, y_train_all, y_last_days, y_last_pred \\\n",
    "            = result  \n",
    "    g_scores = np.array([])\n",
    "    best_shifts = []\n",
    "    for i in tqdm(np.arange(24)):\n",
    "        model = models[i]\n",
    "        scores = np.array([])\n",
    "        for shift in np.arange(-i-side, -i+side):\n",
    "            X = train[feats].values\n",
    "            y = train['pm25'].values\n",
    "            y = pd.Series(y).shift(shift).values\n",
    "            y_pred = (model.predict(X)).astype(np.float64)\n",
    "            if log_y: \n",
    "                y_pred = np.exp(y_pred)-1\n",
    "            if shift >= 0: \n",
    "                scores = np.append( scores, [rmse(y[-long:], y_pred[-long:])] )\n",
    "    #             print(shift, rmse(y[-long:], y_pred[-long:]), len(y[-long:]), len(y_pred[-long:]))\n",
    "            else: \n",
    "                scores = np.append( scores, [rmse(y[-long:shift], y_pred[-long:shift])] )\n",
    "    #             print(shift, rmse(y[-long:shift], y_pred[-long:shift]), len(y[-long:shift]), len(y_pred[-long:shift]))\n",
    "        print (scores[scores.argmin()])\n",
    "        g_scores = np.append( g_scores, [scores[scores.argmin()]] )\n",
    "        best_shifts.append(scores.argmin())\n",
    "    return g_scores, best_shifts"
   ]
  },
  {
   "cell_type": "code",
   "execution_count": 13,
   "metadata": {},
   "outputs": [],
   "source": [
    "# wersja pokazująca jedną wartość na model\n",
    "def validate_model2(name, log_y, long = 1200):\n",
    "    with open(name, 'rb') as f:\n",
    "        result = pickle.load(f)\n",
    "    if len(result) == 4:\n",
    "        models, y_test_all, y_pred_all, scores = result\n",
    "    if len(result) == 9:\n",
    "        global_scores, last_day_scores, models, y_pred_all, train_df, last_days_df, y_train_all, y_last_days, y_last_pred \\\n",
    "            = result  \n",
    "    g_scores = np.array([])\n",
    "    for i in tqdm(np.arange(24)):\n",
    "        model = models[i]\n",
    "        X = train[feats].values\n",
    "        y = train['pm25'].values\n",
    "        y = pd.Series(y).shift(-i-1).values\n",
    "        y_pred = (model.predict(X)).astype(np.float64)\n",
    "        if log_y: \n",
    "            y_pred = np.exp(y_pred)-1\n",
    "        g_scores = np.append( g_scores, [rmse(y[-long:-i-1], y_pred[-long:-i-1])] )\n",
    "        print(g_scores[-1], len(y[-long:-i-1]), len(y_pred[-long:-i-1]))\n",
    "    return g_scores"
   ]
  },
  {
   "cell_type": "raw",
   "metadata": {},
   "source": [
    "Koncepcja porównania modeli dla tego samego przesunięcia i wybranie najlepszych. Rozbiła się o brak zapisanego train i test dla każdego modelu oraz zamieszanie z kolumnami. Porzucono. ** Generuje błedy. **"
   ]
  },
  {
   "cell_type": "code",
   "execution_count": null,
   "metadata": {},
   "outputs": [],
   "source": [
    "result_files = ['avg_1.p', 'avg_2.p', 'avg_3.p', 'avg_4.p', 'avg_5.p', 'avg_6.p', 'avg_7.p', 'avg_8.p', 'avg_9.p', \n",
    "                'avg_10.p', 'avg_11.p', 'avg_12.p', 'avg_13.p', 'avg_14.p']\n",
    "side = 3\n",
    "for i in tqdm(np.arange(24)):\n",
    "    best = 1000\n",
    "    best_nr = 1000\n",
    "    for file in result_files:\n",
    "        with open(file, 'rb') as f:\n",
    "            models, y_test_all, y_pred_all, scores = pickle.load(f)\n",
    "        with open('df_'+file, 'rb') as f_df:\n",
    "            feats, parts, df, log_y = pickle.load(f_df)\n",
    "        train = df[ ~df.pm25.isnull() ]\n",
    "        scores = np.array([])\n",
    "        model = models[i]\n",
    "        for shift in np.arange(-i-side, -i+side):\n",
    "            X = train[feats].values\n",
    "            y = train['pm25'].values\n",
    "            y = pd.Series(y).shift(shift).values\n",
    "            y_pred = (model.predict(X)).astype(np.float64)\n",
    "            if log_y: \n",
    "                y_pred = np.exp(y_pred)-1\n",
    "            if shift >= 0: \n",
    "                scores = np.append( scores, [rmse(y[-long:], y_pred[-long:])] )\n",
    "            else: \n",
    "                scores = np.append( scores, [rmse(y[-long:shift], y_pred[-long:shift])] )\n",
    "        val_min = scores[scores.argmin()]\n",
    "        if val_min < best:\n",
    "            best = val_min\n",
    "            best_nr = scores.argmin()\n",
    "    print(i, file, best_nr, best)"
   ]
  },
  {
   "cell_type": "markdown",
   "metadata": {},
   "source": [
    "ponieważ predykcja z gotowego modelu dawała wyniki zbliżone do średniej próbowałem uwzględnic korektę predykcji na podstawie przedostatniego wyniku - efekty lepsze niż bez tego ale dużo gorsze niż predykcja cząstkowa po każdym .fit"
   ]
  },
  {
   "cell_type": "code",
   "execution_count": 14,
   "metadata": {},
   "outputs": [],
   "source": [
    "# bez korekty\n",
    "\n",
    "def simple_predict(name, log_y, shift, parts):\n",
    "    with open(name, 'rb') as f:\n",
    "        result = pickle.load(f)\n",
    "    if len(result) == 4:\n",
    "        models, y_test_all, y_pred_all, scores = result\n",
    "    if len(result) == 9:\n",
    "        global_scores, last_day_scores, models, y_pred_all, train_df, last_days_df, y_train_all, y_last_days, y_last_pred \\\n",
    "            = result    \n",
    "    y_pred = np.array([])\n",
    "    for part in parts:\n",
    "        X = part[feats].values\n",
    "        X_last_row = X[-shift-1:-shift]\n",
    "        for m in models:\n",
    "            y_hour = (m.predict(X_last_row)).astype(np.float64)\n",
    "            if log_y: \n",
    "                y_hour = np.exp(y_hour)-1\n",
    "            y_pred = np.append(y_pred, y_hour)\n",
    "    return y_pred"
   ]
  },
  {
   "cell_type": "code",
   "execution_count": 15,
   "metadata": {},
   "outputs": [],
   "source": [
    "# korekta dla przedostatniego wiersza i pierwszego modelu\n",
    "\n",
    "def make_predict(name, log_y, shift, parts):\n",
    "    with open(name, 'rb') as f:\n",
    "        result = pickle.load(f)\n",
    "    if len(result) == 4:\n",
    "        models, y_test_all, y_pred_all, scores = result\n",
    "    if len(result) == 9:\n",
    "        global_scores, last_day_scores, models, y_pred_all, train_df, last_days_df, y_train_all, y_last_days, y_last_pred \\\n",
    "            = result    \n",
    "    y_pred = np.array([])\n",
    "    for part in parts:\n",
    "        X = part[feats].values\n",
    "        y = part['pm25'].values\n",
    "        X_last_row = X[-shift-1:-shift]\n",
    "        y_last_row = y[-shift-1:-shift]\n",
    "        X_pre_last_row = X[-shift-2:-shift-1]\n",
    "        y_pre_last_pred = (models[0].predict(X_pre_last_row)).astype(np.float64)\n",
    "        if log_y: \n",
    "                y_pre_last_pred = np.exp(y_pre_last_pred)-1\n",
    "        correction = y_last_row - y_pre_last_pred\n",
    "        for m in models:\n",
    "            y_hour = (m.predict(X_last_row)).astype(np.float64)\n",
    "            if log_y: \n",
    "                y_hour = np.exp(y_hour)-1\n",
    "            y_pred = np.append(y_pred, [y_hour + correction])\n",
    "    return y_pred"
   ]
  },
  {
   "cell_type": "code",
   "execution_count": 16,
   "metadata": {},
   "outputs": [],
   "source": [
    "# podobnie jak poprzednio ale używa do korekty kolejnych wierszy dla kolejnych modeli zamiast przedostatniego wiersza\n",
    "\n",
    "def make_predict2(name, log_y, shift, parts):\n",
    "    with open(name, 'rb') as f:\n",
    "        result = pickle.load(f)\n",
    "    if len(result) == 4:\n",
    "        models, y_test_all, y_pred_all, scores = result\n",
    "    if len(result) == 9:\n",
    "        global_scores, last_day_scores, models, y_pred_all, train_df, last_days_df, y_train_all, y_last_days, y_last_pred \\\n",
    "            = result\n",
    "    y_pred = np.array([])\n",
    "    for part in parts:\n",
    "        X = part[feats].values\n",
    "        y = part['pm25'].values\n",
    "        X_last_row = X[-shift-1:-shift]\n",
    "        y_last_row = y[-shift-1:-shift]\n",
    "        X_pre_last_row = X[-shift-2:-shift-1]\n",
    "        for i in np.arange(24):\n",
    "            X_pre_last_row = X[-shift-2-i:-shift-1-i]\n",
    "            y_pre_last_pred = (models[i].predict(X_pre_last_row)).astype(np.float64)\n",
    "            if log_y: \n",
    "                y_pre_last_pred = np.exp(y_pre_last_pred)-1\n",
    "            correction = y_last_row - y_pre_last_pred\n",
    "            y_hour = (models[i].predict(X_last_row)).astype(np.float64)\n",
    "            if log_y: \n",
    "                y_hour = np.exp(y_hour)-1\n",
    "            y_pred = np.append(y_pred, [y_hour + correction])\n",
    "    return y_pred"
   ]
  },
  {
   "cell_type": "code",
   "execution_count": 17,
   "metadata": {},
   "outputs": [],
   "source": [
    "# walidacja wg ostatniego dnia każdej części z korektą j.w.\n",
    "\n",
    "def val_last_day(name, log_y):\n",
    "    with open(name, 'rb') as f:\n",
    "        result = pickle.load(f)\n",
    "    if len(result) == 4:\n",
    "        models, y_test_all, y_pred_all, scores = result\n",
    "    if len(result) == 9:\n",
    "        global_scores, last_day_scores, models, y_pred_all, train_df, last_days_df, y_train_all, y_last_days, y_last_pred \\\n",
    "            = result     \n",
    "    y_real, y_pred = np.array([]), np.array([])\n",
    "    for part in parts:\n",
    "        X = part[feats].values\n",
    "        y = part['pm25'].values\n",
    "        y_last_day = y[-48:-24]\n",
    "        X_last_row = X[-49:-48]\n",
    "        y_last_row = y[-49:-48]\n",
    "        X_pre_last_row = X[-50:-49]\n",
    "        y_last_row_pred = (models[0].predict(X_pre_last_row)).astype(np.float64)\n",
    "        if log_y: \n",
    "                y_last_row_pred = np.exp(y_last_row_pred)-1\n",
    "        correction = y_last_row - y_last_row_pred\n",
    "        for m in models:\n",
    "            y_hour_pred = (m.predict(X_last_row)).astype(np.float64)\n",
    "            if log_y: \n",
    "                y_hour_pred = np.exp(y_hour_pred)-1            \n",
    "            y_pred = np.append(y_pred, y_hour_pred + correction)\n",
    "        y_real = np.append(y_real, y_last_day)\n",
    "#     print(y_real.shape, y_pred.shape, rmse(y_real, y_pred))\n",
    "    return rmse(y_real, y_pred)"
   ]
  },
  {
   "cell_type": "code",
   "execution_count": 18,
   "metadata": {},
   "outputs": [],
   "source": [
    "def simple_predict_last(name, log_y, parts):\n",
    "    with open(name, 'rb') as f:\n",
    "        result = pickle.load(f)\n",
    "    if len(result) == 4:\n",
    "        models, y_test_all, y_pred_all, scores = result\n",
    "    if len(result) == 9:\n",
    "        global_scores, last_day_scores, models, y_pred_all, train_df, last_days_df, y_train_all, y_last_days, y_last_pred \\\n",
    "            = result\n",
    "    y_pred = np.array([])\n",
    "    for part in parts:\n",
    "        X = part[feats].values\n",
    "        X_pre = X[-49:-48]\n",
    "        for m in models:\n",
    "            y_hour = (m.predict(X_pre)).astype(np.float64)\n",
    "            if log_y: \n",
    "                y_hour = np.exp(y_hour)-1\n",
    "            y_pred = np.append(y_pred, y_hour)\n",
    "    return y_pred"
   ]
  },
  {
   "cell_type": "markdown",
   "metadata": {},
   "source": [
    "### Po wytrenowaniu modelu można ocenić wizualnie walidację dla ostatniego dnia"
   ]
  },
  {
   "cell_type": "code",
   "execution_count": 19,
   "metadata": {},
   "outputs": [],
   "source": [
    "name = 'avg_10.p'\n",
    "with open(name, 'rb') as f:\n",
    "    models, y_test_all, y_pred_all, scores = pickle.load(f)\n",
    "# with open('df_'+name, 'rb') as f:\n",
    "#     feats, parts, df, log_y = pickle.load(f)\n",
    "feats, _, parts, df = feature_engineering_avg_no_shift()\n",
    "nr=0"
   ]
  },
  {
   "cell_type": "markdown",
   "metadata": {},
   "source": [
    "### walidacja ostatniego dnia, predykcja z finalnego modelu z uwzględnieniem korekty na ostatni wiersz train"
   ]
  },
  {
   "cell_type": "code",
   "execution_count": 20,
   "metadata": {},
   "outputs": [
    {
     "data": {
      "application/vnd.jupyter.widget-view+json": {
       "model_id": "9dfdd4504c9944aaabf458f8e33d1bc7",
       "version_major": 2,
       "version_minor": 0
      },
      "text/plain": [
       "interactive(children=(IntSlider(value=0, description='part_nr', max=49), Checkbox(value=False, description='lo…"
      ]
     },
     "metadata": {},
     "output_type": "display_data"
    }
   ],
   "source": [
    "@interact(part_nr=(0, 49))\n",
    "\n",
    "def final_correction(part_nr=0, log_y = False):\n",
    "    y_pred = np.array([])\n",
    "    y_no_corr = np.array([])\n",
    "    X = parts[part_nr][feats].values\n",
    "    y = parts[part_nr]['pm25'].values\n",
    "    y_last_day = y[-48:-24]\n",
    "    y_real = y[-72:-24]\n",
    "    X_last_row = X[-49:-48]\n",
    "    y_last_row = y[-49:-48]\n",
    "    X_pre_last_row = X[-50:-49]\n",
    "    y_last_row_pred = (models[0].predict(X_pre_last_row)).astype(np.float64)\n",
    "    if log_y: \n",
    "            y_last_row_pred = np.exp(y_last_row_pred)-1\n",
    "    correction = y_last_row - y_last_row_pred\n",
    "    for m in models:\n",
    "        y_hour_pred = (m.predict(X_last_row)).astype(np.float64)\n",
    "        if log_y: \n",
    "            y_hour_pred = np.exp(y_hour_pred)-1\n",
    "        y_pred = np.append(y_pred, y_hour_pred + correction)\n",
    "        y_no_corr = np.append(y_no_corr, y_hour_pred)\n",
    "    print(rmse(y_last_day, y_pred), rmse(y_last_day, y_no_corr))\n",
    "    \n",
    "    plt.figure(figsize=(20,10))\n",
    "    plt.plot(np.arange(24)+24, y_no_corr, label='no_corr', c='lime');\n",
    "    plt.plot(np.arange(24)+24, y_pred, label='corr', c='red');\n",
    "    plt.plot(np.arange(48), y_real, label='real', c='blue');\n",
    "    plt.legend();"
   ]
  },
  {
   "cell_type": "markdown",
   "metadata": {},
   "source": [
    "### porównanie predykcji z test i  ostatniego dnia - \"walidacja\" dyskusyjna"
   ]
  },
  {
   "cell_type": "code",
   "execution_count": 21,
   "metadata": {},
   "outputs": [],
   "source": [
    "def insert_every_day(y, part_size=24, insert_size=24):\n",
    "    result = np.array([])\n",
    "    insert = np.array( [np.nan]*insert_size )\n",
    "    for one in np.arange(0, len(y-part_size), part_size):\n",
    "        result = np.append( result, y[one:one+part_size])\n",
    "        result = np.append( result, insert)\n",
    "    return result"
   ]
  },
  {
   "cell_type": "code",
   "execution_count": 22,
   "metadata": {},
   "outputs": [],
   "source": [
    "name = 'avg_16.p'\n",
    "name_best = 'avg_15.p'\n",
    "\n",
    "feats, _, parts, df = feature_engineering_avg_no_shift()\n",
    "    \n",
    "with open(name, 'rb') as f:\n",
    "    models, y_test_all, y_pred_all, scores = pickle.load(f)\n",
    "\n",
    "with open(name_best, 'rb') as f:\n",
    "    models2, y_test_all2, y_pred_all2, scores2 = pickle.load(f)"
   ]
  },
  {
   "cell_type": "code",
   "execution_count": 23,
   "metadata": {},
   "outputs": [
    {
     "data": {
      "application/vnd.jupyter.widget-view+json": {
       "model_id": "e45c934aa86c46ecab036a7ddb5c7516",
       "version_major": 2,
       "version_minor": 0
      },
      "text/plain": [
       "interactive(children=(Checkbox(value=False, description='log_y'), Checkbox(value=True, description='real'), Ch…"
      ]
     },
     "metadata": {},
     "output_type": "display_data"
    }
   ],
   "source": [
    "@interact()\n",
    "\n",
    "def all_test(log_y = False, real=True, pred=True, best=True, final1=False, final2=False, no_corr=False):\n",
    "\n",
    "    # cały test - predykcja cząstkowa \n",
    "    # porównanie predykcji najlepszego modelu z aktualnym i dniem poprzedzajacym\n",
    "    # predykcje z modelu końcowego skorygowanego i zwykłego\n",
    "\n",
    "    y_final = make_predict(name, log_y, 48, parts)\n",
    "    y_final2 = make_predict2(name, log_y, 48, parts)\n",
    "    y_no_corr = simple_predict(name, log_y, 48, parts)\n",
    "\n",
    "    y_test_all_ = insert_every_day(y_test_all)\n",
    "    y_pred_all_ = insert_every_day(y_pred_all)\n",
    "    y_pred_all2_ = insert_every_day(y_pred_all2)\n",
    "    y_final_ = insert_every_day(y_final)\n",
    "    y_final2_ = insert_every_day(y_final2)\n",
    "    y_no_corr_ = insert_every_day(y_no_corr)\n",
    "    \n",
    "    plt.figure(figsize=(20,10))\n",
    "    if real: plt.plot(np.arange(len(y_test_all_)), y_test_all_, label='real', c='blue');\n",
    "    if pred: plt.plot(np.arange(len(y_pred_all_))+24, y_pred_all_, label='pred', c='red');\n",
    "    if best: plt.plot(np.arange(len(y_pred_all2_))+24, y_pred_all2_, label='best', c='lime');\n",
    "    if final1: plt.plot(np.arange(len(y_final_))+24, y_final_, label='final1', c='orange');\n",
    "    if final2: plt.plot(np.arange(len(y_final2_))+24, y_final2_, label='final2', c='gray');\n",
    "    if no_corr: plt.plot(np.arange(len(y_no_corr_))+24, y_no_corr_, label='final2', c='black');\n",
    "    plt.legend()\n",
    "    plt.show\n",
    "    print('pred: {:.3f} pred_best: {:.3f} final1: {:.3f} final2: {:.3f} no_corr: {:.3f}'.format(\n",
    "        rmse(y_test_all, y_pred_all), \n",
    "        rmse(y_test_all2, y_pred_all2), \n",
    "        rmse(y_test_all, y_final),\n",
    "        rmse(y_test_all, y_final2),\n",
    "        rmse(y_test_all, y_no_corr)\n",
    "         ))"
   ]
  },
  {
   "cell_type": "markdown",
   "metadata": {},
   "source": [
    "### pojedyńczy blok i początek nastepnego + porównanie dwóch modeli"
   ]
  },
  {
   "cell_type": "code",
   "execution_count": 24,
   "metadata": {},
   "outputs": [],
   "source": [
    "name = 'avg_16.p'\n",
    "name_best = 'avg_15.p'\n",
    "\n",
    "feats, _, parts, df = feature_engineering_avg_no_shift()\n",
    "    \n",
    "with open(name, 'rb') as f:\n",
    "    models, y_test_all, y_pred_all, scores = pickle.load(f)\n",
    "\n",
    "with open(name_best, 'rb') as f:\n",
    "    models2, y_test_all2, y_pred_all2, scores2 = pickle.load(f)"
   ]
  },
  {
   "cell_type": "code",
   "execution_count": 25,
   "metadata": {},
   "outputs": [
    {
     "data": {
      "application/vnd.jupyter.widget-view+json": {
       "model_id": "23f99dee1aba40e1ba64eb048d87e0a5",
       "version_major": 2,
       "version_minor": 0
      },
      "text/plain": [
       "interactive(children=(IntSlider(value=0, description='part_nr', max=49), Checkbox(value=False, description='lo…"
      ]
     },
     "metadata": {},
     "output_type": "display_data"
    }
   ],
   "source": [
    "@interact(part_nr=(0, 49))\n",
    "\n",
    "def partial_comparison(part_nr=0, log_y = False, real=True, pred=True, best=True, final1=False, final2=False, no_corr=False):\n",
    "    long = 24\n",
    "    y_train_real = parts[part_nr][:-24]['pm25']\n",
    "    \n",
    "    y_final = make_predict(name, log_y, 24, parts)\n",
    "    y_final2 = make_predict2(name, log_y, 24, parts)\n",
    "    y_no_corr = simple_predict(name, log_y, 24, parts)\n",
    "    \n",
    "    idx = part_nr*24\n",
    "    y_pred = y_pred_all[idx:idx+24]\n",
    "    y_pred2 = y_pred_all2[idx:idx+24]\n",
    "    y_fin = y_final[idx:idx+24]\n",
    "    y_fin2 = y_final2[idx:idx+24]\n",
    "    y_no_co = y_no_corr[idx:idx+24]\n",
    "    \n",
    "#     y_test = y_test_all[idx:idx+24]\n",
    "    plt.figure(figsize=(20,10))\n",
    "    if real: plt.plot(np.arange(long), y_train_real[-long:], label='real', c='blue');\n",
    "    if pred: plt.plot(np.arange(24)+long, y_pred, label='pred', c='red');\n",
    "    if best: plt.plot(np.arange(24)+long, y_pred2, label='best', c='lime');\n",
    "    if final1: plt.plot(np.arange(24)+long, y_fin, label='final', c='orange');\n",
    "    if final2: plt.plot(np.arange(24)+long, y_fin2, label='final2', c='gray');\n",
    "    if no_corr: plt.plot(np.arange(24)+long, y_no_co, label='no corr', c='black');\n",
    "    \n",
    "    if part_nr<(len(parts)-1):\n",
    "        y_next = parts[part_nr+1][:24]['pm25']\n",
    "        if real: plt.plot(np.arange(24)+long+24+24, y_next, c='blue');\n",
    "    plt.legend();\n",
    "    print(part_nr, parts[part_nr][0:1]['id'].values, scores[part_nr])"
   ]
  },
  {
   "cell_type": "markdown",
   "metadata": {},
   "source": [
    "### Ocena shift walidacji"
   ]
  },
  {
   "cell_type": "code",
   "execution_count": 26,
   "metadata": {},
   "outputs": [],
   "source": [
    "with open('avg_4.p', 'rb') as f:\n",
    "    models, y_test_all, y_pred_all, scores = pickle.load(f)"
   ]
  },
  {
   "cell_type": "code",
   "execution_count": 27,
   "metadata": {},
   "outputs": [
    {
     "data": {
      "application/vnd.jupyter.widget-view+json": {
       "model_id": "ab30df4182a74465baefe8512f58def2",
       "version_major": 2,
       "version_minor": 0
      },
      "text/plain": [
       "interactive(children=(IntSlider(value=7, description='model_nr', max=23), IntSlider(value=-8, description='shi…"
      ]
     },
     "metadata": {},
     "output_type": "display_data"
    }
   ],
   "source": [
    "@interact(model_nr=(0, len(models)-1), shift=(-30, 30))\n",
    "\n",
    "def partial_comparison(model_nr=7, shift=-8, log_y = True):\n",
    "    long = 72\n",
    "    back = 10000\n",
    "    model = models[model_nr]\n",
    "    X = train[feats].values\n",
    "    y = train['pm25'].values\n",
    "    y = pd.Series(y).shift(shift).values\n",
    "    y_pred = (model.predict(X)).astype(np.float64)\n",
    "    if log_y: y_pred = np.exp(y_pred)-1\n",
    "    plt.figure(figsize=(20,10))\n",
    "    \n",
    "    if shift >= 0: \n",
    "        print(nr, shift, rmse(y[-long-back:-back], y_pred[-long-back:-back]))\n",
    "        plt.plot(np.arange(long), y[-long-back:-back], label='real', c='blue');\n",
    "        plt.plot(np.arange(long), y_pred[-long-back:-back], label='pred', c='red');\n",
    "    else: \n",
    "        print(nr, shift, rmse(y[-long-back:shift-back], y_pred[-long-back:shift-back]))\n",
    "        plt.plot(np.arange(long), y[-long+shift-back:shift-back], label='real', c='blue');\n",
    "        plt.plot(np.arange(long), y_pred[-long+shift-back:shift-back], label='pred', c='red');\n",
    "        \n",
    "    plt.legend()\n",
    "    plt.show;"
   ]
  },
  {
   "cell_type": "code",
   "execution_count": 28,
   "metadata": {},
   "outputs": [
    {
     "data": {
      "application/vnd.jupyter.widget-view+json": {
       "model_id": "7201326e600e455690666bf36fc9d93f",
       "version_major": 2,
       "version_minor": 0
      },
      "text/plain": [
       "interactive(children=(IntSlider(value=0, description='model_nr', max=23), IntSlider(value=-1, description='add…"
      ]
     },
     "metadata": {},
     "output_type": "display_data"
    }
   ],
   "source": [
    "@interact(model_nr=(0, len(models)-1), add=(-24, 24))\n",
    "\n",
    "def partial_comparison(model_nr=0, add=-1, log_y = True):\n",
    "    long = 72\n",
    "    back = 10000\n",
    "    shift = -model_nr+add\n",
    "    model = models[model_nr]\n",
    "    X = train[feats].values\n",
    "    y = train['pm25'].values\n",
    "    y = pd.Series(y).shift(shift).values\n",
    "    y_pred = (model.predict(X)).astype(np.float64)\n",
    "    if log_y: y_pred = np.exp(y_pred)-1\n",
    "    plt.figure(figsize=(20,10))\n",
    "    \n",
    "    print(model_nr, rmse(y[-long-back:shift-back], y_pred[-long-back:shift-back]))\n",
    "    plt.plot(np.arange(long), y[-long+shift-back:shift-back], label='real', c='blue');\n",
    "    plt.plot(np.arange(long), y_pred[-long+shift-back:shift-back], label='pred', c='red');\n",
    "        \n",
    "    plt.legend()\n",
    "    plt.show;"
   ]
  },
  {
   "cell_type": "markdown",
   "metadata": {},
   "source": [
    "### walidacja shift score - porównanie dwóch modeli, im niżej tym lepiej"
   ]
  },
  {
   "cell_type": "code",
   "execution_count": 29,
   "metadata": {},
   "outputs": [
    {
     "data": {
      "text/plain": [
       "('mean diff', -0.8936535139787821)"
      ]
     },
     "execution_count": 29,
     "metadata": {},
     "output_type": "execute_result"
    },
    {
     "data": {
      "image/png": "[encoded data removed]",
      "text/plain": [
       "<Figure size 1440x720 with 1 Axes>"
      ]
     },
     "metadata": {
      "needs_background": "light"
     },
     "output_type": "display_data"
    }
   ],
   "source": [
    "name = 'avg_10_2.p'\n",
    "name2 = 'avg_18.p'\n",
    "\n",
    "with open(name, 'rb') as f:\n",
    "    global_scores, last_day_scores, models, y_pred_all, train_df, last_days_df, y_train_all, y_last_days, y_last_pred = \\\n",
    "        pickle.load(f)\n",
    "\n",
    "with open(name2, 'rb') as f:\n",
    "    global_scores2, last_day_scores2, models2, y_pred_all2, train_df2, last_days_df2, y_train_all2, \\\n",
    "        y_last_days2, y_last_pred2 = pickle.load(f)\n",
    "    \n",
    "plt.figure(figsize=(20,10))\n",
    "plt.plot(global_scores, label=name)\n",
    "plt.plot(global_scores2, label=name2)\n",
    "plt.legend();\n",
    "'mean diff', (global_scores2 - global_scores).mean()"
   ]
  },
  {
   "cell_type": "markdown",
   "metadata": {},
   "source": [
    "### walidacja wg ostatniego dnia - porównanie modeli"
   ]
  },
  {
   "cell_type": "code",
   "execution_count": 30,
   "metadata": {},
   "outputs": [
    {
     "data": {
      "text/plain": [
       "('mean diff', 0.24823630095140164)"
      ]
     },
     "execution_count": 30,
     "metadata": {},
     "output_type": "execute_result"
    },
    {
     "data": {
      "image/png": "[encoded data removed]",
      "text/plain": [
       "<Figure size 1440x720 with 1 Axes>"
      ]
     },
     "metadata": {
      "needs_background": "light"
     },
     "output_type": "display_data"
    }
   ],
   "source": [
    "plt.figure(figsize=(20,10))\n",
    "plt.plot(np.arange(50), last_day_scores, label=name)\n",
    "plt.plot(np.arange(50), last_day_scores2, label=name2)\n",
    "plt.legend();\n",
    "'mean diff', (last_day_scores2 - last_day_scores).mean()"
   ]
  },
  {
   "cell_type": "markdown",
   "metadata": {},
   "source": [
    "### predykcja z finalnych modeli - dużo gorsze wyniki"
   ]
  },
  {
   "cell_type": "code",
   "execution_count": 31,
   "metadata": {},
   "outputs": [],
   "source": [
    "name = 'avg_15.p'           # 14.85382 13.77642    vs    16.54333 15.44674\n",
    "log_y = False\n",
    "y_final = make_predict(name, log_y, 24, parts)\n",
    "# test['pm25'] = y_final\n",
    "# test[ ['id', 'pm25'] ].to_csv('submit_final_{}.csv'.format(name[:-2]), index=False)"
   ]
  },
  {
   "cell_type": "code",
   "execution_count": 32,
   "metadata": {},
   "outputs": [],
   "source": [
    "name = 'avg_15.p'           # 14.85382 13.77642    vs    17.15519 17.52971\n",
    "log_y = False\n",
    "y_final = make_predict2(name, log_y, 24, parts)\n",
    "# test['pm25'] = y_final\n",
    "# test[ ['id', 'pm25'] ].to_csv('submit_final2_{}.csv'.format(name[:-2]), index=False)"
   ]
  },
  {
   "cell_type": "markdown",
   "metadata": {},
   "source": [
    "### Parametry poszczególnych modeli, generowanie submitu i walidacja"
   ]
  },
  {
   "cell_type": "code",
   "execution_count": null,
   "metadata": {},
   "outputs": [],
   "source": [
    "%%time\n",
    "name = 'avg_6.p'\n",
    "log_y = False\n",
    "feats, _, parts, df = feature_engineering_clean()\n",
    "\n",
    "print(df.shape, train.shape, test.shape, len(parts), len(feats))\n",
    "with_params = {\n",
    "    'model'         : xgb.XGBRegressor,\n",
    "    'params'        : {'n_jobs': 8,\n",
    "                       'random_state': 123,\n",
    "                       'objective': 'reg:squarederror',    #reg:squarederror reg:linear\n",
    "                       'max_depth': 5,\n",
    "                       'subsample': 0.95},\n",
    "    'parts'         : parts, \n",
    "    'feats'         : feats,\n",
    "    'y_log'         : log_y,\n",
    "    'cv'            : None,\n",
    "    'folds'         : 0,\n",
    "    'max_train_size': None,\n",
    "}\n",
    "models, y_test_all, y_pred_all, scores = run_model_parts(**with_params)\n",
    "result = models, y_test_all, y_pred_all, scores\n",
    "with open(name, 'wb') as f:\n",
    "    pickle.dump(result, f)\n",
    "# test['pm25'] = y_pred_all\n",
    "# test[ ['id', 'pm25'] ].to_csv('submit_{}.csv'.format(name[:-2]), index=False)"
   ]
  },
  {
   "cell_type": "code",
   "execution_count": 34,
   "metadata": {},
   "outputs": [
    {
     "name": "stdout",
     "output_type": "stream",
     "text": [
      "13.649912193370831\n"
     ]
    },
    {
     "data": {
      "application/vnd.jupyter.widget-view+json": {
       "model_id": "b245a00be6a54b0cb706b07ad5b4e211",
       "version_major": 2,
       "version_minor": 0
      },
      "text/plain": [
       "HBox(children=(FloatProgress(value=0.0, max=24.0), HTML(value='')))"
      ]
     },
     "metadata": {},
     "output_type": "display_data"
    },
    {
     "name": "stdout",
     "output_type": "stream",
     "text": [
      "4.973205801491224\n",
      "4.97882757502455\n",
      "4.830530360846448\n",
      "4.945149287548374\n",
      "5.0074108901023315\n",
      "4.784640518929028\n",
      "4.6834002979016836\n",
      "4.331295672070178\n",
      "4.449494834987302\n",
      "4.80828889347324\n",
      "4.67943634741107\n",
      "4.6010601981166745\n",
      "4.966089287150607\n",
      "4.94871333114752\n",
      "5.027543444699087\n",
      "5.076846874199069\n",
      "4.964803079324515\n",
      "5.435222344955926\n",
      "5.092443123805792\n",
      "5.436048034318327\n",
      "5.390204620651023\n",
      "5.527547516671241\n",
      "5.463811167837882\n",
      "5.19437061929692\n",
      "\n",
      "4.983182671748334 0.3099003631471278\n",
      "[2, 2, 2, 2, 2, 2, 2, 2, 2, 2, 2, 2, 2, 2, 2, 2, 2, 2, 2, 2, 2, 2, 2, 2]\n"
     ]
    }
   ],
   "source": [
    "name = 'avg_6.p'\n",
    "log_y = False\n",
    "feats, _, parts, df = feature_engineering_clean()\n",
    "print(val_last_day(name, log_y))\n",
    "g_scores, best_shifts = validate_model(name, log_y=log_y)\n",
    "print(g_scores.mean(), g_scores.std())\n",
    "print(best_shifts)"
   ]
  },
  {
   "cell_type": "code",
   "execution_count": 1172,
   "metadata": {},
   "outputs": [
    {
     "name": "stdout",
     "output_type": "stream",
     "text": [
      "(40152, 41) (38952, 41) (1200, 41) 50 30\n"
     ]
    },
    {
     "data": {
      "application/vnd.jupyter.widget-view+json": {
       "model_id": "9cd59252af0c42038c905e5895e02368",
       "version_major": 2,
       "version_minor": 0
      },
      "text/plain": [
       "HBox(children=(IntProgress(value=0, max=50), HTML(value='')))"
      ]
     },
     "metadata": {},
     "output_type": "display_data"
    },
    {
     "name": "stdout",
     "output_type": "stream",
     "text": [
      "\n",
      "part scores 9.094960879433156 6.140643606824406\n",
      "('\\nglobal rmse, mae, r2', 10.97386975066011, 7.476507768045581, 0.6561018631315367)\n",
      "CV: None, folds: 0, logaritm: True, \n",
      "model: <class 'xgboost.sklearn.XGBRegressor'>, \n",
      "params: {'n_jobs': 8, 'random_state': 123, 'objective': 'reg:squarederror', 'max_depth': 5, 'subsample': 0.95}\n",
      "Wall time: 4min 31s\n"
     ]
    }
   ],
   "source": [
    "%%time\n",
    "name = 'avg_7.p'\n",
    "log_y = True\n",
    "feats, _, parts, df = feature_engineering_clean()\n",
    "print(df.shape, train.shape, test.shape, len(parts), len(feats))\n",
    "with_params = {\n",
    "    'model'         : xgb.XGBRegressor,\n",
    "    'params'        : {'n_jobs': 8,\n",
    "                       'random_state': 123,\n",
    "                       'objective': 'reg:squarederror',    #reg:squarederror reg:linear\n",
    "                       'max_depth': 5,\n",
    "                       'subsample': 0.95},\n",
    "    'parts'         : parts, \n",
    "    'feats'         : feats,\n",
    "    'y_log'         : log_y,\n",
    "    'cv'            : None,\n",
    "    'folds'         : 0,\n",
    "    'max_train_size': None,\n",
    "}\n",
    "models, y_test_all, y_pred_all, scores = run_model_parts(**with_params)\n",
    "result = models, y_test_all, y_pred_all, scores\n",
    "with open(name, 'wb') as f:\n",
    "    pickle.dump(result, f)\n",
    "test['pm25'] = y_pred_all\n",
    "test[ ['id', 'pm25'] ].to_csv('submit_{}.csv'.format(name[:-2]), index=False)"
   ]
  },
  {
   "cell_type": "code",
   "execution_count": 2023,
   "metadata": {},
   "outputs": [
    {
     "name": "stdout",
     "output_type": "stream",
     "text": [
      "13.45528164063174\n"
     ]
    },
    {
     "data": {
      "application/vnd.jupyter.widget-view+json": {
       "model_id": "86affc02ddf24569a8d19af807168ab1",
       "version_major": 2,
       "version_minor": 0
      },
      "text/plain": [
       "HBox(children=(IntProgress(value=0, max=24), HTML(value='')))"
      ]
     },
     "metadata": {},
     "output_type": "display_data"
    },
    {
     "name": "stdout",
     "output_type": "stream",
     "text": [
      "\n",
      "5.207241987678015 0.3012736382748538\n",
      "[2, 2, 2, 2, 2, 2, 2, 2, 2, 2, 2, 2, 2, 2, 2, 2, 2, 2, 2, 2, 2, 2, 2, 2]\n"
     ]
    }
   ],
   "source": [
    "name = 'avg_7.p'\n",
    "log_y = True\n",
    "feats, _, parts, df = feature_engineering_clean()\n",
    "print(val_last_day(name, log_y))\n",
    "g_scores, best_shifts = validate_model(name, log_y=log_y)\n",
    "print(g_scores.mean(), g_scores.std())\n",
    "print(best_shifts)"
   ]
  },
  {
   "cell_type": "code",
   "execution_count": 1267,
   "metadata": {},
   "outputs": [
    {
     "name": "stdout",
     "output_type": "stream",
     "text": [
      "(40152, 36) (38952, 36) (1200, 36) 50 9\n"
     ]
    },
    {
     "data": {
      "application/vnd.jupyter.widget-view+json": {
       "model_id": "8dc93c154e244e49bda1268c68fc00f7",
       "version_major": 2,
       "version_minor": 0
      },
      "text/plain": [
       "HBox(children=(IntProgress(value=0, max=50), HTML(value='')))"
      ]
     },
     "metadata": {},
     "output_type": "display_data"
    },
    {
     "name": "stdout",
     "output_type": "stream",
     "text": [
      "\n",
      "part scores 8.547176693858725 6.403877078276574\n",
      "('\\nglobal rmse, mae, r2', 10.68006887008309, 7.0683772435921215, 0.6742695742250104)\n",
      "CV: None, folds: 0, logaritm: False, \n",
      "model: <class 'xgboost.sklearn.XGBRegressor'>, \n",
      "params: {'n_jobs': 8, 'random_state': 123, 'objective': 'reg:squarederror', 'max_depth': 5, 'subsample': 0.95}\n",
      "Wall time: 3min 41s\n"
     ]
    }
   ],
   "source": [
    "%%time\n",
    "name = 'avg_8.p'\n",
    "log_y = False\n",
    "feats, _, parts, df = feature_engineering_time()\n",
    "print(df.shape, train.shape, test.shape, len(parts), len(feats))\n",
    "with_params = {\n",
    "    'model'         : xgb.XGBRegressor,\n",
    "    'params'        : {'n_jobs': 8,\n",
    "                       'random_state': 123,\n",
    "                       'objective': 'reg:squarederror',    #reg:squarederror reg:linear\n",
    "                       'max_depth': 5,\n",
    "                       'subsample': 0.95},\n",
    "    'parts'         : parts, \n",
    "    'feats'         : feats,\n",
    "    'y_log'         : log_y,\n",
    "    'cv'            : None,\n",
    "    'folds'         : 0,\n",
    "    'max_train_size': None,\n",
    "}\n",
    "models, y_test_all, y_pred_all, scores = run_model_parts(**with_params)\n",
    "result = models, y_test_all, y_pred_all, scores\n",
    "with open(name, 'wb') as f:\n",
    "    pickle.dump(result, f)\n",
    "test['pm25'] = y_pred_all\n",
    "test[ ['id', 'pm25'] ].to_csv('submit_{}.csv'.format(name[:-2]), index=False)"
   ]
  },
  {
   "cell_type": "code",
   "execution_count": 2024,
   "metadata": {},
   "outputs": [
    {
     "name": "stdout",
     "output_type": "stream",
     "text": [
      "14.581993172416514\n"
     ]
    },
    {
     "data": {
      "application/vnd.jupyter.widget-view+json": {
       "model_id": "65a7490dec774ba3a7e56d51609b459b",
       "version_major": 2,
       "version_minor": 0
      },
      "text/plain": [
       "HBox(children=(IntProgress(value=0, max=24), HTML(value='')))"
      ]
     },
     "metadata": {},
     "output_type": "display_data"
    },
    {
     "name": "stdout",
     "output_type": "stream",
     "text": [
      "\n",
      "6.368753104209304 0.266013938360076\n",
      "[2, 2, 2, 2, 2, 2, 2, 2, 2, 2, 2, 2, 2, 2, 2, 2, 2, 2, 2, 2, 2, 2, 2, 2]\n"
     ]
    }
   ],
   "source": [
    "name = 'avg_8.p'\n",
    "log_y = False\n",
    "feats, _, parts, df = feature_engineering_time()\n",
    "print(val_last_day(name, log_y))\n",
    "g_scores, best_shifts = validate_model(name, log_y=log_y)\n",
    "print(g_scores.mean(), g_scores.std())\n",
    "print(best_shifts)"
   ]
  },
  {
   "cell_type": "code",
   "execution_count": 1322,
   "metadata": {},
   "outputs": [
    {
     "name": "stdout",
     "output_type": "stream",
     "text": [
      "(40152, 36) (38952, 36) (1200, 36) 50 9\n"
     ]
    },
    {
     "data": {
      "application/vnd.jupyter.widget-view+json": {
       "model_id": "da010e2eb2c34d50a44d47d284ca44fa",
       "version_major": 2,
       "version_minor": 0
      },
      "text/plain": [
       "HBox(children=(IntProgress(value=0, max=50), HTML(value='')))"
      ]
     },
     "metadata": {},
     "output_type": "display_data"
    },
    {
     "name": "stdout",
     "output_type": "stream",
     "text": [
      "\n",
      "part scores 8.428134315904128 6.940778184568551\n",
      "('\\nglobal rmse, mae, r2', 10.918234740758392, 6.959143795113084, 0.659579993870014)\n",
      "CV: None, folds: 0, logaritm: True, \n",
      "model: <class 'xgboost.sklearn.XGBRegressor'>, \n",
      "params: {'n_jobs': 8, 'random_state': 123, 'objective': 'reg:squarederror', 'max_depth': 5, 'subsample': 0.95}\n",
      "Wall time: 3min 35s\n"
     ]
    }
   ],
   "source": [
    "%%time\n",
    "name = 'avg_9.p'\n",
    "log_y = True\n",
    "feats, _, parts, df = feature_engineering_time()\n",
    "print(df.shape, train.shape, test.shape, len(parts), len(feats))\n",
    "with_params = {\n",
    "    'model'         : xgb.XGBRegressor,\n",
    "    'params'        : {'n_jobs': 8,\n",
    "                       'random_state': 123,\n",
    "                       'objective': 'reg:squarederror',    #reg:squarederror reg:linear\n",
    "                       'max_depth': 5,\n",
    "                       'subsample': 0.95},\n",
    "    'parts'         : parts, \n",
    "    'feats'         : feats,\n",
    "    'y_log'         : log_y,\n",
    "    'cv'            : None,\n",
    "    'folds'         : 0,\n",
    "    'max_train_size': None,\n",
    "}\n",
    "models, y_test_all, y_pred_all, scores = run_model_parts(**with_params)\n",
    "result = models, y_test_all, y_pred_all, scores\n",
    "with open(name, 'wb') as f:\n",
    "    pickle.dump(result, f)\n",
    "test['pm25'] = y_pred_all\n",
    "test[ ['id', 'pm25'] ].to_csv('submit_{}.csv'.format(name[:-2]), index=False)"
   ]
  },
  {
   "cell_type": "code",
   "execution_count": 2025,
   "metadata": {},
   "outputs": [
    {
     "name": "stdout",
     "output_type": "stream",
     "text": [
      "13.598247395990025\n"
     ]
    },
    {
     "data": {
      "application/vnd.jupyter.widget-view+json": {
       "model_id": "30f139a8d1f04a2f99e5ea5471814ae5",
       "version_major": 2,
       "version_minor": 0
      },
      "text/plain": [
       "HBox(children=(IntProgress(value=0, max=24), HTML(value='')))"
      ]
     },
     "metadata": {},
     "output_type": "display_data"
    },
    {
     "name": "stdout",
     "output_type": "stream",
     "text": [
      "\n",
      "6.6618609027345626 0.16457763108115253\n",
      "[2, 2, 2, 2, 2, 2, 2, 2, 2, 2, 2, 2, 2, 2, 2, 2, 2, 2, 2, 2, 2, 2, 2, 2]\n"
     ]
    }
   ],
   "source": [
    "name = 'avg_9.p'\n",
    "log_y = True\n",
    "feats, _, parts, df = feature_engineering_time()\n",
    "print(val_last_day(name, log_y))\n",
    "g_scores, best_shifts = validate_model(name, log_y=log_y)\n",
    "print(g_scores.mean(), g_scores.std())\n",
    "print(best_shifts)"
   ]
  },
  {
   "cell_type": "code",
   "execution_count": 26,
   "metadata": {},
   "outputs": [
    {
     "name": "stdout",
     "output_type": "stream",
     "text": [
      "(40152, 43) (38952, 43) (1200, 43) 50 32\n"
     ]
    },
    {
     "data": {
      "application/vnd.jupyter.widget-view+json": {
       "model_id": "2aee1ee3e85d43e4b53d57af1b266398",
       "version_major": 2,
       "version_minor": 0
      },
      "text/plain": [
       "HBox(children=(IntProgress(value=0, max=50), HTML(value='')))"
      ]
     },
     "metadata": {},
     "output_type": "display_data"
    },
    {
     "name": "stdout",
     "output_type": "stream",
     "text": [
      "\n",
      "Wall time: 4min 42s\n"
     ]
    }
   ],
   "source": [
    "%%time\n",
    "name = 'avg_10.p'\n",
    "log_y = False\n",
    "feats, _, parts, df = feature_engineering_avg_no_shift()\n",
    "print(df.shape, train.shape, test.shape, len(parts), len(feats))\n",
    "with_params = {\n",
    "    'model'         : xgb.XGBRegressor,\n",
    "    'params'        : {'n_jobs': 8,\n",
    "                       'random_state': 123,\n",
    "                       'objective': 'reg:squarederror',    #reg:squarederror reg:linear\n",
    "                       'max_depth': 5,\n",
    "                       'subsample': 0.95},\n",
    "    'parts'         : parts, \n",
    "    'feats'         : feats,\n",
    "    'y_log'         : log_y,\n",
    "    'cv'            : None,\n",
    "    'folds'         : 0,\n",
    "    'max_train_size': None,\n",
    "}\n",
    "models, y_test_all, y_pred_all, scores = run_model_parts(**with_params)\n",
    "# result = models, y_test_all, y_pred_all, scores\n",
    "# with open(name, 'wb') as f:\n",
    "#     pickle.dump(result, f)\n",
    "# test['pm25'] = y_pred_all\n",
    "# test[ ['id', 'pm25'] ].to_csv('submit_{}.csv'.format(name[:-2]), index=False)"
   ]
  },
  {
   "cell_type": "code",
   "execution_count": 47,
   "metadata": {},
   "outputs": [
    {
     "name": "stdout",
     "output_type": "stream",
     "text": [
      "14.64286287210863\n"
     ]
    },
    {
     "data": {
      "application/vnd.jupyter.widget-view+json": {
       "model_id": "85eb53b5dd254ce5bbbad6548d0f1351",
       "version_major": 2,
       "version_minor": 0
      },
      "text/plain": [
       "HBox(children=(IntProgress(value=0, max=24), HTML(value='')))"
      ]
     },
     "metadata": {},
     "output_type": "display_data"
    },
    {
     "name": "stdout",
     "output_type": "stream",
     "text": [
      "1.9983824539307156\n",
      "3.1443833520407725\n",
      "3.7634066956335865\n",
      "4.028262718725387\n",
      "4.482619483924713\n",
      "4.487420756658131\n",
      "4.546313831147509\n",
      "4.35886023717557\n",
      "4.45044027297689\n",
      "4.547429170662017\n",
      "4.985979511847225\n",
      "4.721519954576131\n",
      "4.649467154090587\n",
      "4.611337798519143\n",
      "4.686647343390142\n",
      "4.921658213618609\n",
      "4.843264710889962\n",
      "5.499884074172952\n",
      "5.576869825693665\n",
      "5.524713720289542\n",
      "5.332447322864877\n",
      "5.602560976071546\n",
      "5.608694669426922\n",
      "5.311701030156398\n",
      "\n",
      "4.653511053270125 0.8159637068917661\n",
      "[2, 2, 2, 2, 2, 2, 2, 2, 2, 2, 2, 2, 2, 2, 2, 2, 2, 2, 2, 2, 2, 2, 2, 2]\n"
     ]
    }
   ],
   "source": [
    "name = 'avg_10.p'\n",
    "log_y = False\n",
    "feats, _, parts, df = feature_engineering_avg_no_shift()\n",
    "print(val_last_day(name, log_y))\n",
    "g_scores, best_shifts = validate_model(name, log_y=log_y)\n",
    "print(g_scores.mean(), g_scores.std())\n",
    "print(best_shifts)"
   ]
  },
  {
   "cell_type": "code",
   "execution_count": 1432,
   "metadata": {},
   "outputs": [
    {
     "name": "stdout",
     "output_type": "stream",
     "text": [
      "(40152, 43) (38952, 43) (1200, 43) 50 32\n"
     ]
    },
    {
     "data": {
      "application/vnd.jupyter.widget-view+json": {
       "model_id": "b7cd8b938e36483c890cc34ca6dfb5df",
       "version_major": 2,
       "version_minor": 0
      },
      "text/plain": [
       "HBox(children=(IntProgress(value=0, max=50), HTML(value='')))"
      ]
     },
     "metadata": {},
     "output_type": "display_data"
    },
    {
     "name": "stdout",
     "output_type": "stream",
     "text": [
      "\n",
      "part scores 9.80332944626186 6.575037189648362\n",
      "('\\nglobal rmse, mae, r2', 11.80408328830341, 8.081279864561855, 0.60209925632491)\n",
      "CV: None, folds: 0, logaritm: True, \n",
      "model: <class 'xgboost.sklearn.XGBRegressor'>, \n",
      "params: {'n_jobs': 8, 'random_state': 123, 'objective': 'reg:squarederror', 'max_depth': 5, 'subsample': 0.95}\n",
      "Wall time: 4min 35s\n"
     ]
    }
   ],
   "source": [
    "%%time\n",
    "name = 'avg_11.p'\n",
    "log_y = True\n",
    "feats, _, parts, df = feature_engineering_avg_no_shift()\n",
    "print(df.shape, train.shape, test.shape, len(parts), len(feats))\n",
    "with_params = {\n",
    "    'model'         : xgb.XGBRegressor,\n",
    "    'params'        : {'n_jobs': 8,\n",
    "                       'random_state': 123,\n",
    "                       'objective': 'reg:squarederror',    #reg:squarederror reg:linear\n",
    "                       'max_depth': 5,\n",
    "                       'subsample': 0.95},\n",
    "    'parts'         : parts, \n",
    "    'feats'         : feats,\n",
    "    'y_log'         : log_y,\n",
    "    'cv'            : None,\n",
    "    'folds'         : 0,\n",
    "    'max_train_size': None,\n",
    "}\n",
    "models, y_test_all, y_pred_all, scores = run_model_parts(**with_params)\n",
    "result = models, y_test_all, y_pred_all, scores\n",
    "with open(name, 'wb') as f:\n",
    "    pickle.dump(result, f)\n",
    "test['pm25'] = y_pred_all\n",
    "test[ ['id', 'pm25'] ].to_csv('submit_{}.csv'.format(name[:-2]), index=False)"
   ]
  },
  {
   "cell_type": "code",
   "execution_count": 2027,
   "metadata": {},
   "outputs": [
    {
     "name": "stdout",
     "output_type": "stream",
     "text": [
      "15.041954072442985\n"
     ]
    },
    {
     "data": {
      "application/vnd.jupyter.widget-view+json": {
       "model_id": "8e4736cbe63340c2b57831aec5c12042",
       "version_major": 2,
       "version_minor": 0
      },
      "text/plain": [
       "HBox(children=(IntProgress(value=0, max=24), HTML(value='')))"
      ]
     },
     "metadata": {},
     "output_type": "display_data"
    },
    {
     "name": "stdout",
     "output_type": "stream",
     "text": [
      "\n",
      "4.971722803101887 0.9021856127608947\n",
      "[2, 2, 2, 2, 2, 2, 2, 2, 2, 2, 2, 2, 2, 2, 2, 2, 2, 2, 2, 2, 2, 2, 2, 2]\n"
     ]
    }
   ],
   "source": [
    "name = 'avg_11.p'\n",
    "log_y = True\n",
    "feats, _, parts, df = feature_engineering_avg_no_shift()\n",
    "print(val_last_day(name, log_y))\n",
    "g_scores, best_shifts = validate_model(name, log_y=log_y)\n",
    "print(g_scores.mean(), g_scores.std())\n",
    "print(best_shifts)"
   ]
  },
  {
   "cell_type": "code",
   "execution_count": 1490,
   "metadata": {},
   "outputs": [
    {
     "name": "stdout",
     "output_type": "stream",
     "text": [
      "(40152, 187) (38952, 187) (1200, 187) 50 176\n"
     ]
    },
    {
     "data": {
      "application/vnd.jupyter.widget-view+json": {
       "model_id": "4adcaef62bb24a8fbad5b41119cd0895",
       "version_major": 2,
       "version_minor": 0
      },
      "text/plain": [
       "HBox(children=(IntProgress(value=0, max=50), HTML(value='')))"
      ]
     },
     "metadata": {},
     "output_type": "display_data"
    },
    {
     "name": "stdout",
     "output_type": "stream",
     "text": [
      "\n",
      "part scores 10.7023163038173 7.429361888283255\n",
      "('\\nglobal rmse, mae, r2', 13.028238266704724, 9.159681254976679, 0.51529041752331)\n",
      "CV: None, folds: 0, logaritm: False, \n",
      "model: <class 'xgboost.sklearn.XGBRegressor'>, \n",
      "params: {'n_jobs': 8, 'random_state': 123, 'objective': 'reg:squarederror', 'max_depth': 5, 'subsample': 0.95}\n",
      "Wall time: 9min 8s\n"
     ]
    }
   ],
   "source": [
    "%%time\n",
    "name = 'avg_12.p'\n",
    "log_y = False\n",
    "feats, _, parts, df = feature_engineering_aggr(avg_len=6)\n",
    "print(df.shape, train.shape, test.shape, len(parts), len(feats))\n",
    "with_params = {\n",
    "    'model'         : xgb.XGBRegressor,\n",
    "    'params'        : {'n_jobs': 8,\n",
    "                       'random_state': 123,\n",
    "                       'objective': 'reg:squarederror',    #reg:squarederror reg:linear\n",
    "                       'max_depth': 5,\n",
    "                       'subsample': 0.95},\n",
    "    'parts'         : parts, \n",
    "    'feats'         : feats,\n",
    "    'y_log'         : log_y,\n",
    "    'cv'            : None,\n",
    "    'folds'         : 0,\n",
    "    'max_train_size': None,\n",
    "}\n",
    "models, y_test_all, y_pred_all, scores = run_model_parts(**with_params)\n",
    "result = models, y_test_all, y_pred_all, scores\n",
    "with open(name, 'wb') as f:\n",
    "    pickle.dump(result, f)\n",
    "test['pm25'] = y_pred_all\n",
    "test[ ['id', 'pm25'] ].to_csv('submit_{}.csv'.format(name[:-2]), index=False)"
   ]
  },
  {
   "cell_type": "code",
   "execution_count": 2028,
   "metadata": {},
   "outputs": [
    {
     "name": "stdout",
     "output_type": "stream",
     "text": [
      "14.460204791294014\n"
     ]
    },
    {
     "data": {
      "application/vnd.jupyter.widget-view+json": {
       "model_id": "53390843d9204165bc0d65846ae4796e",
       "version_major": 2,
       "version_minor": 0
      },
      "text/plain": [
       "HBox(children=(IntProgress(value=0, max=24), HTML(value='')))"
      ]
     },
     "metadata": {},
     "output_type": "display_data"
    },
    {
     "name": "stdout",
     "output_type": "stream",
     "text": [
      "\n",
      "4.876402152627786 0.6710229296114609\n",
      "[2, 2, 2, 2, 2, 2, 2, 2, 2, 2, 2, 2, 2, 2, 2, 2, 2, 2, 2, 2, 2, 2, 2, 2]\n"
     ]
    }
   ],
   "source": [
    "name = 'avg_12.p'\n",
    "log_y = False\n",
    "feats, _, parts, df = feature_engineering_aggr(avg_len=6)\n",
    "print(val_last_day(name, log_y))\n",
    "g_scores, best_shifts = validate_model(name, log_y=log_y)\n",
    "print(g_scores.mean(), g_scores.std())\n",
    "print(best_shifts)"
   ]
  },
  {
   "cell_type": "code",
   "execution_count": 1545,
   "metadata": {},
   "outputs": [
    {
     "name": "stdout",
     "output_type": "stream",
     "text": [
      "(40152, 187) (38952, 187) (1200, 187) 50 176\n"
     ]
    },
    {
     "data": {
      "application/vnd.jupyter.widget-view+json": {
       "model_id": "7249c0808d44464c9b43693fa5e2b21c",
       "version_major": 2,
       "version_minor": 0
      },
      "text/plain": [
       "HBox(children=(IntProgress(value=0, max=50), HTML(value='')))"
      ]
     },
     "metadata": {},
     "output_type": "display_data"
    },
    {
     "name": "stdout",
     "output_type": "stream",
     "text": [
      "\n",
      "part scores 9.901417536881745 6.934432571288799\n",
      "('\\nglobal rmse, mae, r2', 12.088193592320579, 8.264072951186288, 0.5827147500320048)\n",
      "CV: None, folds: 0, logaritm: True, \n",
      "model: <class 'xgboost.sklearn.XGBRegressor'>, \n",
      "params: {'n_jobs': 8, 'random_state': 123, 'objective': 'reg:squarederror', 'max_depth': 5, 'subsample': 0.95}\n",
      "Wall time: 8min 56s\n"
     ]
    }
   ],
   "source": [
    "%%time\n",
    "name = 'avg_13.p'\n",
    "log_y = True\n",
    "feats, _, parts, df = feature_engineering_aggr(avg_len=6)\n",
    "print(df.shape, train.shape, test.shape, len(parts), len(feats))\n",
    "with_params = {\n",
    "    'model'         : xgb.XGBRegressor,\n",
    "    'params'        : {'n_jobs': 8,\n",
    "                       'random_state': 123,\n",
    "                       'objective': 'reg:squarederror',    #reg:squarederror reg:linear\n",
    "                       'max_depth': 5,\n",
    "                       'subsample': 0.95},\n",
    "    'parts'         : parts, \n",
    "    'feats'         : feats,\n",
    "    'y_log'         : log_y,\n",
    "    'cv'            : None,\n",
    "    'folds'         : 0,\n",
    "    'max_train_size': None,\n",
    "}\n",
    "models, y_test_all, y_pred_all, scores = run_model_parts(**with_params)\n",
    "result = models, y_test_all, y_pred_all, scores\n",
    "with open(name, 'wb') as f:\n",
    "    pickle.dump(result, f)\n",
    "test['pm25'] = y_pred_all\n",
    "test[ ['id', 'pm25'] ].to_csv('submit_{}.csv'.format(name[:-2]), index=False)"
   ]
  },
  {
   "cell_type": "code",
   "execution_count": 2029,
   "metadata": {},
   "outputs": [
    {
     "name": "stdout",
     "output_type": "stream",
     "text": [
      "14.638190535369988\n"
     ]
    },
    {
     "data": {
      "application/vnd.jupyter.widget-view+json": {
       "model_id": "89fef7ce93a74fc0a3776fe2a29b2721",
       "version_major": 2,
       "version_minor": 0
      },
      "text/plain": [
       "HBox(children=(IntProgress(value=0, max=24), HTML(value='')))"
      ]
     },
     "metadata": {},
     "output_type": "display_data"
    },
    {
     "name": "stdout",
     "output_type": "stream",
     "text": [
      "\n",
      "5.2060698581947955 0.7606990694142874\n",
      "[2, 2, 2, 2, 2, 2, 2, 2, 2, 2, 2, 2, 2, 2, 2, 2, 2, 2, 2, 2, 2, 2, 2, 2]\n"
     ]
    }
   ],
   "source": [
    "name = 'avg_13.p'\n",
    "log_y = True\n",
    "feats, _, parts, df = feature_engineering_aggr(avg_len=6)\n",
    "print(val_last_day(name, log_y))\n",
    "g_scores, best_shifts = validate_model(name, log_y=log_y)\n",
    "print(g_scores.mean(), g_scores.std())\n",
    "print(best_shifts)"
   ]
  },
  {
   "cell_type": "code",
   "execution_count": 1679,
   "metadata": {},
   "outputs": [
    {
     "name": "stdout",
     "output_type": "stream",
     "text": [
      "(40152, 187) (38952, 187) (1200, 187) 50 176\n"
     ]
    },
    {
     "data": {
      "application/vnd.jupyter.widget-view+json": {
       "model_id": "e421861d5d9045afaf76fed7d19de3b9",
       "version_major": 2,
       "version_minor": 0
      },
      "text/plain": [
       "HBox(children=(IntProgress(value=0, max=50), HTML(value='')))"
      ]
     },
     "metadata": {},
     "output_type": "display_data"
    },
    {
     "name": "stdout",
     "output_type": "stream",
     "text": [
      "\n",
      "part scores 9.846085344284653 6.693857842627462\n",
      "('\\nglobal rmse, mae, r2', 11.906012322530252, 8.251295477491901, 0.5951977890170528)\n",
      "CV: None, folds: 0, logaritm: True, \n",
      "model: <class 'xgboost.sklearn.XGBRegressor'>, \n",
      "params: {'n_jobs': 8, 'random_state': 123, 'objective': 'reg:squarederror', 'max_depth': 5, 'subsample': 0.95}\n",
      "Wall time: 8min 49s\n"
     ]
    }
   ],
   "source": [
    "%%time\n",
    "name = 'avg_14.p'\n",
    "log_y = True\n",
    "feats, _, parts, df = feature_engineering_aggr_no_shift(avg_len=6)\n",
    "print(df.shape, train.shape, test.shape, len(parts), len(feats))\n",
    "with_params = {\n",
    "    'model'         : xgb.XGBRegressor,\n",
    "    'params'        : {'n_jobs': 8,\n",
    "                       'random_state': 123,\n",
    "                       'objective': 'reg:squarederror',    #reg:squarederror reg:linear\n",
    "                       'max_depth': 5,\n",
    "                       'subsample': 0.95},\n",
    "    'parts'         : parts, \n",
    "    'feats'         : feats,\n",
    "    'y_log'         : log_y,\n",
    "    'cv'            : None,\n",
    "    'folds'         : 0,\n",
    "    'max_train_size': None,\n",
    "}\n",
    "models, y_test_all, y_pred_all, scores = run_model_parts(**with_params)\n",
    "result = models, y_test_all, y_pred_all, scores\n",
    "with open(name, 'wb') as f:\n",
    "    pickle.dump(result, f)\n",
    "test['pm25'] = y_pred_all\n",
    "test[ ['id', 'pm25'] ].to_csv('submit_{}.csv'.format(name[:-2]), index=False)"
   ]
  },
  {
   "cell_type": "code",
   "execution_count": 2030,
   "metadata": {},
   "outputs": [
    {
     "name": "stdout",
     "output_type": "stream",
     "text": [
      "14.694729719457651\n"
     ]
    },
    {
     "data": {
      "application/vnd.jupyter.widget-view+json": {
       "model_id": "176bbd81f71447d196195f1b3d96c8f5",
       "version_major": 2,
       "version_minor": 0
      },
      "text/plain": [
       "HBox(children=(IntProgress(value=0, max=24), HTML(value='')))"
      ]
     },
     "metadata": {},
     "output_type": "display_data"
    },
    {
     "name": "stdout",
     "output_type": "stream",
     "text": [
      "\n",
      "5.205922886710776 0.8045616738038381\n",
      "[2, 2, 2, 2, 2, 2, 2, 2, 2, 2, 2, 2, 2, 2, 2, 2, 2, 2, 2, 2, 2, 2, 2, 2]\n"
     ]
    }
   ],
   "source": [
    "name = 'avg_14.p'\n",
    "log_y = True\n",
    "feats, _, parts, df = feature_engineering_aggr_no_shift(avg_len=6)\n",
    "print(val_last_day(name, log_y))\n",
    "g_scores, best_shifts = validate_model(name, log_y=log_y)\n",
    "print(g_scores.mean(), g_scores.std())\n",
    "print(best_shifts)"
   ]
  },
  {
   "cell_type": "code",
   "execution_count": 44,
   "metadata": {},
   "outputs": [
    {
     "name": "stdout",
     "output_type": "stream",
     "text": [
      "(40152, 43) (38952, 43) (1200, 43) 50 32\n"
     ]
    },
    {
     "data": {
      "application/vnd.jupyter.widget-view+json": {
       "model_id": "f413033feac349b49ac91d7682b239b3",
       "version_major": 2,
       "version_minor": 0
      },
      "text/plain": [
       "HBox(children=(IntProgress(value=0, max=50), HTML(value='')))"
      ]
     },
     "metadata": {},
     "output_type": "display_data"
    },
    {
     "name": "stdout",
     "output_type": "stream",
     "text": [
      "\n",
      "Wall time: 5min 52s\n"
     ]
    }
   ],
   "source": [
    "%%time\n",
    "name = 'avg_15.p'\n",
    "log_y = False\n",
    "feats, _, parts, df = feature_engineering_avg_no_shift()\n",
    "print(df.shape, train.shape, test.shape, len(parts), len(feats))\n",
    "with_params = {\n",
    "    'model'         : xgb.XGBRegressor,\n",
    "    'params'        : {'n_jobs': 8,\n",
    "                       'random_state': 123,\n",
    "                       'objective': 'reg:squarederror',    #reg:squarederror reg:linear\n",
    "                       'max_depth': 5,\n",
    "                       'subsample': 0.7095712157848493,\n",
    "                       'learning_rate': 0.19354780543695485,\n",
    "                       'n_estimators': 100,\n",
    "                      },\n",
    "    'parts'         : parts, \n",
    "    'feats'         : feats,\n",
    "    'y_log'         : log_y,\n",
    "    'cv'            : None,\n",
    "    'folds'         : 0,\n",
    "    'max_train_size': None,\n",
    "}\n",
    "models, y_test_all, y_pred_all, scores = run_model_parts(**with_params)\n",
    "result = models, y_test_all, y_pred_all, scores\n",
    "with open(name, 'wb') as f:\n",
    "    pickle.dump(result, f)\n",
    "test['pm25'] = y_pred_all\n",
    "test[ ['id', 'pm25'] ].to_csv('submit_{}.csv'.format(name[:-2]), index=False)"
   ]
  },
  {
   "cell_type": "code",
   "execution_count": 266,
   "metadata": {},
   "outputs": [
    {
     "name": "stdout",
     "output_type": "stream",
     "text": [
      "15.145594579172455\n"
     ]
    },
    {
     "data": {
      "application/vnd.jupyter.widget-view+json": {
       "model_id": "e3b58e03d21440bd8da1c20495b19a35",
       "version_major": 2,
       "version_minor": 0
      },
      "text/plain": [
       "HBox(children=(IntProgress(value=0, max=24), HTML(value='')))"
      ]
     },
     "metadata": {},
     "output_type": "display_data"
    },
    {
     "name": "stdout",
     "output_type": "stream",
     "text": [
      "2.01226837646688\n",
      "3.291032904019426\n",
      "3.642420443755876\n",
      "4.04079682168573\n",
      "4.3852432997776845\n",
      "4.455464507426135\n",
      "4.449342002800954\n",
      "4.453155514013422\n",
      "4.306450040409523\n",
      "4.427973098445336\n",
      "4.350873839977196\n",
      "4.636729288129983\n",
      "4.297181778204014\n",
      "4.3110691050566565\n",
      "4.430970496658663\n",
      "4.8175883448607095\n",
      "4.90946499009754\n",
      "5.250714590681042\n",
      "5.102054120219222\n",
      "4.651035564483246\n",
      "4.944894009102698\n",
      "5.232119446359298\n",
      "5.131745966997162\n",
      "5.41852081787371\n",
      "\n",
      "4.456212890312588 0.7050380139608385\n",
      "[2, 2, 2, 2, 2, 2, 2, 2, 2, 2, 2, 2, 2, 2, 2, 2, 2, 2, 2, 2, 2, 2, 2, 2]\n"
     ]
    }
   ],
   "source": [
    "name = 'avg_15.p'\n",
    "log_y = False\n",
    "feats, _, parts, df = feature_engineering_avg_no_shift()\n",
    "print(val_last_day(name, log_y))\n",
    "g_scores, best_shifts = validate_model(name, log_y=log_y)\n",
    "print(g_scores.mean(), g_scores.std())\n",
    "print(best_shifts)"
   ]
  },
  {
   "cell_type": "code",
   "execution_count": 22,
   "metadata": {},
   "outputs": [],
   "source": [
    "# offline validation (g_scores), private, public\n",
    "\n",
    "name = 'avg_6.p'\n",
    "log_y = False\n",
    "feats, _, parts, df = feature_engineering_clean()\n",
    "\n",
    "result = feats, parts, df, log_y\n",
    "with open('df_'+name, 'wb') as f:\n",
    "    pickle.dump(result, f)\n",
    "\n",
    "#4.983182671748334\n",
    "\n",
    "name = 'avg_7.p'\n",
    "log_y = True\n",
    "feats, _, parts, df = feature_engineering_clean()\n",
    "result = feats, parts, df, log_y\n",
    "with open('df_'+name, 'wb') as f:\n",
    "    pickle.dump(result, f)\n",
    "#5.207241987678015\n",
    "\n",
    "name = 'avg_8.p'\n",
    "log_y = False\n",
    "feats, _, parts, df = feature_engineering_time()\n",
    "result = feats, parts, df, log_y\n",
    "with open('df_'+name, 'wb') as f:\n",
    "    pickle.dump(result, f)\n",
    "#6.368753104209304 \n",
    "\n",
    "name = 'avg_9.p'\n",
    "log_y = True\n",
    "feats, _, parts, df = feature_engineering_time()\n",
    "result = feats, parts, df, log_y\n",
    "with open('df_'+name, 'wb') as f:\n",
    "    pickle.dump(result, f)\n",
    "#6.6618609027345626 \n",
    "\n",
    "name = 'avg_10.p'\n",
    "log_y = False\n",
    "feats, _, parts, df = feature_engineering_avg_no_shift()\n",
    "result = feats, parts, df, log_y\n",
    "with open('df_'+name, 'wb') as f:\n",
    "    pickle.dump(result, f)\n",
    "#4.653511053270125 14.27904 13.85838\n",
    "\n",
    "name = 'avg_11.p'\n",
    "log_y = True\n",
    "feats, _, parts, df = feature_engineering_avg_no_shift()\n",
    "result = feats, parts, df, log_y\n",
    "with open('df_'+name, 'wb') as f:\n",
    "    pickle.dump(result, f)\n",
    "#4.971722803101887 14.49157 14.10673\n",
    "\n",
    "name = 'avg_12.p'\n",
    "log_y = False\n",
    "feats, _, parts, df = feature_engineering_aggr(avg_len=6)\n",
    "result = feats, parts, df, log_y\n",
    "with open('df_'+name, 'wb') as f:\n",
    "    pickle.dump(result, f)\n",
    "#4.876402152627786 14.99536 14.86090\n",
    "\n",
    "name = 'avg_13.p'\n",
    "log_y = True\n",
    "feats, _, parts, df = feature_engineering_aggr(avg_len=6)\n",
    "result = feats, parts, df, log_y\n",
    "with open('df_'+name, 'wb') as f:\n",
    "    pickle.dump(result, f)\n",
    "#5.2060698581947955 14.33977 14.21735\n",
    "\n",
    "name = 'avg_14.p'\n",
    "log_y = True\n",
    "feats, _, parts, df = feature_engineering_aggr_no_shift(avg_len=6)\n",
    "result = feats, parts, df, log_y\n",
    "with open('df_'+name, 'wb') as f:\n",
    "    pickle.dump(result, f)\n",
    "#5.205922886710776 14.25774 14.07494\n",
    "\n",
    "name = 'avg_4.p'\n",
    "log_y=True\n",
    "num_feats, _, parts, df = feature_engineering_avg(avg_len=6)\n",
    "result = feats, parts, df, log_y\n",
    "with open('df_'+name, 'wb') as f:\n",
    "    pickle.dump(result, f)\n",
    "#4.966339993510453 15.11317 14.07673\n",
    "\n",
    "name = 'avg_5.p'\n",
    "log_y=True\n",
    "num_feats, _, parts, df = feature_engineering_avg(avg_len=6)\n",
    "result = feats, parts, df, log_y\n",
    "with open('df_'+name, 'wb') as f:\n",
    "    pickle.dump(result, f)\n",
    "#6.418338631267948 19.22690 18.09434\n",
    "\n",
    "name = 'avg_3.p'\n",
    "log_y=False\n",
    "num_feats, _, parts, df = feature_engineering_avg(avg_len=6)\n",
    "result = feats, parts, df, log_y\n",
    "with open('df_'+name, 'wb') as f:\n",
    "    pickle.dump(result, f)\n",
    "#4.679294867629126 15.17040 14.24001\n",
    "\n",
    "name = 'avg_2.p'\n",
    "log_y=True\n",
    "num_feats, _, parts, df = feature_engineering_avg(avg_len=6)\n",
    "result = feats, parts, df, log_y\n",
    "with open('df_'+name, 'wb') as f:\n",
    "    pickle.dump(result, f)\n",
    "#4.966339993510453 15.24213 14.32955\n",
    "\n",
    "name = 'avg_1.p'\n",
    "log_y=False\n",
    "num_feats, _, parts, df = feature_engineering_avg(avg_len=6)\n",
    "result = feats, parts, df, log_y\n",
    "with open('df_'+name, 'wb') as f:\n",
    "    pickle.dump(result, f)\n",
    "#4.679294867629126 15.18499 14.30738\n"
   ]
  }
 ],
 "metadata": {
  "kernelspec": {
   "display_name": "Python 3",
   "language": "python",
   "name": "python3"
  },
  "language_info": {
   "codemirror_mode": {
    "name": "ipython",
    "version": 3
   },
   "file_extension": ".py",
   "mimetype": "text/x-python",
   "name": "python",
   "nbconvert_exporter": "python",
   "pygments_lexer": "ipython3",
   "version": "3.7.6"
  }
 },
 "nbformat": 4,
 "nbformat_minor": 2
}
