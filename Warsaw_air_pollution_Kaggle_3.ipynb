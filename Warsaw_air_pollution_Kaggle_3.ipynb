{
 "cells": [
  {
   "cell_type": "code",
   "execution_count": 1,
   "metadata": {},
   "outputs": [],
   "source": [
    "import pandas as pd\n",
    "import numpy as np\n",
    "import matplotlib.pyplot as plt\n",
    "\n",
    "from tqdm import tqdm_notebook as tqdm\n",
    "\n",
    "import gc\n",
    "import pickle\n",
    "from os import path\n",
    "\n",
    "np.random.seed(0)\n",
    "\n",
    "from sklearn.metrics import mean_squared_error, mean_absolute_error, r2_score, make_scorer, accuracy_score\n",
    "from ml_metrics import rmse\n",
    "\n",
    "from functools import partial\n",
    "from hyperopt import hp\n",
    "from hyperopt import hp, fmin, tpe, STATUS_OK, Trials\n",
    "\n",
    "import xgboost as xgb\n",
    "\n",
    "\n",
    "import warnings\n",
    "warnings.filterwarnings('ignore')\n",
    "%matplotlib inline"
   ]
  },
  {
   "cell_type": "code",
   "execution_count": 2,
   "metadata": {},
   "outputs": [],
   "source": [
    "def beginFE():\n",
    "    \n",
    "    for one in globals().copy().keys():\n",
    "        if one.endswith('_feats'):\n",
    "            del globals()[one]\n",
    "    if 'feats' in globals():\n",
    "        del globals()['feats']\n",
    "    \n",
    "    train = pd.read_hdf('train_warsaw.h5')\n",
    "    train = train.rename(columns={'timestamp': 'date'}).reset_index()\n",
    "    train.drop( columns=['timestamp'], inplace = True)\n",
    "    test = pd.read_hdf('test_warsaw.h5')\n",
    "    test = test.rename(columns={'timestamp': 'date'}).reset_index()\n",
    "    test.drop( columns=['timestamp'], inplace = True)\n",
    "    \n",
    "    df = pd.concat([train, test], sort=True)\n",
    "    df.sort_values(['date', 'id'], inplace=True)\n",
    "        \n",
    "    df['hour']    = df.date.dt.hour\n",
    "    df['day_m']   = df.date.dt.day\n",
    "    df['month']   = df.date.dt.month\n",
    "    df['year']    = df.date.dt.year\n",
    "    df['week_y']  = df.date.dt.week\n",
    "    df['day_y']   = df.date.dt.dayofyear\n",
    "    df['day_w']   = df.date.dt.dayofweek\n",
    "    df['quarter'] = df.date.dt.quarter\n",
    "    df['hour_w']  = df.date.dt.hour + df.date.dt.dayofweek * 24\n",
    "    \n",
    "    df['pm25_log']      = (np.log(df[ df['pm25']>0 ]['pm25']+1))\n",
    "    \n",
    "    time_feats = ['quarter', 'month', 'week_y', 'day_y', 'day_m', 'day_w', 'hour', 'hour_w', 'year']\n",
    "    black_list_feats = ['id', 'pm25', 'pm25_log', 'is_non_cont', 'id_dif', 'd_time', 'cont_nr']\n",
    "    \n",
    "    return df, time_feats, black_list_feats\n",
    "    \n",
    "def endFE(df, black_list_feats):\n",
    "\n",
    "    # listy kawałków\n",
    "    def count_cont_nr(flag):\n",
    "        global value\n",
    "        if flag:\n",
    "            value = 1\n",
    "        else:\n",
    "            value += 1\n",
    "        return int(value)\n",
    "    \n",
    "    df['is_non_cont'] = df.shift(1).id != (df.id - 1)\n",
    "    df['id_dif'] = (df.id - df.shift(1).id).fillna(0).astype(int)\n",
    "    df['d_time'] = df.date - df.shift(1).date\n",
    "    df.reset_index(drop=True, inplace=True)\n",
    "    df['cont_nr'] = df.apply(lambda x: count_cont_nr(x['is_non_cont']), axis=1)\n",
    "    begin_idx = df.loc[df['is_non_cont']].index.values.astype(int)\n",
    "    end_idx = (df.shift(1).loc[df['is_non_cont']]['cont_nr'].shift(-1) + \n",
    "               df.loc[df['is_non_cont']].index.values).values.astype(int)\n",
    "    end_idx[-1] = int(len(df))\n",
    "    parts = []\n",
    "    for i in range(len(begin_idx)):\n",
    "        parts.append( df.iloc[ begin_idx[i] : (end_idx[i]) ].copy() )\n",
    "        \n",
    "    train, test = df[ ~df.pm25.isnull() ], df[ df.pm25.isnull() ]\n",
    "    \n",
    "    num_feats = df.select_dtypes(include=[np.number, bool]).columns.values\n",
    "    num_feats = [feat for feat in num_feats if feat not in black_list_feats]\n",
    "    omit_feats = [x for x in df.columns if x not in num_feats]\n",
    "            \n",
    "#     df.fillna(-1, inplace=True)\n",
    "#     df = df.iloc[24:,]\n",
    "    \n",
    "    return df, train, test, parts, num_feats, omit_feats\n",
    "       \n",
    "def print_feat_groups():   \n",
    "    feats_list = ['black_list_feats', 'omit_feats', 'num_feats', 'time_feats']\n",
    "    for one in feats_list:\n",
    "        if one in globals():\n",
    "            arr_feats = globals()[one]\n",
    "            if arr_feats:\n",
    "                print('--------------------------------------------------')\n",
    "                print(one, arr_feats)\n",
    "    print('--------------------------------------------------')"
   ]
  },
  {
   "cell_type": "code",
   "execution_count": 3,
   "metadata": {},
   "outputs": [],
   "source": [
    "def feature_engineering_avg_no_shift(avg_len):\n",
    "    \n",
    "    df, time_feats, black_list_feats = beginFE()\n",
    "    \n",
    "    df['windSpeed_log'] = (np.log(df[ df['windSpeed']>0 ]['windSpeed']+5))\n",
    "    df['windGust_log']  = (np.log(df[ df['windGust']>0  ]['windGust']+2))\n",
    "    \n",
    "    obj_feats = df.select_dtypes(np.object).columns\n",
    "    for feat in obj_feats:\n",
    "        df[feat + '_cat'] = df[feat].factorize()[0]\n",
    "        \n",
    "    df['avg_mov'] = df['pm25'].rolling( window=avg_len, min_periods=1).mean()\n",
    "    df['avg_mov'] = df.apply(lambda x: np.nan if np.isnan(x['pm25']) else x['avg_mov'], axis=1)\n",
    "    df['avg_diff'] = df.apply(lambda x: x['pm25']-x['avg_mov'], axis=1)\n",
    "    \n",
    "#     df['avg_diff'][df['avg_diff'] > 30] = 30                                   # cap value\n",
    "#     df['avg_diff'][df['avg_diff'] < -30] = -30\n",
    "    \n",
    "    df, train, test, parts, num_feats, omit_feats = endFE(df, black_list_feats)\n",
    "\n",
    "    return df, train, test, parts, num_feats, omit_feats, time_feats, black_list_feats"
   ]
  },
  {
   "cell_type": "code",
   "execution_count": 4,
   "metadata": {},
   "outputs": [],
   "source": [
    "def feature_engineering_aggr_no_shift(avg_len=6, roll_nr=[6, 12], agr_fn=['min', 'max', 'mean', 'median']):\n",
    "    \n",
    "    df, time_feats, black_list_feats = beginFE()\n",
    "    \n",
    "    df['windSpeed_log'] = (np.log(df[ df['windSpeed']>0 ]['windSpeed']+5))\n",
    "    df['windGust_log']  = (np.log(df[ df['windGust']>0  ]['windGust']+2))\n",
    "    \n",
    "    obj_feats = df.select_dtypes(np.object).columns\n",
    "    for feat in obj_feats:\n",
    "        df[feat + '_cat'] = df[feat].factorize()[0]\n",
    "        \n",
    "    past_feats = df.select_dtypes(include=[np.number, bool]).columns.values\n",
    "    past_feats = [feat for feat in past_feats if feat not in black_list_feats]\n",
    "    past_feats = [feat for feat in past_feats if feat not in time_feats]\n",
    "    \n",
    "    roll_columns = [feat for feat in past_feats if not feat.endswith('_cat')]   \n",
    "    \n",
    "    for r_feat in roll_columns:\n",
    "        for fn in agr_fn:\n",
    "            for nr in roll_nr:    \n",
    "                suffix = '_roll{}{}'.format(nr, fn)\n",
    "                df[r_feat + suffix] = getattr(df[r_feat].rolling(nr), fn)()\n",
    "    roll_feats = [feat for feat in df.columns if '_roll' in feat]\n",
    "        \n",
    "    df['avg_mov'] = df['pm25'].rolling( window=avg_len, min_periods=1).mean()\n",
    "    df['avg_mov'] = df.apply(lambda x: np.nan if np.isnan(x['pm25']) else x['avg_mov'], axis=1)\n",
    "    df['avg_diff'] = df.apply(lambda x: x['pm25']-x['avg_mov'], axis=1)\n",
    "    \n",
    "#     df['avg_diff'][df['avg_diff'] > 30] = 30                                   # cap value\n",
    "#     df['avg_diff'][df['avg_diff'] < -30] = -30\n",
    "    \n",
    "    df, train, test, parts, num_feats, omit_feats = endFE(df, black_list_feats)\n",
    "\n",
    "    return df, train, test, parts, num_feats, omit_feats, time_feats, black_list_feats"
   ]
  },
  {
   "cell_type": "code",
   "execution_count": 5,
   "metadata": {},
   "outputs": [],
   "source": [
    "# możliwość podania dowolnej ilosci punktów do predykcji\n",
    "\n",
    "def run_model_nr(nr, model_selected, model_params, parts_to_go, feats_selected, y_log):\n",
    "    \n",
    "    train_df, y_train_all = pd.DataFrame(columns=feats_selected), np.array([])\n",
    "    last_days_df, y_last_days, y_last_pred, y_pred_all = train_df.copy(), np.array([]), np.array([]), np.array([])\n",
    "    models, global_scores, last_day_scores = [], np.array([]), np.array([])\n",
    "\n",
    "    for i in np.arange(nr):\n",
    "        models.append(model_selected(**model_params))          # odzielne modele dla 24h\n",
    "    \n",
    "    for train in tqdm(parts_to_go):                               # kolejne bloki danych\n",
    "  \n",
    "        X = train[feats_selected].values\n",
    "        y = (train['pm25'].values).astype(np.float64)\n",
    "        if y_log:\n",
    "            y = (train['pm25_log'].values).astype(np.float64)\n",
    "   \n",
    "        X_last  = X[-25:-24]                                    # ostatni wiersz z bloku danych\n",
    "        X_train = X[0:-25]                                      # pomija zbiór testowy i ostatni wiersz\n",
    "        \n",
    "        for i in np.arange(nr):                                 # każdy model szkolony oddzielnie\n",
    "            y = pd.Series(y).shift(-1).values                   # przesuwa pm25 o 1h w przeszłość\n",
    "            y_train = y[0:-25]                       \n",
    "            models[i].fit(X_train, y_train)                        \n",
    "            y_last = (models[i].predict(X_last)).astype(np.float64)\n",
    "            y[-25] = y_last[0]                                  # prognoza na 1h\n",
    "        \n",
    "        y_pred = y[-nr-24:-24]                                  # prognoza na 24h\n",
    "        if y_log:\n",
    "            y_pred = np.exp(y_pred)-1\n",
    "         \n",
    "        #last day CV\n",
    "        \n",
    "        X_last_day = X[-nr-25:-nr-24]                           # godzina poprzedzająca ostatni dzień z danymi\n",
    "        y_last_day = train.pm25[-nr-25:-25].values\n",
    "        y_last_p = np.array([])\n",
    "        for i in np.arange(nr):                     \n",
    "            y_hour = (models[i].predict(X_last_day)).astype(np.float64)\n",
    "            y_last_p = np.concatenate((y_last_p, y_hour))\n",
    "        if y_log:\n",
    "            y_last_p = np.exp(y_last_p)-1\n",
    "        last_day_scores = np.append( last_day_scores, [rmse(y_last_day, y_last_p)] )\n",
    "            \n",
    "        train_df     = train_df + train[feats_selected][0:-25]\n",
    "        last_days_df = last_days_df + train[feats_selected][-nr-25:-25]\n",
    "        y_train_all  = np.concatenate((y_train_all, train.pm25[0:-25].values))\n",
    "        y_last_days  = np.concatenate((y_last_days, y_last_day))\n",
    "        y_last_pred  = np.concatenate((y_last_pred, y_last_p))\n",
    "        y_pred_all   = np.concatenate((y_pred_all, y_pred))\n",
    "        \n",
    "        # CV\n",
    "        \n",
    "        side = 2  # pozwala uniknąć cyklicznych podobieństw parametru - dla 2 sprawdza 5 sąsiednich wartosci\n",
    "        part_scores = np.array([])\n",
    "        for i in np.arange(nr):                         # waliduje każdy model osobno\n",
    "            scores = np.array([])\n",
    "            for shift in np.arange(-i-side, -i+side):         # sprawdza przesunięcia wykresu - kiedy bład będzie najmniejszy?\n",
    "                X_cv = train[feats_selected][0:-25].values\n",
    "                y_cv = train.pm25[0:-25].values\n",
    "                if y_log:\n",
    "                    y_cv = train.pm25_log[0:-25].values\n",
    "                y_cv = pd.Series(y_cv).shift(shift).values    # przesuwa y w przeszłośc (wartości ujemne)\n",
    "                y_pred_cv = (models[i].predict(X_cv)).astype(np.float64)\n",
    "                if y_log: \n",
    "                    y_cv = np.exp(y_cv)-1\n",
    "                    y_pred_cv = np.exp(y_pred_cv)-1\n",
    "                scores = np.append( scores, [rmse(y_cv[side:-side-nr], y_pred_cv[side:-side-nr])] )\n",
    "            part_scores = np.append( part_scores, [scores[scores.argmin()]] )\n",
    "#         print(part_scores.mean(), part_scores.std())\n",
    "\n",
    "        global_scores = np.append( global_scores, part_scores )\n",
    "    print(global_scores.mean(), last_day_scores.mean(), rmse(y_last_days, y_last_pred), \n",
    "          r2_score(y_last_days, y_last_pred), model_params)      \n",
    "    return global_scores, last_day_scores, models, y_pred_all, train_df, last_days_df, y_train_all, y_last_days, y_last_pred"
   ]
  },
  {
   "cell_type": "code",
   "execution_count": 6,
   "metadata": {},
   "outputs": [],
   "source": [
    "# pomija ostatni okres w zbiorze testowym i używa go do walidacji\n",
    "\n",
    "def run_model_day(nr, model_selected, model_params, parts_to_go, feats_selected, y_log):\n",
    "    \n",
    "    train_df, y_train_all = pd.DataFrame(columns=feats_selected), np.array([])\n",
    "    last_days_df, y_last_days, y_last_pred, y_pred_all = train_df.copy(), np.array([]), np.array([]), np.array([])\n",
    "    models, global_scores, last_day_scores = [], np.array([]), np.array([])\n",
    "\n",
    "    for i in np.arange(nr):\n",
    "        models.append(model_selected(**model_params))          # odzielne modele dla 24h\n",
    "    \n",
    "    for train in tqdm(parts_to_go):                               # kolejne bloki danych\n",
    "  \n",
    "        X = train[feats_selected].values\n",
    "        y = (train['pm25'].values).astype(np.float64)\n",
    "        if y_log:\n",
    "            y = (train['pm25_log'].values).astype(np.float64)\n",
    "   \n",
    "        X_last  = X[-25:-24]                                    # ostatni wiersz z bloku danych\n",
    "        X_train = X[0:-nr-25]                                   # pomija zbiór testowy, ostatni wiersz i ostatni dzień (CV)\n",
    "        \n",
    "        for i in np.arange(nr):                                 # każdy model szkolony oddzielnie\n",
    "            y = pd.Series(y).shift(-1).values                   # przesuwa pm25 o 1h w przeszłość\n",
    "            y_train = y[0:-nr-25]                       \n",
    "            models[i].fit(X_train, y_train)                        \n",
    "            y_last = (models[i].predict(X_last)).astype(np.float64)\n",
    "            y[-25] = y_last[0]                                  # prognoza na 1h\n",
    "        \n",
    "        y_pred = y[-nr-24:-24]                                     # prognoza na 24 h (nr)\n",
    "        if y_log:\n",
    "            y_pred = np.exp(y_pred)-1\n",
    "        \n",
    "        #last day CV\n",
    "        \n",
    "        X_last_day = X[-nr-25:-nr-24]                                 # godzina poprzedzająca ostatni dzień z danymi\n",
    "        y_last_day = train.pm25[-nr-25:-25].values\n",
    "        y_last_p = np.array([])\n",
    "        for i in np.arange(nr):                     \n",
    "            y_hour = (models[i].predict(X_last_day)).astype(np.float64)\n",
    "            y_last_p = np.concatenate((y_last_p, y_hour))\n",
    "        if y_log:\n",
    "            y_last_p = np.exp(y_last_p)-1\n",
    "        last_day_scores = np.append( last_day_scores, [rmse(y_last_day, y_last_p)] )\n",
    "            \n",
    "        train_df     = train_df + train[feats_selected][0:-nr-25]\n",
    "        last_days_df = last_days_df + train[feats_selected][-nr-25:-25]\n",
    "        y_train_all  = np.concatenate((y_train_all, train.pm25[0:-nr-25].values))\n",
    "        y_last_days  = np.concatenate((y_last_days, y_last_day))\n",
    "        y_last_pred  = np.concatenate((y_last_pred, y_last_p))\n",
    "        y_pred_all   = np.concatenate((y_pred_all, y_pred))\n",
    "        \n",
    "        # CV\n",
    "        \n",
    "        side = 2  # pozwala uniknąć cyklicznych podobieństw parametru - dla 2 sprawdza 5 sąsiednich wartosci\n",
    "        part_scores = np.array([])\n",
    "        for i in np.arange(nr):                         # waliduje każdy model osobno\n",
    "            scores = np.array([])\n",
    "            for shift in np.arange(-i-side, -i+side):         # sprawdza przesunięcia wykresu - kiedy bład będzie najmniejszy?\n",
    "                X_cv = train[feats_selected][0:-nr-25].values\n",
    "                y_cv = train.pm25[0:-nr-25].values\n",
    "                if y_log:\n",
    "                    y_cv = train.pm25_log[0:-nr-25].values\n",
    "                y_cv = pd.Series(y_cv).shift(shift).values    # przesuwa y w przeszłośc (wartości ujemne)\n",
    "                y_pred_cv = (models[i].predict(X_cv)).astype(np.float64)\n",
    "                if y_log: \n",
    "                    y_cv = np.exp(y_cv)-1\n",
    "                    y_pred_cv = np.exp(y_pred_cv)-1\n",
    "                scores = np.append( scores, [rmse(y_cv[side:-side-nr], y_pred_cv[side:-side-nr])] )\n",
    "            part_scores = np.append( part_scores, [scores[scores.argmin()]] )\n",
    "#         print(part_scores.mean(), part_scores.std())\n",
    "\n",
    "        global_scores = np.append( global_scores, part_scores )\n",
    "    print(global_scores.mean(), last_day_scores.mean(), rmse(y_last_days, y_last_pred), \n",
    "          r2_score(y_last_days, y_last_pred), model_params)      \n",
    "    return global_scores, last_day_scores, models, y_pred_all, train_df, last_days_df, y_train_all, y_last_days, y_last_pred"
   ]
  },
  {
   "cell_type": "code",
   "execution_count": 65,
   "metadata": {},
   "outputs": [
    {
     "name": "stdout",
     "output_type": "stream",
     "text": [
      "(40152, 43) (38952, 43) (1200, 43) 50 32\n"
     ]
    },
    {
     "data": {
      "text/plain": [
       "HBox(children=(IntProgress(value=0, max=50), HTML(value='')))"
      ]
     },
     "metadata": {},
     "output_type": "display_data"
    },
    {
     "name": "stdout",
     "output_type": "stream",
     "text": [
      "1.2761247281532098 3.2419481413399622\n",
      "Wall time: 5min\n"
     ]
    }
   ],
   "source": [
    "%%time\n",
    "name = 'avg_10_2.p'\n",
    "log_y = False\n",
    "df, train, test, parts, num_feats, omit_feats, time_feats, black_list_feats = feature_engineering_avg_no_shift(avg_len=24)\n",
    "feats = num_feats\n",
    "print(df.shape, train.shape, test.shape, len(parts), len(feats))\n",
    "with_params = {\n",
    "    'model_selected'  : xgb.XGBRegressor,\n",
    "    'model_params' : {'n_jobs': 8,\n",
    "                       'random_state': 123,\n",
    "                       'objective': 'reg:squarederror',    #reg:squarederror reg:linear\n",
    "                       'max_depth': 5,\n",
    "                       'subsample': 0.95},\n",
    "    'parts_to_go'     : parts, \n",
    "    'feats_selected'  : feats,\n",
    "    'y_log'           : log_y,\n",
    "    'nr'              : 24\n",
    "}\n",
    "\n",
    "global_scores, last_day_scores, models, y_pred_all, train_df, last_days_df, y_train_all, y_last_days, y_last_pred = \\\n",
    "    run_model_nr(**with_params)\n",
    "\n",
    "result = global_scores, last_day_scores, models, y_pred_all, train_df, last_days_df, y_train_all, y_last_days, y_last_pred\n",
    "with open(name, 'wb') as f:\n",
    "    pickle.dump(result, f)\n",
    "test['pm25'] = y_pred_all\n",
    "test[ ['id', 'pm25'] ].to_csv('submit_{}.csv'.format(name[:-2]), index=False)"
   ]
  },
  {
   "cell_type": "code",
   "execution_count": 67,
   "metadata": {},
   "outputs": [
    {
     "name": "stdout",
     "output_type": "stream",
     "text": [
      "(40152, 43) (38952, 43) (1200, 43) 50 32\n"
     ]
    },
    {
     "data": {
      "text/plain": [
       "HBox(children=(IntProgress(value=0, max=50), HTML(value='')))"
      ]
     },
     "metadata": {},
     "output_type": "display_data"
    },
    {
     "name": "stdout",
     "output_type": "stream",
     "text": [
      "0.6517045664260221 3.420822969652881\n",
      "Wall time: 4min 58s\n"
     ]
    }
   ],
   "source": [
    "%%time\n",
    "name = 'avg_15_2.p'\n",
    "log_y = False\n",
    "df, train, test, parts, num_feats, omit_feats, time_feats, black_list_feats = feature_engineering_avg_no_shift(avg_len=24)\n",
    "feats = num_feats\n",
    "print(df.shape, train.shape, test.shape, len(parts), len(feats))\n",
    "with_params = {\n",
    "    'model_selected': xgb.XGBRegressor,\n",
    "    'model_params'  : {'n_jobs': 8,\n",
    "                       'random_state': 123,\n",
    "                       'objective': 'reg:squarederror',    #reg:squarederror reg:linear\n",
    "                       'max_depth': 5,\n",
    "                       'subsample': 0.7095712157848493,\n",
    "                       'learning_rate': 0.19354780543695485,\n",
    "                       'n_estimators': 100,\n",
    "                      },\n",
    "    'parts_to_go'     : parts, \n",
    "    'feats_selected'  : feats,\n",
    "    'y_log'           : log_y,\n",
    "    'nr'              : 24\n",
    "}\n",
    "global_scores, last_day_scores, models, y_pred_all, train_df, last_days_df, y_train_all, y_last_days, y_last_pred = \\\n",
    "    run_model_nr(**with_params)\n",
    "\n",
    "result = global_scores, last_day_scores, models, y_pred_all, train_df, last_days_df, y_train_all, y_last_days, y_last_pred\n",
    "with open(name, 'wb') as f:\n",
    "    pickle.dump(result, f)\n",
    "test['pm25'] = y_pred_all\n",
    "test[ ['id', 'pm25'] ].to_csv('submit_{}.csv'.format(name[:-2]), index=False)"
   ]
  },
  {
   "cell_type": "code",
   "execution_count": 120,
   "metadata": {},
   "outputs": [
    {
     "name": "stdout",
     "output_type": "stream",
     "text": [
      "(40152, 43) (38952, 43) (1200, 43) 50 32\n"
     ]
    },
    {
     "data": {
      "text/plain": [
       "HBox(children=(IntProgress(value=0, max=50), HTML(value='')))"
      ]
     },
     "metadata": {},
     "output_type": "display_data"
    },
    {
     "name": "stdout",
     "output_type": "stream",
     "text": [
      "0.9678364920842439 3.3157616794427778\n",
      "Wall time: 4min 58s\n"
     ]
    }
   ],
   "source": [
    "%%time\n",
    "name = 'avg_16_2.p'\n",
    "log_y = False\n",
    "df, train, test, parts, num_feats, omit_feats, time_feats, black_list_feats = feature_engineering_avg_no_shift(avg_len=24)\n",
    "feats = num_feats\n",
    "print(df.shape, train.shape, test.shape, len(parts), len(feats))\n",
    "with_params = {\n",
    "    'model_selected': xgb.XGBRegressor,\n",
    "    'model_params'  : {'n_jobs': 8,\n",
    "                       'random_state': 123,\n",
    "                       'objective': 'reg:squarederror',    #reg:squarederror reg:linear\n",
    "                       'max_depth': 5,\n",
    "                       'subsample': 0.7798042230398718,\n",
    "                       'learning_rate': 0.13096597615153277,\n",
    "                       'n_estimators': 100,\n",
    "                      },\n",
    "    'parts_to_go'     : parts, \n",
    "    'feats_selected'  : feats,\n",
    "    'y_log'           : log_y,\n",
    "    'nr'              : 24\n",
    "}\n",
    "global_scores, last_day_scores, models, y_pred_all, train_df, last_days_df, y_train_all, y_last_days, y_last_pred = \\\n",
    "    run_model_nr(**with_params)\n",
    "\n",
    "result = global_scores, last_day_scores, models, y_pred_all, train_df, last_days_df, y_train_all, y_last_days, y_last_pred\n",
    "with open(name, 'wb') as f:\n",
    "    pickle.dump(result, f)\n",
    "test['pm25'] = y_pred_all\n",
    "test[ ['id', 'pm25'] ].to_csv('submit_{}.csv'.format(name[:-2]), index=False)"
   ]
  },
  {
   "cell_type": "code",
   "execution_count": 176,
   "metadata": {},
   "outputs": [
    {
     "name": "stdout",
     "output_type": "stream",
     "text": [
      "(40152, 187) (38952, 187) (1200, 187) 50 176\n"
     ]
    },
    {
     "data": {
      "text/plain": [
       "HBox(children=(IntProgress(value=0, max=50), HTML(value='')))"
      ]
     },
     "metadata": {},
     "output_type": "display_data"
    },
    {
     "name": "stdout",
     "output_type": "stream",
     "text": [
      "1.1597586351388356 3.2445695198384703\n",
      "Wall time: 9min 39s\n"
     ]
    }
   ],
   "source": [
    "%%time\n",
    "name = 'avg_14_2.p'\n",
    "log_y = True\n",
    "df, train, test, parts, num_feats, omit_feats, time_feats, black_list_feats = \\\n",
    "    feature_engineering_aggr_no_shift(avg_len=6, roll_nr=[6, 12], agr_fn=['min', 'max', 'mean', 'median'])\n",
    "feats = num_feats\n",
    "print(df.shape, train.shape, test.shape, len(parts), len(feats))\n",
    "with_params = {\n",
    "    'model_selected': xgb.XGBRegressor,\n",
    "    'model_params'  : {'n_jobs': 8,\n",
    "                       'random_state': 123,\n",
    "                       'objective': 'reg:squarederror',    #reg:squarederror reg:linear\n",
    "                       'max_depth': 5,\n",
    "                       'subsample': 0.95},\n",
    "    'parts_to_go'     : parts, \n",
    "    'feats_selected'  : feats,\n",
    "    'y_log'           : log_y,\n",
    "    'nr'              : 24\n",
    "}\n",
    "global_scores, last_day_scores, models, y_pred_all, train_df, last_days_df, y_train_all, y_last_days, y_last_pred = \\\n",
    "    run_model_nr(**with_params)\n",
    "result = global_scores, last_day_scores, models, y_pred_all, train_df, last_days_df, y_train_all, y_last_days, y_last_pred\n",
    "with open(name, 'wb') as f:\n",
    "    pickle.dump(result, f)\n",
    "test['pm25'] = y_pred_all\n",
    "test[ ['id', 'pm25'] ].to_csv('submit_{}.csv'.format(name[:-2]), index=False)"
   ]
  },
  {
   "cell_type": "code",
   "execution_count": 204,
   "metadata": {},
   "outputs": [
    {
     "name": "stdout",
     "output_type": "stream",
     "text": [
      "(40152, 43) (38952, 43) (1200, 43) 50 32\n"
     ]
    },
    {
     "data": {
      "text/plain": [
       "HBox(children=(IntProgress(value=0, max=50), HTML(value='')))"
      ]
     },
     "metadata": {},
     "output_type": "display_data"
    },
    {
     "name": "stdout",
     "output_type": "stream",
     "text": [
      "0.4394181220894271 3.5109222141437435\n",
      "Wall time: 4min 56s\n"
     ]
    }
   ],
   "source": [
    "%%time\n",
    "name = 'avg_17.p' # 0.3615642925015443\n",
    "log_y = True\n",
    "df, train, test, parts, num_feats, omit_feats, time_feats, black_list_feats = feature_engineering_avg_no_shift(avg_len=24)\n",
    "feats = num_feats\n",
    "print(df.shape, train.shape, test.shape, len(parts), len(feats))\n",
    "with_params = {\n",
    "    'model_selected': xgb.XGBRegressor,\n",
    "    'model_params'  : {'learning_rate': 0.29648114822438026, \n",
    "                         'max_depth': 5, \n",
    "                         'n_estimators': 100, \n",
    "                         'n_jobs': 8, \n",
    "                         'objective': 'reg:squarederror', \n",
    "                         'random_state': 642, \n",
    "                         'subsample': 0.7563555961578369, \n",
    "                        },\n",
    "    'parts_to_go'     : parts, \n",
    "    'feats_selected'  : feats,\n",
    "    'y_log'           : log_y,\n",
    "    'nr'              : 24\n",
    "}\n",
    "global_scores, last_day_scores, models, y_pred_all, train_df, last_days_df, y_train_all, y_last_days, y_last_pred = \\\n",
    "    run_model_nr(**with_params)\n",
    "\n",
    "result = global_scores, last_day_scores, models, y_pred_all, train_df, last_days_df, y_train_all, y_last_days, y_last_pred\n",
    "with open(name, 'wb') as f:\n",
    "    pickle.dump(result, f)\n",
    "test['pm25'] = y_pred_all\n",
    "test[ ['id', 'pm25'] ].to_csv('submit_{}.csv'.format(name[:-2]), index=False)"
   ]
  },
  {
   "cell_type": "code",
   "execution_count": 216,
   "metadata": {},
   "outputs": [
    {
     "name": "stdout",
     "output_type": "stream",
     "text": [
      "(40152, 61) (38952, 61) (1200, 61) 50 50\n"
     ]
    },
    {
     "data": {
      "text/plain": [
       "HBox(children=(IntProgress(value=0, max=50), HTML(value='')))"
      ]
     },
     "metadata": {},
     "output_type": "display_data"
    },
    {
     "name": "stdout",
     "output_type": "stream",
     "text": [
      "0.3824712141744277 3.4901844422913637\n",
      "Wall time: 5min 32s\n"
     ]
    }
   ],
   "source": [
    "# ostani dzień w zbiorze treningowym\n",
    "\n",
    "%%time\n",
    "name = 'avg_18.p' # 0.33983779948831566\n",
    "log_y = False\n",
    "df, train, test, parts, num_feats, omit_feats, time_feats, black_list_feats = \\\n",
    "    feature_engineering_aggr_no_shift(avg_len=6, roll_nr=[24], agr_fn=['median'])\n",
    "feats = num_feats\n",
    "print(df.shape, train.shape, test.shape, len(parts), len(feats))\n",
    "with_params = {\n",
    "    'model_selected': xgb.XGBRegressor,\n",
    "    'model_params'  : {'learning_rate': 0.2476843816313341, \n",
    "                         'max_depth': 5, \n",
    "                         'n_estimators': 100, \n",
    "                         'n_jobs': 8, \n",
    "                         'objective': 'reg:squarederror', \n",
    "                         'random_state': 70, \n",
    "                         'subsample': 0.8561623057645249, \n",
    "                        },\n",
    "    'parts_to_go'     : parts, \n",
    "    'feats_selected'  : feats,\n",
    "    'y_log'           : log_y,\n",
    "    'nr'              : 24\n",
    "}\n",
    "global_scores, last_day_scores, models, y_pred_all, train_df, last_days_df, y_train_all, y_last_days, y_last_pred = \\\n",
    "    run_model_nr(**with_params)\n",
    "result = global_scores, last_day_scores, models, y_pred_all, train_df, last_days_df, y_train_all, y_last_days, y_last_pred\n",
    "with open(name, 'wb') as f:\n",
    "    pickle.dump(result, f)\n",
    "test['pm25'] = y_pred_all\n",
    "test[ ['id', 'pm25'] ].to_csv('late_submit_{}.csv'.format(name[:-2]), index=False)"
   ]
  },
  {
   "cell_type": "code",
   "execution_count": 255,
   "metadata": {},
   "outputs": [
    {
     "name": "stdout",
     "output_type": "stream",
     "text": [
      "(40152, 61) (38952, 61) (1200, 61) 50 50\n"
     ]
    },
    {
     "data": {
      "text/plain": [
       "HBox(children=(IntProgress(value=0, max=50), HTML(value='')))"
      ]
     },
     "metadata": {},
     "output_type": "display_data"
    },
    {
     "name": "stdout",
     "output_type": "stream",
     "text": [
      "0.3660301006596656 3.783456633889155\n",
      "Wall time: 5min 28s\n"
     ]
    }
   ],
   "source": [
    "# ostatni dzień odcięty do walidacji\n",
    "\n",
    "%%time\n",
    "name = 'avg_18.p' # 0.33983779948831566\n",
    "log_y = False\n",
    "df, train, test, parts, num_feats, omit_feats, time_feats, black_list_feats = \\\n",
    "    feature_engineering_aggr_no_shift(avg_len=6, roll_nr=[24], agr_fn=['median'])\n",
    "feats = num_feats\n",
    "print(df.shape, train.shape, test.shape, len(parts), len(feats))\n",
    "with_params = {\n",
    "    'model_selected': xgb.XGBRegressor,\n",
    "    'model_params'  : {'learning_rate': 0.2476843816313341, \n",
    "                         'max_depth': 5, \n",
    "                         'n_estimators': 100, \n",
    "                         'n_jobs': 8, \n",
    "                         'objective': 'reg:squarederror', \n",
    "                         'random_state': 70, \n",
    "                         'subsample': 0.8561623057645249, \n",
    "                        },\n",
    "    'parts_to_go'     : parts, \n",
    "    'feats_selected'  : feats,\n",
    "    'y_log'           : log_y,\n",
    "    'nr'              : 24\n",
    "}\n",
    "global_scores, last_day_scores, models, y_pred_all, train_df, last_days_df, y_train_all, y_last_days, y_last_pred = \\\n",
    "    run_model_day(**with_params)\n",
    "# result = global_scores, last_day_scores, models, y_pred_all, train_df, last_days_df, y_train_all, y_last_days, y_last_pred\n",
    "# with open(name, 'wb') as f:\n",
    "#     pickle.dump(result, f)\n",
    "# test['pm25'] = y_pred_all\n",
    "# test[ ['id', 'pm25'] ].to_csv('submit_{}.csv'.format(name[:-2]), index=False)"
   ]
  },
  {
   "cell_type": "code",
   "execution_count": 184,
   "metadata": {},
   "outputs": [
    {
     "name": "stdout",
     "output_type": "stream",
     "text": [
      "\r",
      "  0%|                                                                           | 0/1000 [00:00<?, ?it/s, best loss: ?]"
     ]
    },
    {
     "data": {
      "text/plain": [
       "HBox(children=(IntProgress(value=0, max=50), HTML(value='')))"
      ]
     },
     "metadata": {},
     "output_type": "display_data"
    },
    {
     "name": "stdout",
     "output_type": "stream",
     "text": [
      "global                                                                                                                 \n",
      "0.417537515679709                                                                                                      \n",
      "0.03592639798340989                                                                                                    \n",
      "0.417537515679709                                                                                                      \n",
      "{'agr_fn': ('mean',), 'learning_rate': 0.29581950802867857, 'max_depth': 6, 'n_estimators': 50, 'n_jobs': 8, 'objective': 'reg:squarederror', 'random_state': 478, 'roll_nr': (24,), 'subsample': 0.7958088429469709, 'y_log': False}\n",
      "False                                                                                                                  \n",
      "  0%|                                               | 1/1000 [03:47<63:03:28, 227.24s/it, best loss: 0.417537515679709]"
     ]
    },
    {
     "data": {
      "text/plain": [
       "HBox(children=(IntProgress(value=0, max=50), HTML(value='')))"
      ]
     },
     "metadata": {},
     "output_type": "display_data"
    },
    {
     "name": "stdout",
     "output_type": "stream",
     "text": [
      "global                                                                                                                 \n",
      "0.42976965559482466                                                                                                    \n",
      "0.03156378103942302                                                                                                    \n",
      "0.42976965559482466                                                                                                    \n",
      "{'agr_fn': ('mean',), 'learning_rate': 0.2942042616154599, 'max_depth': 6, 'n_estimators': 50, 'n_jobs': 8, 'objective': 'reg:squarederror', 'random_state': 478, 'roll_nr': (24,), 'subsample': 0.7813903195731711, 'y_log': False}\n",
      "False                                                                                                                  \n",
      "  0%|                                               | 2/1000 [07:31<62:44:49, 226.34s/it, best loss: 0.417537515679709]"
     ]
    },
    {
     "data": {
      "text/plain": [
       "HBox(children=(IntProgress(value=0, max=50), HTML(value='')))"
      ]
     },
     "metadata": {},
     "output_type": "display_data"
    },
    {
     "name": "stdout",
     "output_type": "stream",
     "text": [
      "global                                                                                                                 \n",
      "0.6869114522928842                                                                                                     \n",
      "0.046086315369067286                                                                                                   \n",
      "0.6869114522928842                                                                                                     \n",
      "{'agr_fn': ('median',), 'learning_rate': 0.28299795530141997, 'max_depth': 5, 'n_estimators': 50, 'n_jobs': 8, 'objective': 'reg:squarederror', 'random_state': 228, 'roll_nr': (18,), 'subsample': 0.9918462352523911, 'y_log': False}\n",
      "False                                                                                                                  \n",
      "  0%|▏                                              | 3/1000 [10:36<59:12:37, 213.80s/it, best loss: 0.417537515679709]"
     ]
    },
    {
     "data": {
      "text/plain": [
       "HBox(children=(IntProgress(value=0, max=50), HTML(value='')))"
      ]
     },
     "metadata": {},
     "output_type": "display_data"
    },
    {
     "name": "stdout",
     "output_type": "stream",
     "text": [
      "\n"
     ]
    },
    {
     "ename": "KeyboardInterrupt",
     "evalue": "",
     "output_type": "error",
     "traceback": [
      "\u001b[1;31m---------------------------------------------------------------------------\u001b[0m",
      "\u001b[1;31mKeyboardInterrupt\u001b[0m                         Traceback (most recent call last)",
      "\u001b[1;32m<ipython-input-184-2404e7c759f0>\u001b[0m in \u001b[0;36m<module>\u001b[1;34m()\u001b[0m\n\u001b[0;32m     50\u001b[0m             \u001b[0malgo\u001b[0m\u001b[1;33m=\u001b[0m\u001b[0mpartial\u001b[0m\u001b[1;33m(\u001b[0m\u001b[0mtpe\u001b[0m\u001b[1;33m.\u001b[0m\u001b[0msuggest\u001b[0m\u001b[1;33m,\u001b[0m \u001b[0mn_startup_jobs\u001b[0m\u001b[1;33m=\u001b[0m\u001b[1;36m1\u001b[0m\u001b[1;33m)\u001b[0m\u001b[1;33m,\u001b[0m\u001b[1;33m\u001b[0m\u001b[1;33m\u001b[0m\u001b[0m\n\u001b[0;32m     51\u001b[0m             \u001b[0mmax_evals\u001b[0m\u001b[1;33m=\u001b[0m\u001b[1;36m1000\u001b[0m\u001b[1;33m,\u001b[0m\u001b[1;33m\u001b[0m\u001b[1;33m\u001b[0m\u001b[0m\n\u001b[1;32m---> 52\u001b[1;33m             trials=trials)\n\u001b[0m\u001b[0;32m     53\u001b[0m \u001b[1;33m\u001b[0m\u001b[0m\n\u001b[0;32m     54\u001b[0m \u001b[0mprint\u001b[0m\u001b[1;33m(\u001b[0m\u001b[1;34m\"The best params: \"\u001b[0m\u001b[1;33m,\u001b[0m \u001b[0mbest_params\u001b[0m\u001b[1;33m)\u001b[0m\u001b[1;33m\u001b[0m\u001b[1;33m\u001b[0m\u001b[0m\n",
      "\u001b[1;32mD:\\Anaconda3\\lib\\site-packages\\hyperopt\\fmin.py\u001b[0m in \u001b[0;36mfmin\u001b[1;34m(fn, space, algo, max_evals, trials, rstate, allow_trials_fmin, pass_expr_memo_ctrl, catch_eval_exceptions, verbose, return_argmin, points_to_evaluate, max_queue_len, show_progressbar)\u001b[0m\n\u001b[0;32m    401\u001b[0m             \u001b[0mcatch_eval_exceptions\u001b[0m\u001b[1;33m=\u001b[0m\u001b[0mcatch_eval_exceptions\u001b[0m\u001b[1;33m,\u001b[0m\u001b[1;33m\u001b[0m\u001b[1;33m\u001b[0m\u001b[0m\n\u001b[0;32m    402\u001b[0m             \u001b[0mreturn_argmin\u001b[0m\u001b[1;33m=\u001b[0m\u001b[0mreturn_argmin\u001b[0m\u001b[1;33m,\u001b[0m\u001b[1;33m\u001b[0m\u001b[1;33m\u001b[0m\u001b[0m\n\u001b[1;32m--> 403\u001b[1;33m             \u001b[0mshow_progressbar\u001b[0m\u001b[1;33m=\u001b[0m\u001b[0mshow_progressbar\u001b[0m\u001b[1;33m,\u001b[0m\u001b[1;33m\u001b[0m\u001b[1;33m\u001b[0m\u001b[0m\n\u001b[0m\u001b[0;32m    404\u001b[0m         )\n\u001b[0;32m    405\u001b[0m \u001b[1;33m\u001b[0m\u001b[0m\n",
      "\u001b[1;32mD:\\Anaconda3\\lib\\site-packages\\hyperopt\\base.py\u001b[0m in \u001b[0;36mfmin\u001b[1;34m(self, fn, space, algo, max_evals, max_queue_len, rstate, verbose, pass_expr_memo_ctrl, catch_eval_exceptions, return_argmin, show_progressbar)\u001b[0m\n\u001b[0;32m    649\u001b[0m             \u001b[0mcatch_eval_exceptions\u001b[0m\u001b[1;33m=\u001b[0m\u001b[0mcatch_eval_exceptions\u001b[0m\u001b[1;33m,\u001b[0m\u001b[1;33m\u001b[0m\u001b[1;33m\u001b[0m\u001b[0m\n\u001b[0;32m    650\u001b[0m             \u001b[0mreturn_argmin\u001b[0m\u001b[1;33m=\u001b[0m\u001b[0mreturn_argmin\u001b[0m\u001b[1;33m,\u001b[0m\u001b[1;33m\u001b[0m\u001b[1;33m\u001b[0m\u001b[0m\n\u001b[1;32m--> 651\u001b[1;33m             show_progressbar=show_progressbar)\n\u001b[0m\u001b[0;32m    652\u001b[0m \u001b[1;33m\u001b[0m\u001b[0m\n\u001b[0;32m    653\u001b[0m \u001b[1;33m\u001b[0m\u001b[0m\n",
      "\u001b[1;32mD:\\Anaconda3\\lib\\site-packages\\hyperopt\\fmin.py\u001b[0m in \u001b[0;36mfmin\u001b[1;34m(fn, space, algo, max_evals, trials, rstate, allow_trials_fmin, pass_expr_memo_ctrl, catch_eval_exceptions, verbose, return_argmin, points_to_evaluate, max_queue_len, show_progressbar)\u001b[0m\n\u001b[0;32m    420\u001b[0m                     show_progressbar=show_progressbar)\n\u001b[0;32m    421\u001b[0m     \u001b[0mrval\u001b[0m\u001b[1;33m.\u001b[0m\u001b[0mcatch_eval_exceptions\u001b[0m \u001b[1;33m=\u001b[0m \u001b[0mcatch_eval_exceptions\u001b[0m\u001b[1;33m\u001b[0m\u001b[1;33m\u001b[0m\u001b[0m\n\u001b[1;32m--> 422\u001b[1;33m     \u001b[0mrval\u001b[0m\u001b[1;33m.\u001b[0m\u001b[0mexhaust\u001b[0m\u001b[1;33m(\u001b[0m\u001b[1;33m)\u001b[0m\u001b[1;33m\u001b[0m\u001b[1;33m\u001b[0m\u001b[0m\n\u001b[0m\u001b[0;32m    423\u001b[0m     \u001b[1;32mif\u001b[0m \u001b[0mreturn_argmin\u001b[0m\u001b[1;33m:\u001b[0m\u001b[1;33m\u001b[0m\u001b[1;33m\u001b[0m\u001b[0m\n\u001b[0;32m    424\u001b[0m         \u001b[1;32mif\u001b[0m \u001b[0mlen\u001b[0m\u001b[1;33m(\u001b[0m\u001b[0mtrials\u001b[0m\u001b[1;33m.\u001b[0m\u001b[0mtrials\u001b[0m\u001b[1;33m)\u001b[0m \u001b[1;33m==\u001b[0m \u001b[1;36m0\u001b[0m\u001b[1;33m:\u001b[0m\u001b[1;33m\u001b[0m\u001b[1;33m\u001b[0m\u001b[0m\n",
      "\u001b[1;32mD:\\Anaconda3\\lib\\site-packages\\hyperopt\\fmin.py\u001b[0m in \u001b[0;36mexhaust\u001b[1;34m(self)\u001b[0m\n\u001b[0;32m    274\u001b[0m     \u001b[1;32mdef\u001b[0m \u001b[0mexhaust\u001b[0m\u001b[1;33m(\u001b[0m\u001b[0mself\u001b[0m\u001b[1;33m)\u001b[0m\u001b[1;33m:\u001b[0m\u001b[1;33m\u001b[0m\u001b[1;33m\u001b[0m\u001b[0m\n\u001b[0;32m    275\u001b[0m         \u001b[0mn_done\u001b[0m \u001b[1;33m=\u001b[0m \u001b[0mlen\u001b[0m\u001b[1;33m(\u001b[0m\u001b[0mself\u001b[0m\u001b[1;33m.\u001b[0m\u001b[0mtrials\u001b[0m\u001b[1;33m)\u001b[0m\u001b[1;33m\u001b[0m\u001b[1;33m\u001b[0m\u001b[0m\n\u001b[1;32m--> 276\u001b[1;33m         \u001b[0mself\u001b[0m\u001b[1;33m.\u001b[0m\u001b[0mrun\u001b[0m\u001b[1;33m(\u001b[0m\u001b[0mself\u001b[0m\u001b[1;33m.\u001b[0m\u001b[0mmax_evals\u001b[0m \u001b[1;33m-\u001b[0m \u001b[0mn_done\u001b[0m\u001b[1;33m,\u001b[0m \u001b[0mblock_until_done\u001b[0m\u001b[1;33m=\u001b[0m\u001b[0mself\u001b[0m\u001b[1;33m.\u001b[0m\u001b[0masynchronous\u001b[0m\u001b[1;33m)\u001b[0m\u001b[1;33m\u001b[0m\u001b[1;33m\u001b[0m\u001b[0m\n\u001b[0m\u001b[0;32m    277\u001b[0m         \u001b[0mself\u001b[0m\u001b[1;33m.\u001b[0m\u001b[0mtrials\u001b[0m\u001b[1;33m.\u001b[0m\u001b[0mrefresh\u001b[0m\u001b[1;33m(\u001b[0m\u001b[1;33m)\u001b[0m\u001b[1;33m\u001b[0m\u001b[1;33m\u001b[0m\u001b[0m\n\u001b[0;32m    278\u001b[0m         \u001b[1;32mreturn\u001b[0m \u001b[0mself\u001b[0m\u001b[1;33m\u001b[0m\u001b[1;33m\u001b[0m\u001b[0m\n",
      "\u001b[1;32mD:\\Anaconda3\\lib\\site-packages\\hyperopt\\fmin.py\u001b[0m in \u001b[0;36mrun\u001b[1;34m(self, N, block_until_done)\u001b[0m\n\u001b[0;32m    239\u001b[0m                     \u001b[1;32melse\u001b[0m\u001b[1;33m:\u001b[0m\u001b[1;33m\u001b[0m\u001b[1;33m\u001b[0m\u001b[0m\n\u001b[0;32m    240\u001b[0m                         \u001b[1;31m# -- loop over trials and do the jobs directly\u001b[0m\u001b[1;33m\u001b[0m\u001b[1;33m\u001b[0m\u001b[1;33m\u001b[0m\u001b[0m\n\u001b[1;32m--> 241\u001b[1;33m                         \u001b[0mself\u001b[0m\u001b[1;33m.\u001b[0m\u001b[0mserial_evaluate\u001b[0m\u001b[1;33m(\u001b[0m\u001b[1;33m)\u001b[0m\u001b[1;33m\u001b[0m\u001b[1;33m\u001b[0m\u001b[0m\n\u001b[0m\u001b[0;32m    242\u001b[0m \u001b[1;33m\u001b[0m\u001b[0m\n\u001b[0;32m    243\u001b[0m                     \u001b[1;32mtry\u001b[0m\u001b[1;33m:\u001b[0m\u001b[1;33m\u001b[0m\u001b[1;33m\u001b[0m\u001b[0m\n",
      "\u001b[1;32mD:\\Anaconda3\\lib\\site-packages\\hyperopt\\fmin.py\u001b[0m in \u001b[0;36mserial_evaluate\u001b[1;34m(self, N)\u001b[0m\n\u001b[0;32m    139\u001b[0m                 \u001b[0mctrl\u001b[0m \u001b[1;33m=\u001b[0m \u001b[0mbase\u001b[0m\u001b[1;33m.\u001b[0m\u001b[0mCtrl\u001b[0m\u001b[1;33m(\u001b[0m\u001b[0mself\u001b[0m\u001b[1;33m.\u001b[0m\u001b[0mtrials\u001b[0m\u001b[1;33m,\u001b[0m \u001b[0mcurrent_trial\u001b[0m\u001b[1;33m=\u001b[0m\u001b[0mtrial\u001b[0m\u001b[1;33m)\u001b[0m\u001b[1;33m\u001b[0m\u001b[1;33m\u001b[0m\u001b[0m\n\u001b[0;32m    140\u001b[0m                 \u001b[1;32mtry\u001b[0m\u001b[1;33m:\u001b[0m\u001b[1;33m\u001b[0m\u001b[1;33m\u001b[0m\u001b[0m\n\u001b[1;32m--> 141\u001b[1;33m                     \u001b[0mresult\u001b[0m \u001b[1;33m=\u001b[0m \u001b[0mself\u001b[0m\u001b[1;33m.\u001b[0m\u001b[0mdomain\u001b[0m\u001b[1;33m.\u001b[0m\u001b[0mevaluate\u001b[0m\u001b[1;33m(\u001b[0m\u001b[0mspec\u001b[0m\u001b[1;33m,\u001b[0m \u001b[0mctrl\u001b[0m\u001b[1;33m)\u001b[0m\u001b[1;33m\u001b[0m\u001b[1;33m\u001b[0m\u001b[0m\n\u001b[0m\u001b[0;32m    142\u001b[0m                 \u001b[1;32mexcept\u001b[0m \u001b[0mException\u001b[0m \u001b[1;32mas\u001b[0m \u001b[0me\u001b[0m\u001b[1;33m:\u001b[0m\u001b[1;33m\u001b[0m\u001b[1;33m\u001b[0m\u001b[0m\n\u001b[0;32m    143\u001b[0m                     \u001b[0mlogger\u001b[0m\u001b[1;33m.\u001b[0m\u001b[0minfo\u001b[0m\u001b[1;33m(\u001b[0m\u001b[1;34m'job exception: %s'\u001b[0m \u001b[1;33m%\u001b[0m \u001b[0mstr\u001b[0m\u001b[1;33m(\u001b[0m\u001b[0me\u001b[0m\u001b[1;33m)\u001b[0m\u001b[1;33m)\u001b[0m\u001b[1;33m\u001b[0m\u001b[1;33m\u001b[0m\u001b[0m\n",
      "\u001b[1;32mD:\\Anaconda3\\lib\\site-packages\\hyperopt\\base.py\u001b[0m in \u001b[0;36mevaluate\u001b[1;34m(self, config, ctrl, attach_attachments)\u001b[0m\n\u001b[0;32m    854\u001b[0m                 \u001b[0mmemo\u001b[0m\u001b[1;33m=\u001b[0m\u001b[0mmemo\u001b[0m\u001b[1;33m,\u001b[0m\u001b[1;33m\u001b[0m\u001b[1;33m\u001b[0m\u001b[0m\n\u001b[0;32m    855\u001b[0m                 print_node_on_error=self.rec_eval_print_node_on_error)\n\u001b[1;32m--> 856\u001b[1;33m             \u001b[0mrval\u001b[0m \u001b[1;33m=\u001b[0m \u001b[0mself\u001b[0m\u001b[1;33m.\u001b[0m\u001b[0mfn\u001b[0m\u001b[1;33m(\u001b[0m\u001b[0mpyll_rval\u001b[0m\u001b[1;33m)\u001b[0m\u001b[1;33m\u001b[0m\u001b[1;33m\u001b[0m\u001b[0m\n\u001b[0m\u001b[0;32m    857\u001b[0m \u001b[1;33m\u001b[0m\u001b[0m\n\u001b[0;32m    858\u001b[0m         \u001b[1;32mif\u001b[0m \u001b[0misinstance\u001b[0m\u001b[1;33m(\u001b[0m\u001b[0mrval\u001b[0m\u001b[1;33m,\u001b[0m \u001b[1;33m(\u001b[0m\u001b[0mfloat\u001b[0m\u001b[1;33m,\u001b[0m \u001b[0mint\u001b[0m\u001b[1;33m,\u001b[0m \u001b[0mnp\u001b[0m\u001b[1;33m.\u001b[0m\u001b[0mnumber\u001b[0m\u001b[1;33m)\u001b[0m\u001b[1;33m)\u001b[0m\u001b[1;33m:\u001b[0m\u001b[1;33m\u001b[0m\u001b[1;33m\u001b[0m\u001b[0m\n",
      "\u001b[1;32m<ipython-input-184-2404e7c759f0>\u001b[0m in \u001b[0;36mparam_opt\u001b[1;34m(space)\u001b[0m\n\u001b[0;32m     26\u001b[0m     }\n\u001b[0;32m     27\u001b[0m \u001b[1;33m\u001b[0m\u001b[0m\n\u001b[1;32m---> 28\u001b[1;33m     \u001b[0mglobal_scores\u001b[0m\u001b[1;33m,\u001b[0m \u001b[0mmodels\u001b[0m\u001b[1;33m,\u001b[0m \u001b[0my_pred_all\u001b[0m\u001b[1;33m,\u001b[0m \u001b[0mtrain_df\u001b[0m\u001b[1;33m,\u001b[0m \u001b[0mlast_days_df\u001b[0m\u001b[1;33m,\u001b[0m \u001b[0my_train_all\u001b[0m\u001b[1;33m,\u001b[0m \u001b[0my_last_days\u001b[0m \u001b[1;33m=\u001b[0m \u001b[0mrun_model_nr\u001b[0m\u001b[1;33m(\u001b[0m\u001b[1;33m**\u001b[0m\u001b[0mwith_params\u001b[0m\u001b[1;33m)\u001b[0m\u001b[1;33m\u001b[0m\u001b[1;33m\u001b[0m\u001b[0m\n\u001b[0m\u001b[0;32m     29\u001b[0m \u001b[1;33m\u001b[0m\u001b[0m\n\u001b[0;32m     30\u001b[0m     \u001b[0mprint\u001b[0m\u001b[1;33m(\u001b[0m\u001b[0mglobal_scores\u001b[0m\u001b[1;33m.\u001b[0m\u001b[0mmean\u001b[0m\u001b[1;33m(\u001b[0m\u001b[1;33m)\u001b[0m\u001b[1;33m,\u001b[0m \u001b[0mparams\u001b[0m\u001b[1;33m,\u001b[0m \u001b[0my_log\u001b[0m\u001b[1;33m)\u001b[0m\u001b[1;33m\u001b[0m\u001b[1;33m\u001b[0m\u001b[0m\n",
      "\u001b[1;32m<ipython-input-5-996a71aa299a>\u001b[0m in \u001b[0;36mrun_model_nr\u001b[1;34m(nr, model_selected, model_params, parts_to_go, feats_selected, y_log)\u001b[0m\n\u001b[0;32m     21\u001b[0m             \u001b[0my\u001b[0m \u001b[1;33m=\u001b[0m \u001b[0mpd\u001b[0m\u001b[1;33m.\u001b[0m\u001b[0mSeries\u001b[0m\u001b[1;33m(\u001b[0m\u001b[0my\u001b[0m\u001b[1;33m)\u001b[0m\u001b[1;33m.\u001b[0m\u001b[0mshift\u001b[0m\u001b[1;33m(\u001b[0m\u001b[1;33m-\u001b[0m\u001b[1;36m1\u001b[0m\u001b[1;33m)\u001b[0m\u001b[1;33m.\u001b[0m\u001b[0mvalues\u001b[0m                   \u001b[1;31m# przesuwa pm25 o 1h w przeszłość\u001b[0m\u001b[1;33m\u001b[0m\u001b[1;33m\u001b[0m\u001b[0m\n\u001b[0;32m     22\u001b[0m             \u001b[0my_train\u001b[0m \u001b[1;33m=\u001b[0m \u001b[0my\u001b[0m\u001b[1;33m[\u001b[0m\u001b[1;36m0\u001b[0m\u001b[1;33m:\u001b[0m\u001b[1;33m-\u001b[0m\u001b[1;36m25\u001b[0m\u001b[1;33m]\u001b[0m\u001b[1;33m\u001b[0m\u001b[1;33m\u001b[0m\u001b[0m\n\u001b[1;32m---> 23\u001b[1;33m             \u001b[0mmodels\u001b[0m\u001b[1;33m[\u001b[0m\u001b[0mi\u001b[0m\u001b[1;33m]\u001b[0m\u001b[1;33m.\u001b[0m\u001b[0mfit\u001b[0m\u001b[1;33m(\u001b[0m\u001b[0mX_train\u001b[0m\u001b[1;33m,\u001b[0m \u001b[0my_train\u001b[0m\u001b[1;33m)\u001b[0m\u001b[1;33m\u001b[0m\u001b[1;33m\u001b[0m\u001b[0m\n\u001b[0m\u001b[0;32m     24\u001b[0m             \u001b[0my_last\u001b[0m \u001b[1;33m=\u001b[0m \u001b[1;33m(\u001b[0m\u001b[0mmodels\u001b[0m\u001b[1;33m[\u001b[0m\u001b[0mi\u001b[0m\u001b[1;33m]\u001b[0m\u001b[1;33m.\u001b[0m\u001b[0mpredict\u001b[0m\u001b[1;33m(\u001b[0m\u001b[0mX_last\u001b[0m\u001b[1;33m)\u001b[0m\u001b[1;33m)\u001b[0m\u001b[1;33m.\u001b[0m\u001b[0mastype\u001b[0m\u001b[1;33m(\u001b[0m\u001b[0mnp\u001b[0m\u001b[1;33m.\u001b[0m\u001b[0mfloat64\u001b[0m\u001b[1;33m)\u001b[0m\u001b[1;33m\u001b[0m\u001b[1;33m\u001b[0m\u001b[0m\n\u001b[0;32m     25\u001b[0m             \u001b[0my\u001b[0m\u001b[1;33m[\u001b[0m\u001b[1;33m-\u001b[0m\u001b[1;36m25\u001b[0m\u001b[1;33m]\u001b[0m \u001b[1;33m=\u001b[0m \u001b[0my_last\u001b[0m\u001b[1;33m[\u001b[0m\u001b[1;36m0\u001b[0m\u001b[1;33m]\u001b[0m                                  \u001b[1;31m# prognoza na 1h\u001b[0m\u001b[1;33m\u001b[0m\u001b[1;33m\u001b[0m\u001b[0m\n",
      "\u001b[1;32mD:\\Anaconda3\\lib\\site-packages\\xgboost\\sklearn.py\u001b[0m in \u001b[0;36mfit\u001b[1;34m(self, X, y, sample_weight, eval_set, eval_metric, early_stopping_rounds, verbose, xgb_model, sample_weight_eval_set, callbacks)\u001b[0m\n\u001b[0;32m    394\u001b[0m                               \u001b[0mevals_result\u001b[0m\u001b[1;33m=\u001b[0m\u001b[0mevals_result\u001b[0m\u001b[1;33m,\u001b[0m \u001b[0mobj\u001b[0m\u001b[1;33m=\u001b[0m\u001b[0mobj\u001b[0m\u001b[1;33m,\u001b[0m \u001b[0mfeval\u001b[0m\u001b[1;33m=\u001b[0m\u001b[0mfeval\u001b[0m\u001b[1;33m,\u001b[0m\u001b[1;33m\u001b[0m\u001b[1;33m\u001b[0m\u001b[0m\n\u001b[0;32m    395\u001b[0m                               \u001b[0mverbose_eval\u001b[0m\u001b[1;33m=\u001b[0m\u001b[0mverbose\u001b[0m\u001b[1;33m,\u001b[0m \u001b[0mxgb_model\u001b[0m\u001b[1;33m=\u001b[0m\u001b[0mxgb_model\u001b[0m\u001b[1;33m,\u001b[0m\u001b[1;33m\u001b[0m\u001b[1;33m\u001b[0m\u001b[0m\n\u001b[1;32m--> 396\u001b[1;33m                               callbacks=callbacks)\n\u001b[0m\u001b[0;32m    397\u001b[0m \u001b[1;33m\u001b[0m\u001b[0m\n\u001b[0;32m    398\u001b[0m         \u001b[1;32mif\u001b[0m \u001b[0mevals_result\u001b[0m\u001b[1;33m:\u001b[0m\u001b[1;33m\u001b[0m\u001b[1;33m\u001b[0m\u001b[0m\n",
      "\u001b[1;32mD:\\Anaconda3\\lib\\site-packages\\xgboost\\training.py\u001b[0m in \u001b[0;36mtrain\u001b[1;34m(params, dtrain, num_boost_round, evals, obj, feval, maximize, early_stopping_rounds, evals_result, verbose_eval, xgb_model, callbacks, learning_rates)\u001b[0m\n\u001b[0;32m    214\u001b[0m                            \u001b[0mevals\u001b[0m\u001b[1;33m=\u001b[0m\u001b[0mevals\u001b[0m\u001b[1;33m,\u001b[0m\u001b[1;33m\u001b[0m\u001b[1;33m\u001b[0m\u001b[0m\n\u001b[0;32m    215\u001b[0m                            \u001b[0mobj\u001b[0m\u001b[1;33m=\u001b[0m\u001b[0mobj\u001b[0m\u001b[1;33m,\u001b[0m \u001b[0mfeval\u001b[0m\u001b[1;33m=\u001b[0m\u001b[0mfeval\u001b[0m\u001b[1;33m,\u001b[0m\u001b[1;33m\u001b[0m\u001b[1;33m\u001b[0m\u001b[0m\n\u001b[1;32m--> 216\u001b[1;33m                            xgb_model=xgb_model, callbacks=callbacks)\n\u001b[0m\u001b[0;32m    217\u001b[0m \u001b[1;33m\u001b[0m\u001b[0m\n\u001b[0;32m    218\u001b[0m \u001b[1;33m\u001b[0m\u001b[0m\n",
      "\u001b[1;32mD:\\Anaconda3\\lib\\site-packages\\xgboost\\training.py\u001b[0m in \u001b[0;36m_train_internal\u001b[1;34m(params, dtrain, num_boost_round, evals, obj, feval, xgb_model, callbacks)\u001b[0m\n\u001b[0;32m     72\u001b[0m         \u001b[1;31m# Skip the first update if it is a recovery step.\u001b[0m\u001b[1;33m\u001b[0m\u001b[1;33m\u001b[0m\u001b[1;33m\u001b[0m\u001b[0m\n\u001b[0;32m     73\u001b[0m         \u001b[1;32mif\u001b[0m \u001b[0mversion\u001b[0m \u001b[1;33m%\u001b[0m \u001b[1;36m2\u001b[0m \u001b[1;33m==\u001b[0m \u001b[1;36m0\u001b[0m\u001b[1;33m:\u001b[0m\u001b[1;33m\u001b[0m\u001b[1;33m\u001b[0m\u001b[0m\n\u001b[1;32m---> 74\u001b[1;33m             \u001b[0mbst\u001b[0m\u001b[1;33m.\u001b[0m\u001b[0mupdate\u001b[0m\u001b[1;33m(\u001b[0m\u001b[0mdtrain\u001b[0m\u001b[1;33m,\u001b[0m \u001b[0mi\u001b[0m\u001b[1;33m,\u001b[0m \u001b[0mobj\u001b[0m\u001b[1;33m)\u001b[0m\u001b[1;33m\u001b[0m\u001b[1;33m\u001b[0m\u001b[0m\n\u001b[0m\u001b[0;32m     75\u001b[0m             \u001b[0mbst\u001b[0m\u001b[1;33m.\u001b[0m\u001b[0msave_rabit_checkpoint\u001b[0m\u001b[1;33m(\u001b[0m\u001b[1;33m)\u001b[0m\u001b[1;33m\u001b[0m\u001b[1;33m\u001b[0m\u001b[0m\n\u001b[0;32m     76\u001b[0m             \u001b[0mversion\u001b[0m \u001b[1;33m+=\u001b[0m \u001b[1;36m1\u001b[0m\u001b[1;33m\u001b[0m\u001b[1;33m\u001b[0m\u001b[0m\n",
      "\u001b[1;32mD:\\Anaconda3\\lib\\site-packages\\xgboost\\core.py\u001b[0m in \u001b[0;36mupdate\u001b[1;34m(self, dtrain, iteration, fobj)\u001b[0m\n\u001b[0;32m   1107\u001b[0m         \u001b[1;32mif\u001b[0m \u001b[0mfobj\u001b[0m \u001b[1;32mis\u001b[0m \u001b[1;32mNone\u001b[0m\u001b[1;33m:\u001b[0m\u001b[1;33m\u001b[0m\u001b[1;33m\u001b[0m\u001b[0m\n\u001b[0;32m   1108\u001b[0m             _check_call(_LIB.XGBoosterUpdateOneIter(self.handle, ctypes.c_int(iteration),\n\u001b[1;32m-> 1109\u001b[1;33m                                                     dtrain.handle))\n\u001b[0m\u001b[0;32m   1110\u001b[0m         \u001b[1;32melse\u001b[0m\u001b[1;33m:\u001b[0m\u001b[1;33m\u001b[0m\u001b[1;33m\u001b[0m\u001b[0m\n\u001b[0;32m   1111\u001b[0m             \u001b[0mpred\u001b[0m \u001b[1;33m=\u001b[0m \u001b[0mself\u001b[0m\u001b[1;33m.\u001b[0m\u001b[0mpredict\u001b[0m\u001b[1;33m(\u001b[0m\u001b[0mdtrain\u001b[0m\u001b[1;33m)\u001b[0m\u001b[1;33m\u001b[0m\u001b[1;33m\u001b[0m\u001b[0m\n",
      "\u001b[1;31mKeyboardInterrupt\u001b[0m: "
     ]
    }
   ],
   "source": [
    "# poszukiwanie optymalnych parametrów dla modeli agregacyjnych, walidacja shift \n",
    "\n",
    "def space_to_param(space):\n",
    "    int_param = ['max_depth', 'random_state', 'min_child_weight', 'n_estimators', 'n_jobs']\n",
    "    \n",
    "    params  = {}\n",
    "    for x in space:\n",
    "        if x == 'y_log':            y_log  = space[x]\n",
    "        if x == 'avg_len':        avg_len  = int(space[x])\n",
    "        if x == 'roll_nr':        roll_nr  = space[x]\n",
    "        if x == 'agr_fn':          agr_fn  = space[x]    \n",
    "        if x in int_param:       params[x] = int(space[x])   \n",
    "        else:                    params[x] = space[x]            \n",
    "    return y_log, params, roll_nr, agr_fn, avg_len\n",
    "\n",
    "def param_opt(space):\n",
    "\n",
    "    y_log, params, roll_nr, agr_fn, avg_len = space_to_param(space)\n",
    "    \n",
    "    df, train, test, parts, num_feats, omit_feats, time_feats, black_list_feats = \\\n",
    "        feature_engineering_aggr_no_shift(avg_len=avg_len, roll_nr=roll_nr, agr_fn=agr_fn)\n",
    "    feats = num_feats\n",
    "    \n",
    "    with_params = {\n",
    "        'model_params'   : params,\n",
    "        'parts_to_go'    : parts,\n",
    "        'y_log'          : y_log,\n",
    "        'feats_selected' : feats,\n",
    "        'nr'             : 24,\n",
    "        'model_selected' : xgb.XGBRegressor,\n",
    "    }\n",
    "      \n",
    "    global_scores, last_day_scores, models, y_pred_all, train_df, last_days_df, y_train_all, y_last_days, y_last_pred = \\\n",
    "        run_model_day(**with_params)\n",
    "\n",
    "    return{'loss': last_day_scores.mean(), 'status': STATUS_OK }\n",
    "\n",
    "space ={\n",
    "    'subsample'      : hp.uniform('x_subsample', 0.7, 1.),\n",
    "    'learning_rate'  : hp.uniform('x_learning_rate', 0.05, 0.3),\n",
    "    'random_state'   : hp.choice('x_random_state', range(1, 1000, 1)),\n",
    "    'max_depth'      : hp.choice('x_max_depth', range(5, 8, 1)),\n",
    "    'roll_nr'        : hp.choice('x_roll_nr', [[6], [12], [18], [24], [6, 12], [12, 18], [18, 24], \\\n",
    "                                               [6, 24], [6, 18], [12, 24]]),\n",
    "    'agr_fn'         : hp.choice('x_agr_fn', [['mean'], ['median'], ['mean', 'median']]),\n",
    "    'n_estimators'   : hp.choice('x_n_estimators', range(50, 300, 50)),\n",
    "    'objective'      : 'reg:squarederror',\n",
    "    'n_jobs'         : 8,\n",
    "    'y_log'          : hp.choice('x_y_log', [True, False]),\n",
    "    'avg_len'        : hp.choice('x_avg_len', [6, 12, 18, 24]),\n",
    "}\n",
    "\n",
    "trials = Trials()\n",
    "best_params = fmin(fn=param_opt,\n",
    "            space=space,\n",
    "            algo=partial(tpe.suggest, n_startup_jobs=1),\n",
    "            max_evals=1,\n",
    "            trials=trials)\n",
    "\n",
    "print(\"The best params: \", best_params)"
   ]
  },
  {
   "cell_type": "code",
   "execution_count": 320,
   "metadata": {},
   "outputs": [
    {
     "name": "stdout",
     "output_type": "stream",
     "text": [
      "\r",
      "  0%|                                                                           | 0/1000 [00:00<?, ?it/s, best loss: ?]"
     ]
    },
    {
     "data": {
      "text/plain": [
       "HBox(children=(IntProgress(value=0, max=50), HTML(value='')))"
      ]
     },
     "metadata": {},
     "output_type": "display_data"
    },
    {
     "name": "stdout",
     "output_type": "stream",
     "text": [
      "0.14956424567802246                                                                                                    \n",
      "4.00548671716599                                                                                                       \n",
      "{'avg_len': 24, 'learning_rate': 0.1830408665038808, 'max_depth': 6, 'n_estimators': 150, 'n_jobs': 16, 'objective': 'reg:squarederror', 'random_state': 449, 'subsample': 0.712016545933661, 'y_log': False}\n",
      "  0%|                                               | 1/1000 [13:12<219:51:02, 792.26s/it, best loss: 4.00548671716599]"
     ]
    },
    {
     "data": {
      "text/plain": [
       "HBox(children=(IntProgress(value=0, max=50), HTML(value='')))"
      ]
     },
     "metadata": {},
     "output_type": "display_data"
    },
    {
     "name": "stdout",
     "output_type": "stream",
     "text": [
      "0.14405718590025487                                                                                                    \n",
      "3.9312502402659923                                                                                                     \n",
      "{'avg_len': 24, 'learning_rate': 0.18616093023553912, 'max_depth': 6, 'n_estimators': 150, 'n_jobs': 16, 'objective': 'reg:squarederror', 'random_state': 416, 'subsample': 0.7113001023275932, 'y_log': False}\n",
      "  0%|                                             | 2/1000 [26:33<220:23:43, 795.01s/it, best loss: 3.9312502402659923]"
     ]
    },
    {
     "data": {
      "text/plain": [
       "HBox(children=(IntProgress(value=0, max=50), HTML(value='')))"
      ]
     },
     "metadata": {},
     "output_type": "display_data"
    },
    {
     "name": "stdout",
     "output_type": "stream",
     "text": [
      "0.022231461591235093                                                                                                   \n",
      "4.9253944149489675                                                                                                     \n",
      "{'avg_len': 12, 'learning_rate': 0.2942671643423422, 'max_depth': 6, 'n_estimators': 200, 'n_jobs': 16, 'objective': 'reg:squarederror', 'random_state': 266, 'subsample': 0.7108946447643851, 'y_log': True}\n",
      "  0%|▏                                            | 3/1000 [42:20<232:48:55, 840.66s/it, best loss: 3.9312502402659923]"
     ]
    },
    {
     "data": {
      "text/plain": [
       "HBox(children=(IntProgress(value=0, max=50), HTML(value='')))"
      ]
     },
     "metadata": {},
     "output_type": "display_data"
    },
    {
     "name": "stdout",
     "output_type": "stream",
     "text": [
      "1.0515044183133717                                                                                                     \n",
      "4.175907074567422                                                                                                      \n",
      "{'avg_len': 24, 'learning_rate': 0.05178415519827352, 'max_depth': 7, 'n_estimators': 100, 'n_jobs': 16, 'objective': 'reg:squarederror', 'random_state': 520, 'subsample': 0.988493443014729, 'y_log': False}\n",
      "  0%|▏                                            | 4/1000 [53:31<218:28:59, 789.70s/it, best loss: 3.9312502402659923]"
     ]
    },
    {
     "data": {
      "text/plain": [
       "HBox(children=(IntProgress(value=0, max=50), HTML(value='')))"
      ]
     },
     "metadata": {},
     "output_type": "display_data"
    },
    {
     "name": "stdout",
     "output_type": "stream",
     "text": [
      "0.39247045428833116                                                                                                    \n",
      "3.917424268965554                                                                                                      \n",
      "{'avg_len': 18, 'learning_rate': 0.1661435613994206, 'max_depth': 5, 'n_estimators': 150, 'n_jobs': 16, 'objective': 'reg:squarederror', 'random_state': 793, 'subsample': 0.8633761981456445, 'y_log': False}\n",
      "  0%|▏                                           | 5/1000 [1:03:35<202:51:09, 733.94s/it, best loss: 3.917424268965554]"
     ]
    },
    {
     "data": {
      "text/plain": [
       "HBox(children=(IntProgress(value=0, max=50), HTML(value='')))"
      ]
     },
     "metadata": {},
     "output_type": "display_data"
    },
    {
     "name": "stdout",
     "output_type": "stream",
     "text": [
      "0.8103916407265199                                                                                                     \n",
      "3.8818835750719263                                                                                                     \n",
      "{'avg_len': 18, 'learning_rate': 0.05780029322270833, 'max_depth': 5, 'n_estimators': 250, 'n_jobs': 16, 'objective': 'reg:squarederror', 'random_state': 415, 'subsample': 0.8771666904765363, 'y_log': False}\n",
      "  1%|▎                                          | 6/1000 [1:20:34<226:17:37, 819.57s/it, best loss: 3.8818835750719263]"
     ]
    },
    {
     "data": {
      "text/plain": [
       "HBox(children=(IntProgress(value=0, max=50), HTML(value='')))"
      ]
     },
     "metadata": {},
     "output_type": "display_data"
    },
    {
     "name": "stdout",
     "output_type": "stream",
     "text": [
      "1.1180021908162197                                                                                                     \n",
      "4.547215498275531                                                                                                      \n",
      "{'avg_len': 6, 'learning_rate': 0.054036626351572824, 'max_depth': 5, 'n_estimators': 250, 'n_jobs': 16, 'objective': 'reg:squarederror', 'random_state': 996, 'subsample': 0.8770507704518143, 'y_log': True}\n",
      "  1%|▎                                          | 7/1000 [1:37:05<240:13:43, 870.92s/it, best loss: 3.8818835750719263]"
     ]
    },
    {
     "data": {
      "text/plain": [
       "HBox(children=(IntProgress(value=0, max=50), HTML(value='')))"
      ]
     },
     "metadata": {},
     "output_type": "display_data"
    },
    {
     "name": "stdout",
     "output_type": "stream",
     "text": [
      "2.0336296813587764                                                                                                     \n",
      "4.5067839463800965                                                                                                     \n",
      "{'avg_len': 18, 'learning_rate': 0.10914545194385247, 'max_depth': 5, 'n_estimators': 50, 'n_jobs': 16, 'objective': 'reg:squarederror', 'random_state': 12, 'subsample': 0.9933688261271113, 'y_log': False}\n",
      "  1%|▎                                          | 8/1000 [1:40:42<185:56:09, 674.77s/it, best loss: 3.8818835750719263]"
     ]
    },
    {
     "data": {
      "text/plain": [
       "HBox(children=(IntProgress(value=0, max=50), HTML(value='')))"
      ]
     },
     "metadata": {},
     "output_type": "display_data"
    },
    {
     "name": "stdout",
     "output_type": "stream",
     "text": [
      "0.032968974063551926                                                                                                   \n",
      "4.125016651758744                                                                                                      \n",
      "{'avg_len': 18, 'learning_rate': 0.2831044707402026, 'max_depth': 5, 'n_estimators': 250, 'n_jobs': 16, 'objective': 'reg:squarederror', 'random_state': 702, 'subsample': 0.7940897777874459, 'y_log': False}\n",
      "  1%|▍                                          | 9/1000 [1:57:43<214:17:09, 778.44s/it, best loss: 3.8818835750719263]"
     ]
    },
    {
     "data": {
      "text/plain": [
       "HBox(children=(IntProgress(value=0, max=50), HTML(value='')))"
      ]
     },
     "metadata": {},
     "output_type": "display_data"
    },
    {
     "name": "stdout",
     "output_type": "stream",
     "text": [
      "0.07230659055849928                                                                                                    \n",
      "4.244856599537228                                                                                                      \n",
      "{'avg_len': 18, 'learning_rate': 0.11025826973227537, 'max_depth': 7, 'n_estimators': 250, 'n_jobs': 16, 'objective': 'reg:squarederror', 'random_state': 127, 'subsample': 0.9304477996541667, 'y_log': True}\n",
      "  1%|▍                                        | 10/1000 [2:23:05<275:25:01, 1001.52s/it, best loss: 3.8818835750719263]"
     ]
    },
    {
     "data": {
      "text/plain": [
       "HBox(children=(IntProgress(value=0, max=50), HTML(value='')))"
      ]
     },
     "metadata": {},
     "output_type": "display_data"
    },
    {
     "name": "stdout",
     "output_type": "stream",
     "text": [
      "0.09732042364447269                                                                                                    \n",
      "4.116298021814871                                                                                                      \n",
      "{'avg_len': 6, 'learning_rate': 0.24018765528468355, 'max_depth': 5, 'n_estimators': 200, 'n_jobs': 16, 'objective': 'reg:squarederror', 'random_state': 792, 'subsample': 0.7961354492519435, 'y_log': False}\n",
      "  1%|▍                                         | 11/1000 [2:36:33<259:15:18, 943.70s/it, best loss: 3.8818835750719263]"
     ]
    },
    {
     "data": {
      "text/plain": [
       "HBox(children=(IntProgress(value=0, max=50), HTML(value='')))"
      ]
     },
     "metadata": {},
     "output_type": "display_data"
    },
    {
     "name": "stdout",
     "output_type": "stream",
     "text": [
      "0.4047857841315888                                                                                                     \n",
      "3.826234978362931                                                                                                      \n",
      "{'avg_len': 12, 'learning_rate': 0.09883313838301275, 'max_depth': 5, 'n_estimators': 250, 'n_jobs': 16, 'objective': 'reg:squarederror', 'random_state': 415, 'subsample': 0.9309273247080043, 'y_log': False}\n",
      "  1%|▌                                          | 12/1000 [2:53:05<262:58:07, 958.19s/it, best loss: 3.826234978362931]"
     ]
    },
    {
     "data": {
      "text/plain": [
       "HBox(children=(IntProgress(value=0, max=50), HTML(value='')))"
      ]
     },
     "metadata": {},
     "output_type": "display_data"
    },
    {
     "name": "stdout",
     "output_type": "stream",
     "text": [
      "0.5782804455190304                                                                                                     \n",
      "4.3530587879787825                                                                                                     \n",
      "{'avg_len': 12, 'learning_rate': 0.10873406557981666, 'max_depth': 7, 'n_estimators': 100, 'n_jobs': 16, 'objective': 'reg:squarederror', 'random_state': 289, 'subsample': 0.9269973506448106, 'y_log': True}\n",
      "  1%|▌                                          | 13/1000 [3:03:26<234:56:20, 856.92s/it, best loss: 3.826234978362931]"
     ]
    },
    {
     "data": {
      "text/plain": [
       "HBox(children=(IntProgress(value=0, max=50), HTML(value='')))"
      ]
     },
     "metadata": {},
     "output_type": "display_data"
    },
    {
     "name": "stdout",
     "output_type": "stream",
     "text": [
      "1.6762891367245                                                                                                        \n",
      "4.322782200647166                                                                                                      \n",
      "{'avg_len': 12, 'learning_rate': 0.14542595896780647, 'max_depth': 5, 'n_estimators': 50, 'n_jobs': 16, 'objective': 'reg:squarederror', 'random_state': 634, 'subsample': 0.7761754471175877, 'y_log': False}\n",
      "  1%|▌                                          | 14/1000 [3:07:03<182:07:29, 664.96s/it, best loss: 3.826234978362931]"
     ]
    },
    {
     "data": {
      "text/plain": [
       "HBox(children=(IntProgress(value=0, max=50), HTML(value='')))"
      ]
     },
     "metadata": {},
     "output_type": "display_data"
    },
    {
     "name": "stdout",
     "output_type": "stream",
     "text": [
      "0.0021303339506266814                                                                                                  \n",
      "4.170994108705544                                                                                                      \n",
      "{'avg_len': 12, 'learning_rate': 0.2320421334598349, 'max_depth': 7, 'n_estimators': 250, 'n_jobs': 16, 'objective': 'reg:squarederror', 'random_state': 181, 'subsample': 0.9339880773752596, 'y_log': False}\n",
      "  2%|▋                                          | 15/1000 [3:31:47<249:10:18, 910.68s/it, best loss: 3.826234978362931]"
     ]
    },
    {
     "data": {
      "text/plain": [
       "HBox(children=(IntProgress(value=0, max=50), HTML(value='')))"
      ]
     },
     "metadata": {},
     "output_type": "display_data"
    },
    {
     "name": "stdout",
     "output_type": "stream",
     "text": [
      "0.8234664527783131                                                                                                     \n",
      "4.4551060937827245                                                                                                     \n",
      "{'avg_len': 12, 'learning_rate': 0.08619719876446241, 'max_depth': 5, 'n_estimators': 200, 'n_jobs': 16, 'objective': 'reg:squarederror', 'random_state': 728, 'subsample': 0.82843896785321, 'y_log': True}\n",
      "  2%|▋                                          | 16/1000 [3:45:04<239:34:39, 876.50s/it, best loss: 3.826234978362931]"
     ]
    },
    {
     "data": {
      "text/plain": [
       "HBox(children=(IntProgress(value=0, max=50), HTML(value='')))"
      ]
     },
     "metadata": {},
     "output_type": "display_data"
    },
    {
     "name": "stdout",
     "output_type": "stream",
     "text": [
      "0.20874021701331963                                                                                                    \n",
      "4.100834122361134                                                                                                      \n",
      "{'avg_len': 6, 'learning_rate': 0.2263572159050302, 'max_depth': 6, 'n_estimators': 100, 'n_jobs': 16, 'objective': 'reg:squarederror', 'random_state': 448, 'subsample': 0.960008535970128, 'y_log': False}\n",
      "  2%|▋                                          | 17/1000 [3:53:46<210:18:54, 770.23s/it, best loss: 3.826234978362931]"
     ]
    },
    {
     "data": {
      "text/plain": [
       "HBox(children=(IntProgress(value=0, max=50), HTML(value='')))"
      ]
     },
     "metadata": {},
     "output_type": "display_data"
    },
    {
     "name": "stdout",
     "output_type": "stream",
     "text": [
      "0.6178410329475194                                                                                                     \n",
      "3.836488379343358                                                                                                      \n",
      "{'avg_len': 18, 'learning_rate': 0.07218148608501451, 'max_depth': 5, 'n_estimators': 250, 'n_jobs': 16, 'objective': 'reg:squarederror', 'random_state': 556, 'subsample': 0.8910000280191815, 'y_log': False}\n",
      "  2%|▊                                          | 18/1000 [4:11:01<231:45:58, 849.65s/it, best loss: 3.826234978362931]"
     ]
    },
    {
     "data": {
      "text/plain": [
       "HBox(children=(IntProgress(value=0, max=50), HTML(value='')))"
      ]
     },
     "metadata": {},
     "output_type": "display_data"
    },
    {
     "name": "stdout",
     "output_type": "stream",
     "text": [
      "0.5466384368559177                                                                                                     \n",
      "3.8523934236192146                                                                                                     \n",
      "{'avg_len': 12, 'learning_rate': 0.07937608316643932, 'max_depth': 5, 'n_estimators': 250, 'n_jobs': 16, 'objective': 'reg:squarederror', 'random_state': 807, 'subsample': 0.9026148846879282, 'y_log': False}\n",
      "  2%|▊                                          | 19/1000 [4:29:13<251:19:37, 922.30s/it, best loss: 3.826234978362931]"
     ]
    },
    {
     "data": {
      "text/plain": [
       "HBox(children=(IntProgress(value=0, max=50), HTML(value='')))"
      ]
     },
     "metadata": {},
     "output_type": "display_data"
    },
    {
     "name": "stdout",
     "output_type": "stream",
     "text": [
      "0.22763229139899502                                                                                                    \n",
      "3.82701883681754                                                                                                       \n",
      "{'avg_len': 18, 'learning_rate': 0.1328448617838009, 'max_depth': 5, 'n_estimators': 250, 'n_jobs': 16, 'objective': 'reg:squarederror', 'random_state': 754, 'subsample': 0.8353439009080802, 'y_log': False}\n",
      "  2%|▊                                          | 20/1000 [4:46:13<259:04:36, 951.71s/it, best loss: 3.826234978362931]"
     ]
    },
    {
     "data": {
      "text/plain": [
       "HBox(children=(IntProgress(value=0, max=50), HTML(value='')))"
      ]
     },
     "metadata": {},
     "output_type": "display_data"
    },
    {
     "name": "stdout",
     "output_type": "stream",
     "text": [
      "0.1914188236022737                                                                                                     \n",
      "3.9120775850062146                                                                                                     \n",
      "{'avg_len': 12, 'learning_rate': 0.14389776738460006, 'max_depth': 5, 'n_estimators': 250, 'n_jobs': 16, 'objective': 'reg:squarederror', 'random_state': 862, 'subsample': 0.8334411081286869, 'y_log': False}\n",
      "  2%|▉                                          | 21/1000 [5:03:21<265:00:27, 974.49s/it, best loss: 3.826234978362931]"
     ]
    },
    {
     "data": {
      "text/plain": [
       "HBox(children=(IntProgress(value=0, max=50), HTML(value='')))"
      ]
     },
     "metadata": {},
     "output_type": "display_data"
    },
    {
     "name": "stdout",
     "output_type": "stream",
     "text": [
      "0.21126508470332045                                                                                                    \n",
      "3.8361159495278683                                                                                                     \n",
      "{'avg_len': 18, 'learning_rate': 0.139881946773515, 'max_depth': 5, 'n_estimators': 250, 'n_jobs': 16, 'objective': 'reg:squarederror', 'random_state': 965, 'subsample': 0.7545361798852764, 'y_log': False}\n",
      "  2%|▉                                          | 22/1000 [5:20:19<268:15:52, 987.48s/it, best loss: 3.826234978362931]"
     ]
    },
    {
     "data": {
      "text/plain": [
       "HBox(children=(IntProgress(value=0, max=50), HTML(value='')))"
      ]
     },
     "metadata": {},
     "output_type": "display_data"
    },
    {
     "name": "stdout",
     "output_type": "stream",
     "text": [
      "1.8078013065166594                                                                                                     \n",
      "4.407563084137639                                                                                                      \n",
      "{'avg_len': 18, 'learning_rate': 0.12784809071213843, 'max_depth': 5, 'n_estimators': 50, 'n_jobs': 16, 'objective': 'reg:squarederror', 'random_state': 754, 'subsample': 0.8394270256186855, 'y_log': False}\n",
      "  2%|▉                                          | 23/1000 [5:23:56<205:17:09, 756.43s/it, best loss: 3.826234978362931]"
     ]
    },
    {
     "data": {
      "text/plain": [
       "HBox(children=(IntProgress(value=0, max=50), HTML(value='')))"
      ]
     },
     "metadata": {},
     "output_type": "display_data"
    },
    {
     "name": "stdout",
     "output_type": "stream",
     "text": [
      "0.08108000047198308                                                                                                    \n",
      "4.177735740041598                                                                                                      \n",
      "{'avg_len': 6, 'learning_rate': 0.20276426458154123, 'max_depth': 5, 'n_estimators': 250, 'n_jobs': 16, 'objective': 'reg:squarederror', 'random_state': 941, 'subsample': 0.8138510474669548, 'y_log': False}\n",
      "  2%|█                                          | 24/1000 [5:40:48<225:54:26, 833.27s/it, best loss: 3.826234978362931]"
     ]
    },
    {
     "data": {
      "text/plain": [
       "HBox(children=(IntProgress(value=0, max=50), HTML(value='')))"
      ]
     },
     "metadata": {},
     "output_type": "display_data"
    },
    {
     "name": "stdout",
     "output_type": "stream",
     "text": [
      "0.16581763181948622                                                                                                    \n",
      "3.965574824045959                                                                                                      \n",
      "{'avg_len': 24, 'learning_rate': 0.16366796061678313, 'max_depth': 5, 'n_estimators': 250, 'n_jobs': 16, 'objective': 'reg:squarederror', 'random_state': 491, 'subsample': 0.9560930112420284, 'y_log': False}\n",
      "  2%|█                                          | 25/1000 [5:57:09<237:40:16, 877.56s/it, best loss: 3.826234978362931]"
     ]
    },
    {
     "data": {
      "text/plain": [
       "HBox(children=(IntProgress(value=0, max=50), HTML(value='')))"
      ]
     },
     "metadata": {},
     "output_type": "display_data"
    },
    {
     "name": "stdout",
     "output_type": "stream",
     "text": [
      "0.6237940544358539                                                                                                     \n",
      "4.4818141806229                                                                                                        \n",
      "{'avg_len': 12, 'learning_rate': 0.0950089793283009, 'max_depth': 6, 'n_estimators': 150, 'n_jobs': 16, 'objective': 'reg:squarederror', 'random_state': 499, 'subsample': 0.7574585436485829, 'y_log': True}\n",
      "  3%|█                                          | 26/1000 [6:09:50<227:57:25, 842.55s/it, best loss: 3.826234978362931]"
     ]
    },
    {
     "data": {
      "text/plain": [
       "HBox(children=(IntProgress(value=0, max=50), HTML(value='')))"
      ]
     },
     "metadata": {},
     "output_type": "display_data"
    },
    {
     "name": "stdout",
     "output_type": "stream",
     "text": [
      "0.02732591756873983                                                                                                    \n",
      "3.9400916157522077                                                                                                     \n",
      "{'avg_len': 12, 'learning_rate': 0.1265520873914164, 'max_depth': 7, 'n_estimators': 250, 'n_jobs': 16, 'objective': 'reg:squarederror', 'random_state': 415, 'subsample': 0.8552357252558538, 'y_log': False}\n",
      "  3%|█▏                                        | 27/1000 [6:36:40<289:56:04, 1072.73s/it, best loss: 3.826234978362931]"
     ]
    },
    {
     "data": {
      "text/plain": [
       "HBox(children=(IntProgress(value=0, max=50), HTML(value='')))"
      ]
     },
     "metadata": {},
     "output_type": "display_data"
    },
    {
     "name": "stdout",
     "output_type": "stream",
     "text": [
      "0.5644972700018149                                                                                                     \n",
      "4.09150039771358                                                                                                       \n",
      "{'avg_len': 18, 'learning_rate': 0.19990184851230347, 'max_depth': 5, 'n_estimators': 100, 'n_jobs': 16, 'objective': 'reg:squarederror', 'random_state': 557, 'subsample': 0.9133922110965734, 'y_log': False}\n",
      "  3%|█▏                                         | 28/1000 [6:43:27<235:42:45, 873.01s/it, best loss: 3.826234978362931]"
     ]
    },
    {
     "data": {
      "text/plain": [
       "HBox(children=(IntProgress(value=0, max=50), HTML(value='')))"
      ]
     },
     "metadata": {},
     "output_type": "display_data"
    },
    {
     "name": "stdout",
     "output_type": "stream",
     "text": [
      "0.9734728991662394                                                                                                     \n",
      "4.063732602843533                                                                                                      \n",
      "{'avg_len': 24, 'learning_rate': 0.15946959270965674, 'max_depth': 6, 'n_estimators': 50, 'n_jobs': 16, 'objective': 'reg:squarederror', 'random_state': 313, 'subsample': 0.9631852931913123, 'y_log': False}\n",
      "  3%|█▏                                         | 29/1000 [6:48:00<186:56:45, 693.11s/it, best loss: 3.826234978362931]"
     ]
    },
    {
     "data": {
      "text/plain": [
       "HBox(children=(IntProgress(value=0, max=50), HTML(value='')))"
      ]
     },
     "metadata": {},
     "output_type": "display_data"
    },
    {
     "name": "stdout",
     "output_type": "stream",
     "text": [
      "0.4851544286343079                                                                                                     \n",
      "4.643508924803266                                                                                                      \n",
      "{'avg_len': 6, 'learning_rate': 0.12435187184769086, 'max_depth': 5, 'n_estimators': 200, 'n_jobs': 16, 'objective': 'reg:squarederror', 'random_state': 393, 'subsample': 0.7378011514112722, 'y_log': True}\n",
      "  3%|█▎                                         | 30/1000 [7:01:21<195:26:38, 725.36s/it, best loss: 3.826234978362931]"
     ]
    },
    {
     "data": {
      "text/plain": [
       "HBox(children=(IntProgress(value=0, max=50), HTML(value='')))"
      ]
     },
     "metadata": {},
     "output_type": "display_data"
    },
    {
     "name": "stdout",
     "output_type": "stream",
     "text": [
      "0.13085074088032642                                                                                                    \n",
      "3.9436916164145766                                                                                                     \n",
      "{'avg_len': 24, 'learning_rate': 0.1850143403236004, 'max_depth': 6, 'n_estimators': 150, 'n_jobs': 16, 'objective': 'reg:squarederror', 'random_state': 494, 'subsample': 0.816911158461853, 'y_log': False}\n",
      "  3%|█▎                                         | 31/1000 [7:14:27<200:09:10, 743.60s/it, best loss: 3.826234978362931]"
     ]
    },
    {
     "data": {
      "text/plain": [
       "HBox(children=(IntProgress(value=0, max=50), HTML(value='')))"
      ]
     },
     "metadata": {},
     "output_type": "display_data"
    },
    {
     "name": "stdout",
     "output_type": "stream",
     "text": [
      "0.06578200415073324                                                                                                    \n",
      "3.812568459538359                                                                                                      \n",
      "{'avg_len': 12, 'learning_rate': 0.09667849243325057, 'max_depth': 7, 'n_estimators': 250, 'n_jobs': 16, 'objective': 'reg:squarederror', 'random_state': 225, 'subsample': 0.8868362248263212, 'y_log': False}\n",
      "  3%|█▎                                        | 32/1000 [7:41:27<270:38:33, 1006.52s/it, best loss: 3.812568459538359]"
     ]
    },
    {
     "data": {
      "text/plain": [
       "HBox(children=(IntProgress(value=0, max=50), HTML(value='')))"
      ]
     },
     "metadata": {},
     "output_type": "display_data"
    },
    {
     "name": "stdout",
     "output_type": "stream",
     "text": [
      "\n"
     ]
    },
    {
     "ename": "KeyboardInterrupt",
     "evalue": "",
     "output_type": "error",
     "traceback": [
      "\u001b[1;31m---------------------------------------------------------------------------\u001b[0m",
      "\u001b[1;31mKeyboardInterrupt\u001b[0m                         Traceback (most recent call last)",
      "\u001b[1;32m<ipython-input-320-5324140859df>\u001b[0m in \u001b[0;36m<module>\u001b[1;34m()\u001b[0m\n\u001b[0;32m     48\u001b[0m             \u001b[0malgo\u001b[0m\u001b[1;33m=\u001b[0m\u001b[0mpartial\u001b[0m\u001b[1;33m(\u001b[0m\u001b[0mtpe\u001b[0m\u001b[1;33m.\u001b[0m\u001b[0msuggest\u001b[0m\u001b[1;33m,\u001b[0m \u001b[0mn_startup_jobs\u001b[0m\u001b[1;33m=\u001b[0m\u001b[1;36m1\u001b[0m\u001b[1;33m)\u001b[0m\u001b[1;33m,\u001b[0m\u001b[1;33m\u001b[0m\u001b[1;33m\u001b[0m\u001b[0m\n\u001b[0;32m     49\u001b[0m             \u001b[0mmax_evals\u001b[0m\u001b[1;33m=\u001b[0m\u001b[1;36m1000\u001b[0m\u001b[1;33m,\u001b[0m\u001b[1;33m\u001b[0m\u001b[1;33m\u001b[0m\u001b[0m\n\u001b[1;32m---> 50\u001b[1;33m             trials=trials)\n\u001b[0m\u001b[0;32m     51\u001b[0m \u001b[1;33m\u001b[0m\u001b[0m\n\u001b[0;32m     52\u001b[0m \u001b[0mprint\u001b[0m\u001b[1;33m(\u001b[0m\u001b[1;34m\"The best params: \"\u001b[0m\u001b[1;33m,\u001b[0m \u001b[0mbest_params\u001b[0m\u001b[1;33m)\u001b[0m\u001b[1;33m\u001b[0m\u001b[1;33m\u001b[0m\u001b[0m\n",
      "\u001b[1;32mD:\\Anaconda3\\lib\\site-packages\\hyperopt\\fmin.py\u001b[0m in \u001b[0;36mfmin\u001b[1;34m(fn, space, algo, max_evals, trials, rstate, allow_trials_fmin, pass_expr_memo_ctrl, catch_eval_exceptions, verbose, return_argmin, points_to_evaluate, max_queue_len, show_progressbar)\u001b[0m\n\u001b[0;32m    401\u001b[0m             \u001b[0mcatch_eval_exceptions\u001b[0m\u001b[1;33m=\u001b[0m\u001b[0mcatch_eval_exceptions\u001b[0m\u001b[1;33m,\u001b[0m\u001b[1;33m\u001b[0m\u001b[1;33m\u001b[0m\u001b[0m\n\u001b[0;32m    402\u001b[0m             \u001b[0mreturn_argmin\u001b[0m\u001b[1;33m=\u001b[0m\u001b[0mreturn_argmin\u001b[0m\u001b[1;33m,\u001b[0m\u001b[1;33m\u001b[0m\u001b[1;33m\u001b[0m\u001b[0m\n\u001b[1;32m--> 403\u001b[1;33m             \u001b[0mshow_progressbar\u001b[0m\u001b[1;33m=\u001b[0m\u001b[0mshow_progressbar\u001b[0m\u001b[1;33m,\u001b[0m\u001b[1;33m\u001b[0m\u001b[1;33m\u001b[0m\u001b[0m\n\u001b[0m\u001b[0;32m    404\u001b[0m         )\n\u001b[0;32m    405\u001b[0m \u001b[1;33m\u001b[0m\u001b[0m\n",
      "\u001b[1;32mD:\\Anaconda3\\lib\\site-packages\\hyperopt\\base.py\u001b[0m in \u001b[0;36mfmin\u001b[1;34m(self, fn, space, algo, max_evals, max_queue_len, rstate, verbose, pass_expr_memo_ctrl, catch_eval_exceptions, return_argmin, show_progressbar)\u001b[0m\n\u001b[0;32m    649\u001b[0m             \u001b[0mcatch_eval_exceptions\u001b[0m\u001b[1;33m=\u001b[0m\u001b[0mcatch_eval_exceptions\u001b[0m\u001b[1;33m,\u001b[0m\u001b[1;33m\u001b[0m\u001b[1;33m\u001b[0m\u001b[0m\n\u001b[0;32m    650\u001b[0m             \u001b[0mreturn_argmin\u001b[0m\u001b[1;33m=\u001b[0m\u001b[0mreturn_argmin\u001b[0m\u001b[1;33m,\u001b[0m\u001b[1;33m\u001b[0m\u001b[1;33m\u001b[0m\u001b[0m\n\u001b[1;32m--> 651\u001b[1;33m             show_progressbar=show_progressbar)\n\u001b[0m\u001b[0;32m    652\u001b[0m \u001b[1;33m\u001b[0m\u001b[0m\n\u001b[0;32m    653\u001b[0m \u001b[1;33m\u001b[0m\u001b[0m\n",
      "\u001b[1;32mD:\\Anaconda3\\lib\\site-packages\\hyperopt\\fmin.py\u001b[0m in \u001b[0;36mfmin\u001b[1;34m(fn, space, algo, max_evals, trials, rstate, allow_trials_fmin, pass_expr_memo_ctrl, catch_eval_exceptions, verbose, return_argmin, points_to_evaluate, max_queue_len, show_progressbar)\u001b[0m\n\u001b[0;32m    420\u001b[0m                     show_progressbar=show_progressbar)\n\u001b[0;32m    421\u001b[0m     \u001b[0mrval\u001b[0m\u001b[1;33m.\u001b[0m\u001b[0mcatch_eval_exceptions\u001b[0m \u001b[1;33m=\u001b[0m \u001b[0mcatch_eval_exceptions\u001b[0m\u001b[1;33m\u001b[0m\u001b[1;33m\u001b[0m\u001b[0m\n\u001b[1;32m--> 422\u001b[1;33m     \u001b[0mrval\u001b[0m\u001b[1;33m.\u001b[0m\u001b[0mexhaust\u001b[0m\u001b[1;33m(\u001b[0m\u001b[1;33m)\u001b[0m\u001b[1;33m\u001b[0m\u001b[1;33m\u001b[0m\u001b[0m\n\u001b[0m\u001b[0;32m    423\u001b[0m     \u001b[1;32mif\u001b[0m \u001b[0mreturn_argmin\u001b[0m\u001b[1;33m:\u001b[0m\u001b[1;33m\u001b[0m\u001b[1;33m\u001b[0m\u001b[0m\n\u001b[0;32m    424\u001b[0m         \u001b[1;32mif\u001b[0m \u001b[0mlen\u001b[0m\u001b[1;33m(\u001b[0m\u001b[0mtrials\u001b[0m\u001b[1;33m.\u001b[0m\u001b[0mtrials\u001b[0m\u001b[1;33m)\u001b[0m \u001b[1;33m==\u001b[0m \u001b[1;36m0\u001b[0m\u001b[1;33m:\u001b[0m\u001b[1;33m\u001b[0m\u001b[1;33m\u001b[0m\u001b[0m\n",
      "\u001b[1;32mD:\\Anaconda3\\lib\\site-packages\\hyperopt\\fmin.py\u001b[0m in \u001b[0;36mexhaust\u001b[1;34m(self)\u001b[0m\n\u001b[0;32m    274\u001b[0m     \u001b[1;32mdef\u001b[0m \u001b[0mexhaust\u001b[0m\u001b[1;33m(\u001b[0m\u001b[0mself\u001b[0m\u001b[1;33m)\u001b[0m\u001b[1;33m:\u001b[0m\u001b[1;33m\u001b[0m\u001b[1;33m\u001b[0m\u001b[0m\n\u001b[0;32m    275\u001b[0m         \u001b[0mn_done\u001b[0m \u001b[1;33m=\u001b[0m \u001b[0mlen\u001b[0m\u001b[1;33m(\u001b[0m\u001b[0mself\u001b[0m\u001b[1;33m.\u001b[0m\u001b[0mtrials\u001b[0m\u001b[1;33m)\u001b[0m\u001b[1;33m\u001b[0m\u001b[1;33m\u001b[0m\u001b[0m\n\u001b[1;32m--> 276\u001b[1;33m         \u001b[0mself\u001b[0m\u001b[1;33m.\u001b[0m\u001b[0mrun\u001b[0m\u001b[1;33m(\u001b[0m\u001b[0mself\u001b[0m\u001b[1;33m.\u001b[0m\u001b[0mmax_evals\u001b[0m \u001b[1;33m-\u001b[0m \u001b[0mn_done\u001b[0m\u001b[1;33m,\u001b[0m \u001b[0mblock_until_done\u001b[0m\u001b[1;33m=\u001b[0m\u001b[0mself\u001b[0m\u001b[1;33m.\u001b[0m\u001b[0masynchronous\u001b[0m\u001b[1;33m)\u001b[0m\u001b[1;33m\u001b[0m\u001b[1;33m\u001b[0m\u001b[0m\n\u001b[0m\u001b[0;32m    277\u001b[0m         \u001b[0mself\u001b[0m\u001b[1;33m.\u001b[0m\u001b[0mtrials\u001b[0m\u001b[1;33m.\u001b[0m\u001b[0mrefresh\u001b[0m\u001b[1;33m(\u001b[0m\u001b[1;33m)\u001b[0m\u001b[1;33m\u001b[0m\u001b[1;33m\u001b[0m\u001b[0m\n\u001b[0;32m    278\u001b[0m         \u001b[1;32mreturn\u001b[0m \u001b[0mself\u001b[0m\u001b[1;33m\u001b[0m\u001b[1;33m\u001b[0m\u001b[0m\n",
      "\u001b[1;32mD:\\Anaconda3\\lib\\site-packages\\hyperopt\\fmin.py\u001b[0m in \u001b[0;36mrun\u001b[1;34m(self, N, block_until_done)\u001b[0m\n\u001b[0;32m    239\u001b[0m                     \u001b[1;32melse\u001b[0m\u001b[1;33m:\u001b[0m\u001b[1;33m\u001b[0m\u001b[1;33m\u001b[0m\u001b[0m\n\u001b[0;32m    240\u001b[0m                         \u001b[1;31m# -- loop over trials and do the jobs directly\u001b[0m\u001b[1;33m\u001b[0m\u001b[1;33m\u001b[0m\u001b[1;33m\u001b[0m\u001b[0m\n\u001b[1;32m--> 241\u001b[1;33m                         \u001b[0mself\u001b[0m\u001b[1;33m.\u001b[0m\u001b[0mserial_evaluate\u001b[0m\u001b[1;33m(\u001b[0m\u001b[1;33m)\u001b[0m\u001b[1;33m\u001b[0m\u001b[1;33m\u001b[0m\u001b[0m\n\u001b[0m\u001b[0;32m    242\u001b[0m \u001b[1;33m\u001b[0m\u001b[0m\n\u001b[0;32m    243\u001b[0m                     \u001b[1;32mtry\u001b[0m\u001b[1;33m:\u001b[0m\u001b[1;33m\u001b[0m\u001b[1;33m\u001b[0m\u001b[0m\n",
      "\u001b[1;32mD:\\Anaconda3\\lib\\site-packages\\hyperopt\\fmin.py\u001b[0m in \u001b[0;36mserial_evaluate\u001b[1;34m(self, N)\u001b[0m\n\u001b[0;32m    139\u001b[0m                 \u001b[0mctrl\u001b[0m \u001b[1;33m=\u001b[0m \u001b[0mbase\u001b[0m\u001b[1;33m.\u001b[0m\u001b[0mCtrl\u001b[0m\u001b[1;33m(\u001b[0m\u001b[0mself\u001b[0m\u001b[1;33m.\u001b[0m\u001b[0mtrials\u001b[0m\u001b[1;33m,\u001b[0m \u001b[0mcurrent_trial\u001b[0m\u001b[1;33m=\u001b[0m\u001b[0mtrial\u001b[0m\u001b[1;33m)\u001b[0m\u001b[1;33m\u001b[0m\u001b[1;33m\u001b[0m\u001b[0m\n\u001b[0;32m    140\u001b[0m                 \u001b[1;32mtry\u001b[0m\u001b[1;33m:\u001b[0m\u001b[1;33m\u001b[0m\u001b[1;33m\u001b[0m\u001b[0m\n\u001b[1;32m--> 141\u001b[1;33m                     \u001b[0mresult\u001b[0m \u001b[1;33m=\u001b[0m \u001b[0mself\u001b[0m\u001b[1;33m.\u001b[0m\u001b[0mdomain\u001b[0m\u001b[1;33m.\u001b[0m\u001b[0mevaluate\u001b[0m\u001b[1;33m(\u001b[0m\u001b[0mspec\u001b[0m\u001b[1;33m,\u001b[0m \u001b[0mctrl\u001b[0m\u001b[1;33m)\u001b[0m\u001b[1;33m\u001b[0m\u001b[1;33m\u001b[0m\u001b[0m\n\u001b[0m\u001b[0;32m    142\u001b[0m                 \u001b[1;32mexcept\u001b[0m \u001b[0mException\u001b[0m \u001b[1;32mas\u001b[0m \u001b[0me\u001b[0m\u001b[1;33m:\u001b[0m\u001b[1;33m\u001b[0m\u001b[1;33m\u001b[0m\u001b[0m\n\u001b[0;32m    143\u001b[0m                     \u001b[0mlogger\u001b[0m\u001b[1;33m.\u001b[0m\u001b[0minfo\u001b[0m\u001b[1;33m(\u001b[0m\u001b[1;34m'job exception: %s'\u001b[0m \u001b[1;33m%\u001b[0m \u001b[0mstr\u001b[0m\u001b[1;33m(\u001b[0m\u001b[0me\u001b[0m\u001b[1;33m)\u001b[0m\u001b[1;33m)\u001b[0m\u001b[1;33m\u001b[0m\u001b[1;33m\u001b[0m\u001b[0m\n",
      "\u001b[1;32mD:\\Anaconda3\\lib\\site-packages\\hyperopt\\base.py\u001b[0m in \u001b[0;36mevaluate\u001b[1;34m(self, config, ctrl, attach_attachments)\u001b[0m\n\u001b[0;32m    854\u001b[0m                 \u001b[0mmemo\u001b[0m\u001b[1;33m=\u001b[0m\u001b[0mmemo\u001b[0m\u001b[1;33m,\u001b[0m\u001b[1;33m\u001b[0m\u001b[1;33m\u001b[0m\u001b[0m\n\u001b[0;32m    855\u001b[0m                 print_node_on_error=self.rec_eval_print_node_on_error)\n\u001b[1;32m--> 856\u001b[1;33m             \u001b[0mrval\u001b[0m \u001b[1;33m=\u001b[0m \u001b[0mself\u001b[0m\u001b[1;33m.\u001b[0m\u001b[0mfn\u001b[0m\u001b[1;33m(\u001b[0m\u001b[0mpyll_rval\u001b[0m\u001b[1;33m)\u001b[0m\u001b[1;33m\u001b[0m\u001b[1;33m\u001b[0m\u001b[0m\n\u001b[0m\u001b[0;32m    857\u001b[0m \u001b[1;33m\u001b[0m\u001b[0m\n\u001b[0;32m    858\u001b[0m         \u001b[1;32mif\u001b[0m \u001b[0misinstance\u001b[0m\u001b[1;33m(\u001b[0m\u001b[0mrval\u001b[0m\u001b[1;33m,\u001b[0m \u001b[1;33m(\u001b[0m\u001b[0mfloat\u001b[0m\u001b[1;33m,\u001b[0m \u001b[0mint\u001b[0m\u001b[1;33m,\u001b[0m \u001b[0mnp\u001b[0m\u001b[1;33m.\u001b[0m\u001b[0mnumber\u001b[0m\u001b[1;33m)\u001b[0m\u001b[1;33m)\u001b[0m\u001b[1;33m:\u001b[0m\u001b[1;33m\u001b[0m\u001b[1;33m\u001b[0m\u001b[0m\n",
      "\u001b[1;32m<ipython-input-320-5324140859df>\u001b[0m in \u001b[0;36mparam_opt\u001b[1;34m(space)\u001b[0m\n\u001b[0;32m     25\u001b[0m     }\n\u001b[0;32m     26\u001b[0m \u001b[1;33m\u001b[0m\u001b[0m\n\u001b[1;32m---> 27\u001b[1;33m     \u001b[0mglobal_scores\u001b[0m\u001b[1;33m,\u001b[0m \u001b[0mlast_day_scores\u001b[0m\u001b[1;33m,\u001b[0m \u001b[0mmodels\u001b[0m\u001b[1;33m,\u001b[0m \u001b[0my_pred_all\u001b[0m\u001b[1;33m,\u001b[0m \u001b[0mtrain_df\u001b[0m\u001b[1;33m,\u001b[0m \u001b[0mlast_days_df\u001b[0m\u001b[1;33m,\u001b[0m \u001b[0my_train_all\u001b[0m\u001b[1;33m,\u001b[0m \u001b[0my_last_days\u001b[0m\u001b[1;33m,\u001b[0m \u001b[0my_last_pred\u001b[0m \u001b[1;33m=\u001b[0m         \u001b[0mrun_model_day\u001b[0m\u001b[1;33m(\u001b[0m\u001b[1;33m**\u001b[0m\u001b[0mwith_params\u001b[0m\u001b[1;33m)\u001b[0m\u001b[1;33m\u001b[0m\u001b[1;33m\u001b[0m\u001b[0m\n\u001b[0m\u001b[0;32m     28\u001b[0m \u001b[1;33m\u001b[0m\u001b[0m\n\u001b[0;32m     29\u001b[0m \u001b[1;31m#     print(last_day_scores.mean(), params, y_log)\u001b[0m\u001b[1;33m\u001b[0m\u001b[1;33m\u001b[0m\u001b[1;33m\u001b[0m\u001b[0m\n",
      "\u001b[1;32m<ipython-input-319-bc33678df894>\u001b[0m in \u001b[0;36mrun_model_day\u001b[1;34m(nr, model_selected, model_params, parts_to_go, feats_selected, y_log)\u001b[0m\n\u001b[0;32m     21\u001b[0m             \u001b[0my\u001b[0m \u001b[1;33m=\u001b[0m \u001b[0mpd\u001b[0m\u001b[1;33m.\u001b[0m\u001b[0mSeries\u001b[0m\u001b[1;33m(\u001b[0m\u001b[0my\u001b[0m\u001b[1;33m)\u001b[0m\u001b[1;33m.\u001b[0m\u001b[0mshift\u001b[0m\u001b[1;33m(\u001b[0m\u001b[1;33m-\u001b[0m\u001b[1;36m1\u001b[0m\u001b[1;33m)\u001b[0m\u001b[1;33m.\u001b[0m\u001b[0mvalues\u001b[0m                   \u001b[1;31m# przesuwa pm25 o 1h w przeszłość\u001b[0m\u001b[1;33m\u001b[0m\u001b[1;33m\u001b[0m\u001b[0m\n\u001b[0;32m     22\u001b[0m             \u001b[0my_train\u001b[0m \u001b[1;33m=\u001b[0m \u001b[0my\u001b[0m\u001b[1;33m[\u001b[0m\u001b[1;36m0\u001b[0m\u001b[1;33m:\u001b[0m\u001b[1;33m-\u001b[0m\u001b[0mnr\u001b[0m\u001b[1;33m-\u001b[0m\u001b[1;36m25\u001b[0m\u001b[1;33m]\u001b[0m\u001b[1;33m\u001b[0m\u001b[1;33m\u001b[0m\u001b[0m\n\u001b[1;32m---> 23\u001b[1;33m             \u001b[0mmodels\u001b[0m\u001b[1;33m[\u001b[0m\u001b[0mi\u001b[0m\u001b[1;33m]\u001b[0m\u001b[1;33m.\u001b[0m\u001b[0mfit\u001b[0m\u001b[1;33m(\u001b[0m\u001b[0mX_train\u001b[0m\u001b[1;33m,\u001b[0m \u001b[0my_train\u001b[0m\u001b[1;33m)\u001b[0m\u001b[1;33m\u001b[0m\u001b[1;33m\u001b[0m\u001b[0m\n\u001b[0m\u001b[0;32m     24\u001b[0m             \u001b[0my_last\u001b[0m \u001b[1;33m=\u001b[0m \u001b[1;33m(\u001b[0m\u001b[0mmodels\u001b[0m\u001b[1;33m[\u001b[0m\u001b[0mi\u001b[0m\u001b[1;33m]\u001b[0m\u001b[1;33m.\u001b[0m\u001b[0mpredict\u001b[0m\u001b[1;33m(\u001b[0m\u001b[0mX_last\u001b[0m\u001b[1;33m)\u001b[0m\u001b[1;33m)\u001b[0m\u001b[1;33m.\u001b[0m\u001b[0mastype\u001b[0m\u001b[1;33m(\u001b[0m\u001b[0mnp\u001b[0m\u001b[1;33m.\u001b[0m\u001b[0mfloat64\u001b[0m\u001b[1;33m)\u001b[0m\u001b[1;33m\u001b[0m\u001b[1;33m\u001b[0m\u001b[0m\n\u001b[0;32m     25\u001b[0m             \u001b[0my\u001b[0m\u001b[1;33m[\u001b[0m\u001b[1;33m-\u001b[0m\u001b[1;36m25\u001b[0m\u001b[1;33m]\u001b[0m \u001b[1;33m=\u001b[0m \u001b[0my_last\u001b[0m\u001b[1;33m[\u001b[0m\u001b[1;36m0\u001b[0m\u001b[1;33m]\u001b[0m                                  \u001b[1;31m# prognoza na 1h\u001b[0m\u001b[1;33m\u001b[0m\u001b[1;33m\u001b[0m\u001b[0m\n",
      "\u001b[1;32mD:\\Anaconda3\\lib\\site-packages\\xgboost\\sklearn.py\u001b[0m in \u001b[0;36mfit\u001b[1;34m(self, X, y, sample_weight, eval_set, eval_metric, early_stopping_rounds, verbose, xgb_model, sample_weight_eval_set, callbacks)\u001b[0m\n\u001b[0;32m    394\u001b[0m                               \u001b[0mevals_result\u001b[0m\u001b[1;33m=\u001b[0m\u001b[0mevals_result\u001b[0m\u001b[1;33m,\u001b[0m \u001b[0mobj\u001b[0m\u001b[1;33m=\u001b[0m\u001b[0mobj\u001b[0m\u001b[1;33m,\u001b[0m \u001b[0mfeval\u001b[0m\u001b[1;33m=\u001b[0m\u001b[0mfeval\u001b[0m\u001b[1;33m,\u001b[0m\u001b[1;33m\u001b[0m\u001b[1;33m\u001b[0m\u001b[0m\n\u001b[0;32m    395\u001b[0m                               \u001b[0mverbose_eval\u001b[0m\u001b[1;33m=\u001b[0m\u001b[0mverbose\u001b[0m\u001b[1;33m,\u001b[0m \u001b[0mxgb_model\u001b[0m\u001b[1;33m=\u001b[0m\u001b[0mxgb_model\u001b[0m\u001b[1;33m,\u001b[0m\u001b[1;33m\u001b[0m\u001b[1;33m\u001b[0m\u001b[0m\n\u001b[1;32m--> 396\u001b[1;33m                               callbacks=callbacks)\n\u001b[0m\u001b[0;32m    397\u001b[0m \u001b[1;33m\u001b[0m\u001b[0m\n\u001b[0;32m    398\u001b[0m         \u001b[1;32mif\u001b[0m \u001b[0mevals_result\u001b[0m\u001b[1;33m:\u001b[0m\u001b[1;33m\u001b[0m\u001b[1;33m\u001b[0m\u001b[0m\n",
      "\u001b[1;32mD:\\Anaconda3\\lib\\site-packages\\xgboost\\training.py\u001b[0m in \u001b[0;36mtrain\u001b[1;34m(params, dtrain, num_boost_round, evals, obj, feval, maximize, early_stopping_rounds, evals_result, verbose_eval, xgb_model, callbacks, learning_rates)\u001b[0m\n\u001b[0;32m    214\u001b[0m                            \u001b[0mevals\u001b[0m\u001b[1;33m=\u001b[0m\u001b[0mevals\u001b[0m\u001b[1;33m,\u001b[0m\u001b[1;33m\u001b[0m\u001b[1;33m\u001b[0m\u001b[0m\n\u001b[0;32m    215\u001b[0m                            \u001b[0mobj\u001b[0m\u001b[1;33m=\u001b[0m\u001b[0mobj\u001b[0m\u001b[1;33m,\u001b[0m \u001b[0mfeval\u001b[0m\u001b[1;33m=\u001b[0m\u001b[0mfeval\u001b[0m\u001b[1;33m,\u001b[0m\u001b[1;33m\u001b[0m\u001b[1;33m\u001b[0m\u001b[0m\n\u001b[1;32m--> 216\u001b[1;33m                            xgb_model=xgb_model, callbacks=callbacks)\n\u001b[0m\u001b[0;32m    217\u001b[0m \u001b[1;33m\u001b[0m\u001b[0m\n\u001b[0;32m    218\u001b[0m \u001b[1;33m\u001b[0m\u001b[0m\n",
      "\u001b[1;32mD:\\Anaconda3\\lib\\site-packages\\xgboost\\training.py\u001b[0m in \u001b[0;36m_train_internal\u001b[1;34m(params, dtrain, num_boost_round, evals, obj, feval, xgb_model, callbacks)\u001b[0m\n\u001b[0;32m     72\u001b[0m         \u001b[1;31m# Skip the first update if it is a recovery step.\u001b[0m\u001b[1;33m\u001b[0m\u001b[1;33m\u001b[0m\u001b[1;33m\u001b[0m\u001b[0m\n\u001b[0;32m     73\u001b[0m         \u001b[1;32mif\u001b[0m \u001b[0mversion\u001b[0m \u001b[1;33m%\u001b[0m \u001b[1;36m2\u001b[0m \u001b[1;33m==\u001b[0m \u001b[1;36m0\u001b[0m\u001b[1;33m:\u001b[0m\u001b[1;33m\u001b[0m\u001b[1;33m\u001b[0m\u001b[0m\n\u001b[1;32m---> 74\u001b[1;33m             \u001b[0mbst\u001b[0m\u001b[1;33m.\u001b[0m\u001b[0mupdate\u001b[0m\u001b[1;33m(\u001b[0m\u001b[0mdtrain\u001b[0m\u001b[1;33m,\u001b[0m \u001b[0mi\u001b[0m\u001b[1;33m,\u001b[0m \u001b[0mobj\u001b[0m\u001b[1;33m)\u001b[0m\u001b[1;33m\u001b[0m\u001b[1;33m\u001b[0m\u001b[0m\n\u001b[0m\u001b[0;32m     75\u001b[0m             \u001b[0mbst\u001b[0m\u001b[1;33m.\u001b[0m\u001b[0msave_rabit_checkpoint\u001b[0m\u001b[1;33m(\u001b[0m\u001b[1;33m)\u001b[0m\u001b[1;33m\u001b[0m\u001b[1;33m\u001b[0m\u001b[0m\n\u001b[0;32m     76\u001b[0m             \u001b[0mversion\u001b[0m \u001b[1;33m+=\u001b[0m \u001b[1;36m1\u001b[0m\u001b[1;33m\u001b[0m\u001b[1;33m\u001b[0m\u001b[0m\n",
      "\u001b[1;32mD:\\Anaconda3\\lib\\site-packages\\xgboost\\core.py\u001b[0m in \u001b[0;36mupdate\u001b[1;34m(self, dtrain, iteration, fobj)\u001b[0m\n\u001b[0;32m   1107\u001b[0m         \u001b[1;32mif\u001b[0m \u001b[0mfobj\u001b[0m \u001b[1;32mis\u001b[0m \u001b[1;32mNone\u001b[0m\u001b[1;33m:\u001b[0m\u001b[1;33m\u001b[0m\u001b[1;33m\u001b[0m\u001b[0m\n\u001b[0;32m   1108\u001b[0m             _check_call(_LIB.XGBoosterUpdateOneIter(self.handle, ctypes.c_int(iteration),\n\u001b[1;32m-> 1109\u001b[1;33m                                                     dtrain.handle))\n\u001b[0m\u001b[0;32m   1110\u001b[0m         \u001b[1;32melse\u001b[0m\u001b[1;33m:\u001b[0m\u001b[1;33m\u001b[0m\u001b[1;33m\u001b[0m\u001b[0m\n\u001b[0;32m   1111\u001b[0m             \u001b[0mpred\u001b[0m \u001b[1;33m=\u001b[0m \u001b[0mself\u001b[0m\u001b[1;33m.\u001b[0m\u001b[0mpredict\u001b[0m\u001b[1;33m(\u001b[0m\u001b[0mdtrain\u001b[0m\u001b[1;33m)\u001b[0m\u001b[1;33m\u001b[0m\u001b[1;33m\u001b[0m\u001b[0m\n",
      "\u001b[1;31mKeyboardInterrupt\u001b[0m: "
     ]
    }
   ],
   "source": [
    "# poszukiwanie optymalnych parametrów dla modeli tylko ze średnią z 'pm25'\n",
    "\n",
    "def space_to_param(space):\n",
    "    int_param = ['max_depth', 'random_state', 'min_child_weight', 'n_estimators', 'n_jobs']\n",
    "    params  = {}\n",
    "    for x in space:\n",
    "        if x == 'y_log':         y_log  = space[x]\n",
    "        if x == 'avg_len':       avg_len  = int(space[x])\n",
    "        if x in int_param:       params[x] = int(space[x])   \n",
    "        else:                    params[x] = space[x]            \n",
    "    return y_log, params, avg_len\n",
    "\n",
    "def param_opt(space):\n",
    "    \n",
    "    y_log, params, avg_len = space_to_param(space)\n",
    "        \n",
    "    df, train, test, parts, num_feats, omit_feats, time_feats, black_list_feats = \\\n",
    "        feature_engineering_avg_no_shift(avg_len=avg_len)\n",
    "    feats = num_feats\n",
    "\n",
    "    with_params = {\n",
    "        'model_params'   : params,\n",
    "        'parts_to_go'    : parts,\n",
    "        'y_log'          : y_log,\n",
    "        'feats_selected' : feats,\n",
    "        'nr'             : 24,\n",
    "        'model_selected' : xgb.XGBRegressor,\n",
    "    }\n",
    "    \n",
    "    global_scores, last_day_scores, models, y_pred_all, train_df, last_days_df, y_train_all, y_last_days, y_last_pred = \\\n",
    "        run_model_day(**with_params)\n",
    "\n",
    "    return{'loss': last_day_scores.mean(), 'status': STATUS_OK }\n",
    "\n",
    "space ={\n",
    "    'subsample'      : hp.uniform('x_subsample', 0.7, 1.),\n",
    "    'learning_rate'  : hp.uniform('x_learning_rate', 0.05, 0.3),\n",
    "    'random_state'   : hp.choice('x_random_state', range(1, 1000, 1)),\n",
    "    'max_depth'      : hp.choice('x_max_depth', range(5, 8, 1)),\n",
    "    'n_estimators'   : hp.choice('x_n_estimators', range(50, 300, 50)),\n",
    "    'objective'      : 'reg:squarederror',\n",
    "    'n_jobs'         : 8,\n",
    "    'y_log'          : hp.choice('x_y_log', [True, False]),\n",
    "    'avg_len'        : hp.choice('x_avg_len', [6, 12, 18, 24])\n",
    "}\n",
    "\n",
    "trials = Trials()\n",
    "best_params = fmin(fn=param_opt,\n",
    "            space=space,\n",
    "            algo=partial(tpe.suggest, n_startup_jobs=1),\n",
    "            max_evals=1,\n",
    "            trials=trials)\n",
    "\n",
    "print(\"The best params: \", best_params)"
   ]
  }
 ],
 "metadata": {
  "kernelspec": {
   "display_name": "Python 3",
   "language": "python",
   "name": "python3"
  },
  "language_info": {
   "codemirror_mode": {
    "name": "ipython",
    "version": 3
   },
   "file_extension": ".py",
   "mimetype": "text/x-python",
   "name": "python",
   "nbconvert_exporter": "python",
   "pygments_lexer": "ipython3",
   "version": "3.7.6"
  }
 },
 "nbformat": 4,
 "nbformat_minor": 2
}
